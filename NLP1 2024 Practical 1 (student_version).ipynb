{
 "cells": [
  {
   "cell_type": "markdown",
   "metadata": {
    "id": "1-aRiOgl4nHg"
   },
   "source": [
    "------\n",
    "**You cannot save any changes you make to this file, so please make sure to save it on your Google Colab drive or download it as a .ipynb file.**\n",
    "\n",
    "------\n",
    "\n"
   ]
  },
  {
   "cell_type": "markdown",
   "metadata": {
    "id": "lIZrAUx57vsM"
   },
   "source": [
    "Practical 1: Sentiment Detection in Movie Reviews\n",
    "========================================\n",
    "\n"
   ]
  },
  {
   "cell_type": "markdown",
   "metadata": {
    "id": "J4kXPMhyngZW"
   },
   "source": [
    "This practical concerns detecting sentiment in movie reviews. This is a typical NLP classification task.\n",
    "In [this file](https://gist.githubusercontent.com/bastings/d47423301cca214e3930061a5a75e177/raw/5113687382919e22b1f09ce71a8fecd1687a5760/reviews.json) (80MB) you will find 1000 positive and 1000 negative **movie reviews**.\n",
    "Each review is a **document** and consists of one or more sentences.\n",
    "\n",
    "To prepare yourself for this practical, you should\n",
    "have a look at a few of these texts to understand the difficulties of\n",
    "the task: how might one go about classifying the texts? You will write\n",
    "code that decides whether a movie review conveys positive or\n",
    "negative sentiment.\n",
    "\n",
    "Please make sure you have read the following paper:\n",
    "\n",
    ">   Bo Pang, Lillian Lee, and Shivakumar Vaithyanathan\n",
    "(2002).\n",
    "[Thumbs up? Sentiment Classification using Machine Learning\n",
    "Techniques](https://dl.acm.org/citation.cfm?id=1118704). EMNLP.\n",
    "\n",
    "Bo Pang et al. introduced the movie review sentiment\n",
    "classification task, and the above paper was one of the first papers on\n",
    "the topic. The first version of your sentiment classifier will do\n",
    "something similar to Pang et al.'s system. If you have questions about it,\n",
    "you should resolve you doubts as soon as possible with your TA.\n"
   ]
  },
  {
   "cell_type": "markdown",
   "metadata": {
    "id": "cb7errgRASzZ"
   },
   "source": [
    "**Advice**\n",
    "\n",
    "Please read through the entire practical and familiarise\n",
    "yourself with all requirements before you start coding or otherwise\n",
    "solving the tasks. Writing clean and concise code can make the difference\n",
    "between solving the assignment in a matter of hours, and taking days to\n",
    "run all experiments.\n",
    "\n",
    "\n",
    "**Implementation**\n",
    "\n",
    "While we inserted code cells to indicate where you should implement your own code, please feel free to add/remove code blocks where you see fit (but make sure that the general structure of the assignment is preserved). Also, please keep in mind that it is always good practice to structure your code properly, e.g., by implementing separate classes and functions that can be reused. **Make sure you run all your code before submitting the notebook, and do not leave unnecessary print statements / cells in your notebook that are not intended for the grader.**\n",
    "\n",
    "## Environment\n",
    "\n",
    "All code should be written in **Python 3**.\n",
    "This is the default in Google Colab."
   ]
  },
  {
   "cell_type": "code",
   "metadata": {
    "colab": {
     "base_uri": "https://localhost:8080/"
    },
    "executionInfo": {
     "elapsed": 21,
     "status": "ok",
     "timestamp": 1698047665308,
     "user": {
      "displayName": "XUE LI",
      "userId": "02386889076941396043"
     },
     "user_tz": -120
    },
    "id": "SaZnxptMJiD7",
    "outputId": "18c3a760-90b6-4d90-e507-aba57841ae23",
    "ExecuteTime": {
     "end_time": "2024-11-07T13:44:55.645450Z",
     "start_time": "2024-11-07T13:44:55.491167Z"
    }
   },
   "source": [
    "!python --version"
   ],
   "outputs": [
    {
     "name": "stdout",
     "output_type": "stream",
     "text": [
      "Python 3.10.15\r\n"
     ]
    }
   ],
   "execution_count": 37
  },
  {
   "cell_type": "markdown",
   "metadata": {
    "id": "BYZyIF7lJnGn"
   },
   "source": [
    "If you want to run code on your own computer, then download this notebook through `File -> Download .ipynb`.\n",
    "The easiest way to\n",
    "install Python is through downloading\n",
    "[Anaconda](https://www.anaconda.com/download).\n",
    "After installation, you can start the notebook by typing `jupyter notebook filename.ipynb`.\n",
    "You can also use an IDE\n",
    "such as [PyCharm](https://www.jetbrains.com/pycharm/download/) to make\n",
    "coding and debugging easier. It is good practice to create a [virtual\n",
    "environment](https://docs.python.org/3/tutorial/venv.html) for this\n",
    "project, so that any Python packages don’t interfere with other\n",
    "projects.\n",
    "\n",
    "\n",
    "**Learning Python 3**\n",
    "\n",
    "If you are new to Python 3, you may want to check out a few of these resources:\n",
    "- https://learnxinyminutes.com/docs/python3/\n",
    "- https://www.learnpython.org/\n",
    "- https://docs.python.org/3/tutorial/"
   ]
  },
  {
   "cell_type": "code",
   "metadata": {
    "id": "hok-BFu9lGoK",
    "ExecuteTime": {
     "end_time": "2024-11-07T13:44:55.656975Z",
     "start_time": "2024-11-07T13:44:55.650193Z"
    }
   },
   "source": [
    "import math\n",
    "import os\n",
    "import sys\n",
    "from subprocess import call\n",
    "from nltk import FreqDist\n",
    "from nltk.util import ngrams\n",
    "from nltk.stem.porter import PorterStemmer\n",
    "import sklearn as sk\n",
    "#from google.colab import drive\n",
    "import pickle\n",
    "import json\n",
    "from collections import Counter\n",
    "import requests\n",
    "import matplotlib.pyplot as plt\n",
    "import numpy as np\n",
    "import string\n",
    "import copy\n",
    "import warnings\n",
    "warnings.filterwarnings('ignore')"
   ],
   "outputs": [],
   "execution_count": 38
  },
  {
   "cell_type": "markdown",
   "metadata": {
    "id": "bXWyGHwE-ieQ"
   },
   "source": [
    "## Loading the data\n",
    "\n",
    "**Download the sentiment lexicon and the movie reviews dataset.**"
   ]
  },
  {
   "cell_type": "code",
   "metadata": {
    "colab": {
     "base_uri": "https://localhost:8080/"
    },
    "executionInfo": {
     "elapsed": 1808,
     "status": "ok",
     "timestamp": 1698047686292,
     "user": {
      "displayName": "XUE LI",
      "userId": "02386889076941396043"
     },
     "user_tz": -120
    },
    "id": "lm-rakqtlMOT",
    "outputId": "1b6b1152-50b7-4161-aab2-03da318d6981",
    "ExecuteTime": {
     "end_time": "2024-11-07T13:45:03.618884Z",
     "start_time": "2024-11-07T13:44:55.868804Z"
    }
   },
   "source": [
    "# download sentiment lexicon\n",
    "!wget https://gist.githubusercontent.com/bastings/d6f99dcb6c82231b94b013031356ba05/raw/f80a0281eba8621b122012c89c8b5e2200b39fd6/sent_lexicon\n",
    "# download review data\n",
    "!wget https://gist.githubusercontent.com/bastings/d47423301cca214e3930061a5a75e177/raw/5113687382919e22b1f09ce71a8fecd1687a5760/reviews.json"
   ],
   "outputs": [
    {
     "name": "stdout",
     "output_type": "stream",
     "text": [
      "--2024-11-07 14:44:56--  https://gist.githubusercontent.com/bastings/d6f99dcb6c82231b94b013031356ba05/raw/f80a0281eba8621b122012c89c8b5e2200b39fd6/sent_lexicon\r\n",
      "Resolving gist.githubusercontent.com (gist.githubusercontent.com)... 185.199.110.133, 185.199.111.133, 185.199.108.133, ...\r\n",
      "Connecting to gist.githubusercontent.com (gist.githubusercontent.com)|185.199.110.133|:443... connected.\r\n",
      "HTTP request sent, awaiting response... 200 OK\r\n",
      "Length: 662577 (647K) [text/plain]\r\n",
      "Saving to: ‘sent_lexicon.25’\r\n",
      "\r\n",
      "sent_lexicon.25     100%[===================>] 647.05K  3.52MB/s    in 0.2s    \r\n",
      "\r\n",
      "2024-11-07 14:44:56 (3.52 MB/s) - ‘sent_lexicon.25’ saved [662577/662577]\r\n",
      "\r\n",
      "--2024-11-07 14:44:56--  https://gist.githubusercontent.com/bastings/d47423301cca214e3930061a5a75e177/raw/5113687382919e22b1f09ce71a8fecd1687a5760/reviews.json\r\n",
      "Resolving gist.githubusercontent.com (gist.githubusercontent.com)... 185.199.110.133, 185.199.111.133, 185.199.108.133, ...\r\n",
      "Connecting to gist.githubusercontent.com (gist.githubusercontent.com)|185.199.110.133|:443... connected.\r\n",
      "HTTP request sent, awaiting response... 200 OK\r\n",
      "Length: 83503869 (80M) [text/plain]\r\n",
      "Saving to: ‘reviews.json.24’\r\n",
      "\r\n",
      "reviews.json.24     100%[===================>]  79.63M  25.0MB/s    in 3.2s    \r\n",
      "\r\n",
      "2024-11-07 14:45:03 (24.9 MB/s) - ‘reviews.json.24’ saved [83503869/83503869]\r\n",
      "\r\n"
     ]
    }
   ],
   "execution_count": 39
  },
  {
   "cell_type": "markdown",
   "metadata": {
    "id": "AkPwuHp5LSuQ"
   },
   "source": [
    "**Load the movie reviews.**\n",
    "\n",
    "Each word in a review comes with its part-of-speech tag. For documentation on POS-tags, see https://catalog.ldc.upenn.edu/docs/LDC99T42/tagguid1.pdf.\n"
   ]
  },
  {
   "cell_type": "code",
   "metadata": {
    "colab": {
     "base_uri": "https://localhost:8080/"
    },
    "executionInfo": {
     "elapsed": 3917,
     "status": "ok",
     "timestamp": 1698047715771,
     "user": {
      "displayName": "XUE LI",
      "userId": "02386889076941396043"
     },
     "user_tz": -120
    },
    "id": "careEKj-mRpl",
    "outputId": "a6f3c385-5106-49ec-be89-4aff971eb05b",
    "ExecuteTime": {
     "end_time": "2024-11-07T13:45:05.464716Z",
     "start_time": "2024-11-07T13:45:03.685381Z"
    }
   },
   "source": [
    "# file structure:\n",
    "# [\n",
    "#  {\"cv\": integer, \"sentiment\": str, \"content\": list}\n",
    "#  {\"cv\": integer, \"sentiment\": str, \"content\": list}\n",
    "#   ..\n",
    "# ]\n",
    "# where `content` is a list of sentences,\n",
    "# with a sentence being a list of (token, pos_tag) pairs.\n",
    "\n",
    "\n",
    "with open(\"reviews.json\", mode=\"r\", encoding=\"utf-8\") as f:\n",
    "  reviews = json.load(f)\n",
    "\n",
    "print(\"Total number of reviews:\", len(reviews), '\\n')\n",
    "\n",
    "def print_sentence_with_pos(s):\n",
    "  print(\" \".join(\"%s/%s\" % (token, pos_tag) for token, pos_tag in s))\n",
    "\n",
    "for i, r in enumerate(reviews):\n",
    "  print(r[\"cv\"], r[\"sentiment\"], len(r[\"content\"]))  # cv, sentiment, num sents\n",
    "  print_sentence_with_pos(r[\"content\"][0])\n",
    "  if i == 4:\n",
    "    break\n",
    "\n",
    "c = Counter()\n",
    "for review in reviews:\n",
    "  for sentence in review[\"content\"]:\n",
    "    for token, pos_tag in sentence:\n",
    "      c[token.lower()] += 1\n",
    "\n",
    "print(\"\\nNumber of word types:\", len(c))\n",
    "print(\"Number of word tokens:\", sum(c.values()))\n",
    "\n",
    "print(\"\\nMost common tokens:\")\n",
    "for token, count in c.most_common(20):\n",
    "  print(\"%10s : %8d\" % (token, count))\n"
   ],
   "outputs": [
    {
     "name": "stdout",
     "output_type": "stream",
     "text": [
      "Total number of reviews: 2000 \n",
      "\n",
      "0 NEG 29\n",
      "Two/CD teen/JJ couples/NNS go/VBP to/TO a/DT church/NN party/NN ,/, drink/NN and/CC then/RB drive/NN ./.\n",
      "1 NEG 11\n",
      "Damn/JJ that/IN Y2K/CD bug/NN ./.\n",
      "2 NEG 24\n",
      "It/PRP is/VBZ movies/NNS like/IN these/DT that/WDT make/VBP a/DT jaded/JJ movie/NN viewer/NN thankful/JJ for/IN the/DT invention/NN of/IN the/DT Timex/NNP IndiGlo/NNP watch/NN ./.\n",
      "3 NEG 19\n",
      "QUEST/NN FOR/IN CAMELOT/NNP ``/`` Quest/NNP for/IN Camelot/NNP ''/'' is/VBZ Warner/NNP Bros./NNP '/POS first/JJ feature-length/JJ ,/, fully-animated/JJ attempt/NN to/TO steal/VB clout/NN from/IN Disney/NNP 's/POS cartoon/NN empire/NN ,/, but/CC the/DT mouse/NN has/VBZ no/DT reason/NN to/TO be/VB worried/VBN ./.\n",
      "4 NEG 38\n",
      "Synopsis/NNPS :/: A/DT mentally/RB unstable/JJ man/NN undergoing/VBG psychotherapy/NN saves/VBZ a/DT boy/NN from/IN a/DT potentially/RB fatal/JJ accident/NN and/CC then/RB falls/VBZ in/IN love/NN with/IN the/DT boy/NN 's/POS mother/NN ,/, a/DT fledgling/NN restauranteur/NN ./.\n",
      "\n",
      "Number of word types: 47743\n",
      "Number of word tokens: 1512359\n",
      "\n",
      "Most common tokens:\n",
      "         , :    77842\n",
      "       the :    75948\n",
      "         . :    59027\n",
      "         a :    37583\n",
      "       and :    35235\n",
      "        of :    33864\n",
      "        to :    31601\n",
      "        is :    25972\n",
      "        in :    21563\n",
      "        's :    18043\n",
      "        it :    15904\n",
      "      that :    15820\n",
      "     -rrb- :    11768\n",
      "     -lrb- :    11670\n",
      "        as :    11312\n",
      "      with :    10739\n",
      "       for :     9816\n",
      "       his :     9542\n",
      "      this :     9497\n",
      "      film :     9404\n"
     ]
    }
   ],
   "execution_count": 40
  },
  {
   "cell_type": "markdown",
   "metadata": {
    "id": "E6PWaEoh8B34"
   },
   "source": [
    "#(1) Lexicon-based approach (3.5pts)\n",
    "\n"
   ]
  },
  {
   "cell_type": "markdown",
   "metadata": {
    "id": "JsTSMb6ma4E8"
   },
   "source": [
    "A traditional approach to classify documents according to their sentiment is the lexicon-based approach. To implement this approach, you need a **sentiment lexicon**, i.e., a list of words annotated with a sentiment label (e.g., positive and negative, or a score from 0 to 5).\n",
    "\n",
    "In this practical, you will use the sentiment\n",
    "lexicon released by Wilson et al. (2005).\n",
    "\n",
    "> Theresa Wilson, Janyce Wiebe, and Paul Hoffmann\n",
    "(2005). [Recognizing Contextual Polarity in Phrase-Level Sentiment\n",
    "Analysis](http://www.aclweb.org/anthology/H/H05/H05-1044.pdf). HLT-EMNLP.\n",
    "\n",
    "Pay attention to all the information available in the sentiment lexicon. The field *word1* contains the lemma, *priorpolarity* contains the sentiment label (positive, negative, both, or neutral), *type* gives you the magnitude of the word's sentiment (strong or weak), and *pos1* gives you the part-of-speech tag of the lemma. Some lemmas can have multiple part-of-speech tags and thus multiple entries in the lexicon. The path of the lexicon file is `\"sent_lexicon\"`.\n"
   ]
  },
  {
   "cell_type": "code",
   "metadata": {
    "colab": {
     "base_uri": "https://localhost:8080/"
    },
    "executionInfo": {
     "elapsed": 220,
     "status": "ok",
     "timestamp": 1698047764860,
     "user": {
      "displayName": "XUE LI",
      "userId": "02386889076941396043"
     },
     "user_tz": -120
    },
    "id": "Ogq0Eq2hQglh",
    "outputId": "1c26526d-399e-4558-a1b2-2fa771648f09",
    "ExecuteTime": {
     "end_time": "2024-11-07T13:45:05.509946Z",
     "start_time": "2024-11-07T13:45:05.506875Z"
    }
   },
   "source": [
    "with open(\"sent_lexicon\", mode=\"r\", encoding=\"utf-8\") as f:\n",
    "  line_cnt = 0\n",
    "  for line in f:\n",
    "    print(line.strip())\n",
    "    line_cnt += 1\n",
    "    if line_cnt > 4:\n",
    "      break"
   ],
   "outputs": [
    {
     "name": "stdout",
     "output_type": "stream",
     "text": [
      "type=weaksubj len=1 word1=abandoned pos1=adj stemmed1=n priorpolarity=negative\n",
      "type=weaksubj len=1 word1=abandonment pos1=noun stemmed1=n priorpolarity=negative\n",
      "type=weaksubj len=1 word1=abandon pos1=verb stemmed1=y priorpolarity=negative\n",
      "type=strongsubj len=1 word1=abase pos1=verb stemmed1=y priorpolarity=negative\n",
      "type=strongsubj len=1 word1=abasement pos1=anypos stemmed1=y priorpolarity=negative\n"
     ]
    }
   ],
   "execution_count": 41
  },
  {
   "cell_type": "markdown",
   "metadata": {
    "id": "Mml4nOtIUBhn"
   },
   "source": [
    "Lexica such as this can be used to solve\n",
    "the classification task without using Machine Learning. For example, one might look up every word $w_1 ... w_n$ in a document, and compute a **binary score**\n",
    "$S_{binary}$ by counting how many words have a positive or a\n",
    "negative label in the sentiment lexicon $SLex$.\n",
    "\n",
    "$$S_{binary}(w_1 w_2 ... w_n) = \\sum_{i = 1}^{n}\\text{sign}(SLex\\big[w_i\\big])$$\n",
    "\n",
    "where $\\text{sign}(SLex\\big[w_i\\big])$ refers to the polarity of $w_i$.\n",
    "\n",
    "**Threshold.** On average, there are more positive than negative words per review (~7.13 more positive than negative per review) to take this bias into account you should use a threshold of **8** (roughly the bias itself) to make it harder to classify as positive.\n",
    "\n",
    "$$\n",
    "\\text{classify}(S_{binary}(w_1 w_2 ... w_n)) = \\bigg\\{\\begin{array}{ll}\n",
    "        \\text{positive} & \\text{if } S_{binary}(w_1w_2...w_n) > threshold\\\\\n",
    "        \\text{negative} & \\text{otherwise}\n",
    "        \\end{array}\n",
    "$$\n"
   ]
  },
  {
   "cell_type": "code",
   "metadata": {
    "ExecuteTime": {
     "end_time": "2024-11-07T13:45:05.583288Z",
     "start_time": "2024-11-07T13:45:05.581041Z"
    }
   },
   "source": [
    "# Check the attributes of the first review\n",
    "reviews[0].keys()"
   ],
   "outputs": [
    {
     "data": {
      "text/plain": [
       "dict_keys(['cv', 'sentiment', 'content'])"
      ]
     },
     "execution_count": 42,
     "metadata": {},
     "output_type": "execute_result"
    }
   ],
   "execution_count": 42
  },
  {
   "cell_type": "code",
   "metadata": {
    "ExecuteTime": {
     "end_time": "2024-11-07T13:45:05.642809Z",
     "start_time": "2024-11-07T13:45:05.639398Z"
    }
   },
   "source": [
    "def accuracy(true_labels, predicted_labels):\n",
    "  \"\"\"\n",
    "  Compute the accuracy of a classification task.\n",
    "\n",
    "  :param true_labels: list of true labels\n",
    "  :param predicted_labels: list of predicted labels\n",
    "  :return: accuracy\n",
    "  \"\"\"\n",
    "  count_matches = 0\n",
    "  for i in range(len(true_labels)):\n",
    "    if true_labels[i] == predicted_labels[i]:\n",
    "      count_matches += 1\n",
    "  accuracy = count_matches / len(true_labels)\n",
    "  return accuracy"
   ],
   "outputs": [],
   "execution_count": 43
  },
  {
   "cell_type": "markdown",
   "metadata": {
    "id": "tOFnMvbeeZrc"
   },
   "source": [
    "#### (Q1.1) Implement this approach and report its classification accuracy. (1 pt)"
   ]
  },
  {
   "cell_type": "code",
   "metadata": {
    "id": "ED2aTEYutW1-",
    "ExecuteTime": {
     "end_time": "2024-11-07T13:45:05.698328Z",
     "start_time": "2024-11-07T13:45:05.689163Z"
    }
   },
   "source": [
    "# YOUR CODE HERE\n",
    "# Load sentiment lexicon\n",
    "sentiment_dict = {}\n",
    "with open(\"sent_lexicon\", \"r\", encoding=\"utf-8\") as f:\n",
    "    for line in f:\n",
    "        # Split line into fields\n",
    "        fields = line.strip().split()\n",
    "        # Get word and polarity\n",
    "        word = fields[2].lower().split(\"=\")[1]\n",
    "        polarity = fields[5].split(\"=\")[1]\n",
    "        # Add word to sentiment dictionary\n",
    "        if polarity == \"positive\":\n",
    "            sentiment_dict[word] = 1\n",
    "        elif polarity == \"negative\":\n",
    "            sentiment_dict[word] = -1\n",
    "        # Skip neutral and both\n",
    "\n",
    "def classify_review_binary(review, sentiment_dict, threshold=8):\n",
    "    \"\"\"\n",
    "    Classify a review as positive or negative based on the sentiment of its tokens.\n",
    "\n",
    "    :param review: a dictionary with a \"content\" field that contains a list of sentences,\n",
    "                     each sentence being a list of (token, pos_tag) pairs.\n",
    "    :param threshold: the sum of sentiment scores that is required to classify a review as positive.\n",
    "    \"\"\"\n",
    "    score = 0\n",
    "    for sentence in review[\"content\"]:\n",
    "        for token, _ in sentence:\n",
    "            token = token.lower()\n",
    "            if token in sentiment_dict:\n",
    "                score += sentiment_dict[token]\n",
    "    return \"POS\" if score > threshold else \"NEG\""
   ],
   "outputs": [],
   "execution_count": 44
  },
  {
   "cell_type": "code",
   "metadata": {
    "id": "iy528EUTphz5",
    "ExecuteTime": {
     "end_time": "2024-11-07T13:45:05.852753Z",
     "start_time": "2024-11-07T13:45:05.740033Z"
    }
   },
   "source": [
    "# token_results should be a list of binary indicators; for example [1, 0, 1, ...]\n",
    "# where 1 indicates a correct classification and 0 an incorrect classification.\n",
    "# Evaluate on all reviews\n",
    "token_results = []\n",
    "for review in reviews:\n",
    "    prediction = classify_review_binary(review, sentiment_dict)\n",
    "    token_results.append(1 if prediction == review[\"sentiment\"] else 0)\n",
    "\n",
    "token_accuracy = sum(token_results) / len(token_results)\n",
    "print(f\"Accuracy: {token_accuracy:.3f}\")"
   ],
   "outputs": [
    {
     "name": "stdout",
     "output_type": "stream",
     "text": [
      "Accuracy: 0.678\n"
     ]
    }
   ],
   "execution_count": 45
  },
  {
   "cell_type": "markdown",
   "metadata": {
    "id": "Twox0s_3eS0V"
   },
   "source": [
    "As the sentiment lexicon also has information about the **magnitude** of\n",
    "sentiment (e.g., *“excellent\"* has the same sentiment _polarity_ as *“good\"* but it has a higher magnitude), we can take a more fine-grained approach by adding up all\n",
    "sentiment scores, and deciding the polarity of the movie review using\n",
    "the sign of the weighted score $S_{weighted}$.\n",
    "\n",
    "$$S_{weighted}(w_1w_2...w_n) = \\sum_{i = 1}^{n}SLex\\big[w_i\\big]$$\n",
    "\n",
    "\n",
    "Make sure you define an appropriate threshold for this approach.\n",
    "\n",
    "#### (Q1.2) Now incorporate magnitude information and report the classification accuracy. Don't forget to use the threshold. (1pt)"
   ]
  },
  {
   "cell_type": "code",
   "metadata": {
    "id": "qG3hUDnPtkhS",
    "ExecuteTime": {
     "end_time": "2024-11-07T13:45:05.900913Z",
     "start_time": "2024-11-07T13:45:05.892057Z"
    }
   },
   "source": [
    "# YOUR CODE HERE\n",
    "weighted_sentiment_dict = {}\n",
    "with open(\"sent_lexicon\", \"r\", encoding=\"utf-8\") as f:\n",
    "    for line in f:\n",
    "        fields = line.strip().split()\n",
    "        word = fields[2].lower().split(\"=\")[1]\n",
    "        polarity = fields[5].split(\"=\")[1]\n",
    "        type = fields[0].split(\"=\")[1]\n",
    "        strength = 2 if type == \"strongsubj\" else 1\n",
    "        if polarity == \"positive\":\n",
    "            weighted_sentiment_dict[word] = strength\n",
    "        elif polarity == \"negative\":\n",
    "            weighted_sentiment_dict[word] = -strength\n",
    "\n",
    "            "
   ],
   "outputs": [],
   "execution_count": 46
  },
  {
   "cell_type": "code",
   "metadata": {
    "colab": {
     "base_uri": "https://localhost:8080/",
     "height": 141
    },
    "executionInfo": {
     "elapsed": 221,
     "status": "error",
     "timestamp": 1698047779696,
     "user": {
      "displayName": "XUE LI",
      "userId": "02386889076941396043"
     },
     "user_tz": -120
    },
    "id": "9vVk7CvDpyka",
    "outputId": "fb9a09d2-b878-416f-d72c-1c651099c9ed",
    "ExecuteTime": {
     "end_time": "2024-11-07T13:45:06.052125Z",
     "start_time": "2024-11-07T13:45:05.943634Z"
    }
   },
   "source": [
    "magnitude_results = []\n",
    "\n",
    "for review in reviews:\n",
    "    prediction = classify_review_binary(review, weighted_sentiment_dict, threshold=16)\n",
    "    magnitude_results.append(1 if prediction == review[\"sentiment\"] else 0)\n",
    "    \n",
    "magnitude_accuracy = sum(magnitude_results) / len(magnitude_results)\n",
    "print(f\"Accuracy: {magnitude_accuracy:.3f}\")  # Using f-string formatting"
   ],
   "outputs": [
    {
     "name": "stdout",
     "output_type": "stream",
     "text": [
      "Accuracy: 0.688\n"
     ]
    }
   ],
   "execution_count": 47
  },
  {
   "cell_type": "markdown",
   "metadata": {
    "id": "h9SHoGPfsAHV"
   },
   "source": [
    "#### (Q.1.3) Make a barplot of the two results (0.5pt)"
   ]
  },
  {
   "cell_type": "code",
   "metadata": {
    "id": "8LgBcYcXsEk3",
    "ExecuteTime": {
     "end_time": "2024-11-07T13:45:06.162795Z",
     "start_time": "2024-11-07T13:45:06.090872Z"
    }
   },
   "source": [
    "# YOUR CODE HERE\n",
    "plt.figure(figsize=(10, 5))\n",
    "plt.title(\"Accuracy comparison\")\n",
    "plt.bar([\"Unweighted\", \"Weighted\"], [token_accuracy, magnitude_accuracy], color=[\"blue\", \"orange\"])\n",
    "plt.text(0, token_accuracy, f\"{token_accuracy:.3f}\", ha=\"center\", va=\"bottom\")\n",
    "plt.text(1, magnitude_accuracy, f\"{magnitude_accuracy:.3f}\", ha=\"center\", va=\"bottom\")"
   ],
   "outputs": [
    {
     "data": {
      "text/plain": [
       "Text(1, 0.6875, '0.688')"
      ]
     },
     "execution_count": 48,
     "metadata": {},
     "output_type": "execute_result"
    },
    {
     "data": {
      "text/plain": [
       "<Figure size 1000x500 with 1 Axes>"
      ],
      "image/png": "[encoded data removed]"
     },
     "metadata": {},
     "output_type": "display_data"
    }
   ],
   "execution_count": 48
  },
  {
   "cell_type": "markdown",
   "metadata": {
    "id": "sNhS8OCVxMHd"
   },
   "source": [
    "#### (Q1.4) A better threshold (1pt)\n",
    "Above we have defined a threshold to account for an inherent bias in the dataset: there are more positive than negative words per review.\n",
    "However, that threshold does not take into account *document length*. Explain why this is a problem and implement an alternative way to compute the threshold."
   ]
  },
  {
   "cell_type": "markdown",
   "metadata": {
    "id": "Dwt0B8h8aKjr"
   },
   "source": [
    "Awnser: The current fixed threshold approach is problematic because longer documents will  accumulate more sentiment words. This means longer positive reviews are more likely to be classified as positive simply because they have more words, not because they are more positive. Similarly, shorter positive reviews might be misclassified as negative just because they don't have enough words to exceed the threshold.\n",
    "\n",
    "A better approach is to normalize the sentiment score by the document length\n",
    "or by the number of sentiment words in the document. "
   ]
  },
  {
   "cell_type": "code",
   "metadata": {
    "ExecuteTime": {
     "end_time": "2024-11-07T13:45:06.318301Z",
     "start_time": "2024-11-07T13:45:06.202841Z"
    }
   },
   "source": [
    "# YOUR CODE HERE\n",
    "def classify_review_normalized(review, threshold=0.1):\n",
    "    \"\"\"\n",
    "    Classify a review using a normalized sentiment score that accounts for document length.\n",
    "    \n",
    "    :param review: The review to classify\n",
    "    :param threshold: Threshold for normalized score (default: 0.3)\n",
    "    :return: \"POS\" or \"NEG\"\n",
    "    \"\"\"\n",
    "    score = 0\n",
    "    sentiment_words = 0\n",
    "    \n",
    "    # Count sentiment words and calculate score\n",
    "    for sentence in review[\"content\"]:\n",
    "        for token, _ in sentence:\n",
    "            token = token.lower()\n",
    "            if token in sentiment_dict:\n",
    "                score += sentiment_dict[token]\n",
    "                sentiment_words += 1\n",
    "    \n",
    "    # Normalize score by number of sentiment words (if any found)\n",
    "    if sentiment_words > 0:\n",
    "        normalized_score = score / sentiment_words\n",
    "    else:\n",
    "        normalized_score = 0\n",
    "        \n",
    "    return \"POS\" if normalized_score > threshold else \"NEG\"\n",
    "\n",
    "# Evaluate with normalized threshold\n",
    "normalized_results = []\n",
    "for review in reviews:\n",
    "    prediction = classify_review_normalized(review)\n",
    "    normalized_results.append(1 if prediction == review[\"sentiment\"] else 0)\n",
    "\n",
    "normalized_accuracy = sum(normalized_results) / len(normalized_results)\n",
    "print(f\"Accuracy with normalized threshold: {normalized_accuracy:.3f}\")\n",
    "\n",
    "# Compare with previous approach\n",
    "print(f\"Previous accuracy: {magnitude_accuracy:.3f}\")"
   ],
   "outputs": [
    {
     "name": "stdout",
     "output_type": "stream",
     "text": [
      "Accuracy with normalized threshold: 0.669\n",
      "Previous accuracy: 0.688\n"
     ]
    }
   ],
   "execution_count": 49
  },
  {
   "cell_type": "markdown",
   "metadata": {
    "id": "LibV4nR89BXb"
   },
   "source": [
    "# (2) Naive Bayes (9.5pts)"
   ]
  },
  {
   "cell_type": "markdown",
   "metadata": {
    "id": "fnF9adQnuwia"
   },
   "source": [
    "\n",
    "Your second task is to program a simple Machine Learning approach that operates\n",
    "on a simple Bag-of-Words (BoW) representation of the text data, as\n",
    "described by Pang et al. (2002). In this approach, the only features we\n",
    "will consider are the words in the text themselves, without bringing in\n",
    "external sources of information. The BoW model is a popular way of\n",
    "representing texts as vectors, making it\n",
    "easy to apply classical Machine Learning algorithms on NLP tasks.\n",
    "However, the BoW representation is also very crude, since it discards\n",
    "all information related to word order and grammatical structure in the\n",
    "original text—as the name suggests.\n",
    "\n",
    "## Writing your own classifier (4pts)\n",
    "\n",
    "Write your own code to implement the Naive Bayes (NB) classifier. As\n",
    "a reminder, the Naive Bayes classifier works according to the following\n",
    "equation:\n",
    "$$\\hat{c} = \\operatorname*{arg\\,max}_{c \\in C} P(c|\\bar{f}) = \\operatorname*{arg\\,max}_{c \\in C} P(c)\\prod^n_{i=1} P(f_i|c)$$\n",
    "where $C = \\{ \\text{POS}, \\text{NEG} \\}$ is the set of possible classes,\n",
    "$\\hat{c} \\in C$ is the most probable class, and $\\bar{f}$ is the feature\n",
    "vector. Remember that we use the log of these probabilities when making\n",
    "a prediction:\n",
    "$$\\hat{c} = \\operatorname*{arg\\,max}_{c \\in C} \\Big\\{\\log P(c) + \\sum^n_{i=1} \\log P(f_i|c)\\Big\\}$$\n",
    "\n",
    "You can find more details about Naive Bayes in [Jurafsky &\n",
    "Martin](https://web.stanford.edu/~jurafsky/slp3/). You can also look at\n",
    "this helpful\n",
    "[pseudo-code](https://nlp.stanford.edu/IR-book/html/htmledition/naive-bayes-text-classification-1.html).\n",
    "\n",
    "*Note: this section and the next aim to put you in a position to replicate\n",
    "    Pang et al.'s Naive Bayes results. However, your numerical results\n",
    "    will differ from theirs, as they used different data.*\n",
    "\n",
    "**You must write the Naive Bayes training and prediction code from\n",
    "scratch.** You will not be given credit for using off-the-shelf Machine\n",
    "Learning libraries.\n",
    "\n",
    "The data contains the text of the reviews, where each document consists\n",
    "of the sentences in the review, the sentiment of the review and an index\n",
    "(cv) that you will later use for cross-validation. The\n",
    "text has already been tokenised and POS-tagged for you. Your algorithm\n",
    "should read in the text, **lowercase it**, store the words and their\n",
    "frequencies in an appropriate data structure that allows for easy\n",
    "computation of the probabilities used in the Naive Bayes algorithm, and\n",
    "then make predictions for new instances.\n"
   ]
  },
  {
   "cell_type": "markdown",
   "metadata": {
    "id": "vEpyQSBSkb33"
   },
   "source": [
    "#### (Q2.1) Unseen words (1pt)\n",
    "The presence of words in the test dataset that\n",
    "have not been seen during training can cause probabilities in the Naive Bayes classifier to equal $0$.\n",
    "These can be words which are unseen in both positive and negative training reviews (case 1), but also words which are seen in reviews _of only one sentiment class_ in the training dataset (case 2). In both cases, **you should skip these words for both classes at test time**.  What would be the problem instead with skipping words only for one class in case 2?"
   ]
  },
  {
   "cell_type": "markdown",
   "metadata": {
    "id": "BanFiYYnoxDW"
   },
   "source": [
    "Awnser: If words that were only seen in one sentiment class during training are skipped only for that class at test time, the probabilities for the other class become disproportionately high. This imbalance occurs because skipping words selectively biases the probability estimates, leading to an unfair advantage for the class where the word isn’t skipped. The Naive Bayes classifier may misclassify the test instance, especially when words indicative of a particular sentiment are excluded from one class but not the other."
   ]
  },
  {
   "cell_type": "markdown",
   "metadata": {
    "id": "gsZRhaI3WvzC"
   },
   "source": [
    "#### (Q2.2) Train your classifier on (positive and negative) reviews with cv-value 000-899, and test it on the remaining (positive and negative) reviews cv900–cv999.  Report results using classification accuracy as your evaluation metric. Your  features are the word vocabulary. The value of a feature is the count of that feature (word) in the document. (2pts)\n"
   ]
  },
  {
   "cell_type": "code",
   "metadata": {
    "id": "G7zaJYGFvIJ3",
    "ExecuteTime": {
     "end_time": "2024-11-07T13:45:07.173588Z",
     "start_time": "2024-11-07T13:45:06.397126Z"
    }
   },
   "source": [
    "train_reviews = [review for review in reviews if review[\"cv\"] < 900]\n",
    "test_reviews = [review for review in reviews if review[\"cv\"] >= 900]\n",
    "\n",
    "def class_prior_probability(train_reviews):\n",
    "    pos_reviews = sum(1 for review in train_reviews if review[\"sentiment\"] == \"POS\")\n",
    "    neg_reviews = sum(1 for review in train_reviews if review[\"sentiment\"] == \"NEG\")\n",
    "    \n",
    "    total_reviews = len(train_reviews)\n",
    "    pos_prior = pos_reviews / total_reviews\n",
    "    neg_prior = neg_reviews / total_reviews\n",
    "    \n",
    "    return {\"POS\": pos_prior, \"NEG\": neg_prior}\n",
    "\n",
    "def get_features(reviews):\n",
    "    \"\"\"\n",
    "    Processes reviews to extract features for each class by counting word frequencies.\n",
    "    Converts tokens to lowercase and removes punctuation.\n",
    "    Returns a dictionary with word counts for 'POS' and 'NEG' classes.\n",
    "    \"\"\"\n",
    "    word_counts = {\"POS\": {}, \"NEG\": {}}\n",
    "    total_words = {\"POS\": 0, \"NEG\": 0}\n",
    "\n",
    "    for review in reviews:\n",
    "        sentiment = review[\"sentiment\"]\n",
    "        for sentence in review[\"content\"]:\n",
    "            for token, _ in sentence:\n",
    "                # Convert token to lowercase and strip punctuation\n",
    "                #token = token.lower()\n",
    "                token = token.lower()\n",
    "                total_words[sentiment] += 1\n",
    "                if token:\n",
    "                    word_counts[sentiment][token] = word_counts[sentiment].get(token, 0) + 1\n",
    "                    \n",
    "\n",
    "    return word_counts, total_words\n",
    "\n",
    "def calculate_likelihood(word_counts, total_words):\n",
    "    \"\"\"\n",
    "    Calculates the likelihoods of words given sentiment labels using word counts.\n",
    "    \"\"\"\n",
    "    likelihoods = {\"POS\": {}, \"NEG\": {}}\n",
    "    \n",
    "    for sentiment in [\"POS\", \"NEG\"]:\n",
    "        for word, count in word_counts[sentiment].items():\n",
    "            # Only include words that appear in both classes to reduce zero probabilities\n",
    "            if word in word_counts[\"POS\"] and word in word_counts[\"NEG\"]:\n",
    "                likelihoods[sentiment][word] = count / total_words[sentiment]\n",
    "\n",
    "    return likelihoods\n",
    "\n",
    "\n",
    "def naive_bayes_prediction(review, prior_probabilities, word_likelihoods):\n",
    "    \"\"\"\n",
    "    \n",
    "    :param review: \n",
    "    :param prior_probabilities: \n",
    "    :param word_likelihoods: \n",
    "    :return: \n",
    "    \"\"\"\n",
    "    # Check if prior probabilities are greater than 0\n",
    "    positive_prior = math.log(prior_probabilities[\"POS\"]) if prior_probabilities[\"POS\"] > 0 else 0\n",
    "    negative_prior = math.log(prior_probabilities[\"NEG\"]) if prior_probabilities[\"NEG\"] > 0 else 0\n",
    "        \n",
    "    scores = {\n",
    "        \"POS\": positive_prior,\n",
    "        \"NEG\": negative_prior\n",
    "    }\n",
    "    \n",
    "    for sentence in review[\"content\"]:\n",
    "        for token, _ in sentence:\n",
    "            token = token.lower()\n",
    "            if token in word_likelihoods[\"POS\"]:\n",
    "                scores[\"POS\"] += math.log(word_likelihoods[\"POS\"][token])\n",
    "            if token in word_likelihoods[\"NEG\"]:\n",
    "                scores[\"NEG\"] += math.log(word_likelihoods[\"NEG\"][token])\n",
    "    \n",
    "    return max(scores, key=scores.get)\n",
    "\n",
    "\n",
    "def evaluate_naive_bayes(train_reviews, test_reviews):\n",
    "    \"\"\"\n",
    "    Train a Naive Bayes classifier using a specified likelihood function.\n",
    "    \n",
    "    :param train_reviews: The training reviews\n",
    "    :param likelihood_func: The likelihood function to use (with or without smoothing)\n",
    "    :return: Prior probabilities and word likelihoods\n",
    "    \"\"\"\n",
    "       # Calculate priors and likelihoods\n",
    "    prior_probabilities = class_prior_probability(train_reviews)\n",
    "    word_counts, total_words = get_features(train_reviews)\n",
    "    word_likelihoods = calculate_likelihood(word_counts, total_words)\n",
    "    \n",
    "    # Training accuracy\n",
    "    train_true_labels = [review[\"sentiment\"] for review in train_reviews]\n",
    "    train_predicted_labels = [naive_bayes_prediction(review, prior_probabilities, word_likelihoods)\n",
    "                              for review in train_reviews]\n",
    "    train_accuracy = accuracy(train_true_labels, train_predicted_labels)\n",
    "    \n",
    "    # Test accuracy\n",
    "    test_true_labels = [review[\"sentiment\"] for review in test_reviews]\n",
    "    test_predicted_labels = [naive_bayes_prediction(review, prior_probabilities, word_likelihoods)\n",
    "                             for review in test_reviews]\n",
    "    test_accuracy = accuracy(test_true_labels, test_predicted_labels)\n",
    "    \n",
    "    return prior_probabilities, word_likelihoods, train_accuracy, test_accuracy\n",
    "\n",
    "# Run training with the modified code\n",
    "train_prior_probabilities, train_word_likelihoods, train_nb_accuracy, test_nb_accuracy = evaluate_naive_bayes(train_reviews, test_reviews)\n",
    "print(f\"Training accuracy: {train_nb_accuracy:.3f}\")\n",
    "print(f\"Test accuracy: {test_nb_accuracy:.3f}\")"
   ],
   "outputs": [
    {
     "name": "stdout",
     "output_type": "stream",
     "text": [
      "Training accuracy: 0.943\n",
      "Test accuracy: 0.825\n"
     ]
    }
   ],
   "execution_count": 50
  },
  {
   "cell_type": "markdown",
   "metadata": {
    "id": "0INK-PBoM6CB"
   },
   "source": [
    "#### (Q2.3) Would you consider accuracy to also be a good way to evaluate your classifier in a situation where 90% of your data instances are of positive movie reviews? (1pt)\n",
    "\n",
    "Simulate this scenario by keeping the positive reviews\n",
    "data unchanged, but only using negative reviews cv000–cv089 for\n",
    "training, and cv900–cv909 for testing. Calculate the classification\n",
    "accuracy, and explain what changed."
   ]
  },
  {
   "cell_type": "markdown",
   "metadata": {
    "id": "oFbcsYlipBAw"
   },
   "source": [
    "TODO: Answer the question"
   ]
  },
  {
   "cell_type": "code",
   "metadata": {
    "id": "GWDkt5ZrrFGp",
    "ExecuteTime": {
     "end_time": "2024-11-07T13:45:25.588088Z",
     "start_time": "2024-11-07T13:45:25.285005Z"
    }
   },
   "source": [
    "negative_train_reviews = [review for review in reviews if review[\"cv\"] <= 89]\n",
    "negative_test_reviews = [review for review in reviews if 900 <= review[\"cv\"] <= 909]\n",
    "\n",
    "# Train two separate classifiers\n",
    "negative_prior_probabilities, negative_word_likelihoods, train_accuracy, test_accuracy = evaluate_naive_bayes(negative_train_reviews, negative_test_reviews)\n",
    "print(f\"Accuracy after training on only negative reviews: {test_accuracy:.3f}\")"
   ],
   "outputs": [
    {
     "name": "stdout",
     "output_type": "stream",
     "text": [
      "Accuracy after training on only negative reviews: 0.700\n"
     ]
    }
   ],
   "execution_count": 53
  },
  {
   "cell_type": "markdown",
   "metadata": {
    "id": "6wJzcHX3WUDm"
   },
   "source": [
    "## Smoothing (1pt)\n",
    "\n",
    "As mentioned above, the presence of words in the test dataset that\n",
    "have not been seen during training can cause probabilities in the Naive\n",
    "Bayes classifier to be $0$, thus making that particular test instance\n",
    "undecidable. The standard way to mitigate this effect (as well as to\n",
    "give more clout to rare words) is to use smoothing, in which the\n",
    "probability fraction\n",
    "$$\\frac{\\text{count}(w_i, c)}{\\sum\\limits_{w\\in V} \\text{count}(w, c)} \\text{for a word $w_i$ becomes} \\frac{\\text{count}(w_i, c) + \\text{smoothing}(w_i)}{\\sum\\limits_{w\\in V} \\text{count}(w, c) + \\sum\\limits_{w \\in V} \\text{smoothing}(w)}$$\n",
    "\n",
    "\n",
    "\n"
   ]
  },
  {
   "cell_type": "markdown",
   "metadata": {
    "id": "PBNIcbwUWphC"
   },
   "source": [
    "#### (Q2.4) Implement Laplace feature smoothing (1pt)\n",
    "Implement Laplace smoothing, i.e., smoothing with a constant value ($smoothing(w) = \\kappa, \\forall w \\in V$), in your Naive\n",
    "Bayes classifier’s code, and report the accuracy.\n",
    "Use $\\kappa = 1$."
   ]
  },
  {
   "cell_type": "code",
   "metadata": {
    "id": "g03yflCc9kpW",
    "ExecuteTime": {
     "end_time": "2024-11-07T13:45:39.658455Z",
     "start_time": "2024-11-07T13:45:38.102080Z"
    }
   },
   "source": [
    "# YOUR CODE HERE\n",
    "def calculate_smoothed_likelihood(word_counts, total_words, kappa=1):\n",
    "    \"\"\"\n",
    "    Calculates smoothed likelihoods for each word in the vocabulary given the training data.\n",
    "    \n",
    "    :param word_counts: Dictionary with word counts for each class ('POS' and 'NEG')\n",
    "    :param total_words: Total word count for each class\n",
    "    :param kappa: Smoothing parameter (default: 1)\n",
    "    :return: Smoothed likelihoods for each word in the vocabulary for both classes\n",
    "    \"\"\"\n",
    "    vocabulary = set(word for sentiment in word_counts for word in word_counts[sentiment])  # Create vocabulary from word counts\n",
    "    vocabulary_size = len(vocabulary)\n",
    "\n",
    "    likelihoods = {\"POS\": {}, \"NEG\": {}}\n",
    "    for sentiment in [\"POS\", \"NEG\"]:\n",
    "        for word in vocabulary:\n",
    "            count = word_counts[sentiment].get(word, 0)\n",
    "            # Apply smoothing to the likelihood calculation\n",
    "            likelihoods[sentiment][word] = (count + kappa) / (total_words[sentiment] + (kappa * vocabulary_size))\n",
    "\n",
    "    return likelihoods\n",
    "\n",
    "def evaluate_naive_bayes_smoothed(train_reviews, test_reviews):\n",
    "    \"\"\"\n",
    "    Train a Naive Bayes classifier using a specified likelihood function.\n",
    "    \n",
    "    :param train_reviews: The training reviews\n",
    "    :param likelihood_func: The likelihood function to use (with or without smoothing)\n",
    "    :return: Prior probabilities and word likelihoods\n",
    "    \"\"\"\n",
    "    # Calculate priors and likelihoods\n",
    "    prior_probabilities = class_prior_probability(train_reviews)\n",
    "    word_counts, total_words = get_features(train_reviews)\n",
    "    \n",
    "    # Use smoothed likelihood instead of regular likelihood\n",
    "    word_likelihoods = calculate_smoothed_likelihood(word_counts, total_words)\n",
    "    \n",
    "    # Training accuracy\n",
    "    train_true_labels = [review[\"sentiment\"] for review in train_reviews]\n",
    "    train_predicted_labels = [naive_bayes_prediction(review, prior_probabilities, word_likelihoods)\n",
    "                              for review in train_reviews]\n",
    "    train_accuracy = accuracy(train_true_labels, train_predicted_labels)\n",
    "    \n",
    "    # Test accuracy\n",
    "    test_true_labels = [review[\"sentiment\"] for review in test_reviews]\n",
    "    test_predicted_labels = [naive_bayes_prediction(review, prior_probabilities, word_likelihoods)\n",
    "                             for review in test_reviews]\n",
    "    test_accuracy = accuracy(test_true_labels, test_predicted_labels)\n",
    "    \n",
    "    return prior_probabilities, word_likelihoods, train_accuracy, test_accuracy\n",
    "\n",
    "\n",
    "# Evaluate the Naive Bayes classifier with smoothing\n",
    "train_prior_smoothed_probabilities, train_word_smoothed_likelihoods, train_nb_smoothed_accuracy, test_nb_smoothed_accuracy = evaluate_naive_bayes_smoothed(train_reviews,test_reviews)\n",
    "print(f\"Training accuracy with smoothing: {train_nb_smoothed_accuracy:.3f}\")\n",
    "print(f\"Test accuracy with smoothing: {test_nb_smoothed_accuracy:.3f}\")"
   ],
   "outputs": [
    {
     "name": "stdout",
     "output_type": "stream",
     "text": [
      "Training accuracy with smoothing: 0.974\n",
      "Test accuracy with smoothing: 0.825\n"
     ]
    }
   ],
   "execution_count": 54
  },
  {
   "cell_type": "markdown",
   "metadata": {
    "id": "ZiGcgwba87D5"
   },
   "source": [
    "## Cross-Validation (1.5pts)\n",
    "\n",
    "A serious danger in using Machine Learning on small datasets, with many\n",
    "iterations of slightly different versions of the algorithms, is ending up with Type III errors, also called the “testing hypotheses\n",
    "suggested by the data” errors. This type of error occurs when we make\n",
    "repeated improvements to our classifiers by playing with features and\n",
    "their processing, but we don’t get a fresh, never-before seen test\n",
    "dataset every time. Thus, we risk developing a classifier that gets better\n",
    "and better on our data, but only gets worse at generalizing to new, unseen data. In other words, we risk developping a classifier that overfits.\n",
    "\n",
    "A simple method to guard against Type III errors is to use\n",
    "Cross-Validation. In **N-fold Cross-Validation**, we divide the data into N\n",
    "distinct chunks, or folds. Then, we repeat the experiment N times: each\n",
    "time holding out one of the folds for testing, training our classifier\n",
    "on the remaining N - 1 data folds, and reporting performance on the\n",
    "held-out fold. We can use different strategies for dividing the data:\n",
    "\n",
    "-   Consecutive splitting:\n",
    "  - cv000–cv099 = Split 1\n",
    "  - cv100–cv199 = Split 2\n",
    "  - etc.\n",
    "  \n",
    "-   Round-robin splitting (mod 10):\n",
    "  - cv000, cv010, cv020, … = Split 1\n",
    "  - cv001, cv011, cv021, … = Split 2\n",
    "  - etc.\n",
    "\n",
    "-   Random sampling/splitting\n",
    "  - Not used here (but you may choose to split this way in a non-educational situation)\n",
    "\n"
   ]
  },
  {
   "cell_type": "markdown",
   "metadata": {
    "id": "8OeLcbSauGtR"
   },
   "source": [
    "#### (Q2.5) Write the code to implement 10-fold cross-validation using round-robin splitting for your Naive Bayes classifier from Q2.4 and compute the 10 accuracies. Report the final performance, which is the average of the performances per fold. If all splits perform equally well, this is a good sign. (1pt)"
   ]
  },
  {
   "cell_type": "code",
   "metadata": {
    "id": "3KeCGPa7Nuzx",
    "ExecuteTime": {
     "end_time": "2024-11-07T13:45:43.483977Z",
     "start_time": "2024-11-07T13:45:43.480723Z"
    }
   },
   "source": [
    "# YOUR CODE HERE\n",
    "\n",
    "def round_robin_split(data, num_folds=10):\n",
    "    \"\"\"\n",
    "    Splits data into folds based on a round-robin (mod) approach.\n",
    "\n",
    "    :param data: list of samples\n",
    "    :param num_folds: number of folds (default: 10)\n",
    "    :return: list of folds, where each fold is a list of samples\n",
    "    \"\"\"\n",
    "    folds = [[] for _ in range(num_folds)]\n",
    "    for i, sample in enumerate(data):\n",
    "        folds[i % num_folds].append(sample)\n",
    "    return folds\n"
   ],
   "outputs": [],
   "execution_count": 55
  },
  {
   "cell_type": "code",
   "metadata": {
    "ExecuteTime": {
     "end_time": "2024-11-07T13:46:21.482554Z",
     "start_time": "2024-11-07T13:46:12.723206Z"
    }
   },
   "source": [
    "def cross_validate(data, num_folds=10):\n",
    "    \"\"\"\n",
    "    Performs 10-fold cross-validation using round-robin splitting for Naive Bayes.\n",
    "\n",
    "    :param data: list of samples, each with 'content' and 'sentiment' fields\n",
    "    :param num_folds: number of folds for cross-validation (default: 10)\n",
    "    :param kappa: smoothing parameter for Naive Bayes\n",
    "    :return: average accuracy across folds\n",
    "    \"\"\"\n",
    "    folds = round_robin_split(data, num_folds)\n",
    "    fold_accuracies = []\n",
    "    \n",
    "    for i in range(num_folds):\n",
    "        # Prepare training and testing sets for the current fold\n",
    "        test_data = folds[i]\n",
    "        train_data = [item for j, fold in enumerate(folds) if j != i for item in fold]\n",
    "        \n",
    "        # Evaluate Naive Bayes model using the provided evaluate function\n",
    "        _, _, train_accuracy, test_accuracy = evaluate_naive_bayes_smoothed(\n",
    "            train_data, test_data\n",
    "        )\n",
    "        \n",
    "        # Record the test accuracy for the current fold\n",
    "        fold_accuracies.append(test_accuracy)\n",
    "        print(f\"Fold {i+1} test accuracy: {test_accuracy:.3f}\")\n",
    "\n",
    "    # Calculate and report the average accuracy across folds\n",
    "    avg_accuracy = np.mean(fold_accuracies)\n",
    "    print(f\"Average cross-validation accuracy: {avg_accuracy:.4f}\")\n",
    "    return avg_accuracy, fold_accuracies\n",
    "\n",
    "\n",
    "average_accuracy, fold_accuracies = cross_validate(reviews, num_folds=10)"
   ],
   "outputs": [
    {
     "name": "stdout",
     "output_type": "stream",
     "text": [
      "Fold 1 test accuracy: 0.790\n",
      "Fold 2 test accuracy: 0.835\n",
      "Fold 3 test accuracy: 0.805\n",
      "Fold 4 test accuracy: 0.825\n",
      "Fold 5 test accuracy: 0.780\n",
      "Fold 6 test accuracy: 0.845\n",
      "Fold 7 test accuracy: 0.830\n",
      "Fold 8 test accuracy: 0.775\n",
      "Fold 9 test accuracy: 0.830\n",
      "Fold 10 test accuracy: 0.840\n",
      "Average cross-validation accuracy: 0.8155\n"
     ]
    }
   ],
   "execution_count": 57
  },
  {
   "cell_type": "markdown",
   "metadata": {
    "id": "otdlsDXBNyOa"
   },
   "source": [
    "#### (Q2.6) Report the variance of the 10 accuracy scores. (0.5pt)\n",
    "\n",
    "**Please report all future results using 10-fold cross-validation now\n",
    "(unless told to use the held-out test set).** Note: you're not allowed to use a library for computing the variance."
   ]
  },
  {
   "cell_type": "code",
   "metadata": {
    "id": "ZoBQm1KuNzNR",
    "ExecuteTime": {
     "end_time": "2024-11-07T13:47:30.777016Z",
     "start_time": "2024-11-07T13:47:30.767657Z"
    }
   },
   "source": [
    "# YOUR CODE HERE\n",
    "def calculate_variance(scores):\n",
    "    \"\"\"\n",
    "    Calculate the variance of a list of scores.\n",
    "\n",
    "    :param scores: List of accuracy scores \n",
    "    :return: Variance of the scores\n",
    "    \"\"\"\n",
    "    mean_score = sum(scores) / len(scores)\n",
    "    variance = sum((score - mean_score) ** 2 for score in scores) / len(scores)\n",
    "    return variance\n",
    "\n",
    "print(calculate_variance(fold_accuracies))"
   ],
   "outputs": [
    {
     "name": "stdout",
     "output_type": "stream",
     "text": [
      "0.0006022499999999986\n"
     ]
    }
   ],
   "execution_count": 59
  },
  {
   "cell_type": "markdown",
   "metadata": {
    "id": "s6A2zX9_BRKm"
   },
   "source": [
    "## Features, overfitting, and the curse of dimensionality\n",
    "\n",
    "In the Bag-of-Words model, ideally we would like each distinct word in\n",
    "the text to be mapped to its own dimension in the output vector\n",
    "representation. However, real world text is messy, and we need to decide\n",
    "on what we consider to be a word. For example, is “`word`\" different\n",
    "from “`Word`\", from “`word`”, or from “`words`\"? Too strict a\n",
    "definition, and the number of features explodes, while our algorithm\n",
    "fails to learn anything generalisable. Too lax, and we risk destroying\n",
    "our learning signal. In the following section, you will learn about\n",
    "confronting the feature sparsity and the overfitting problems as they\n",
    "occur in NLP classification tasks."
   ]
  },
  {
   "cell_type": "markdown",
   "metadata": {
    "id": "EKK8FNt8VtcZ"
   },
   "source": [
    "### Stemming (1.5pts)\n",
    "\n",
    "To make your algorithm more robust, use stemming and hash different inflections of a word to the same feature in the BoW vector space. Please use the [Porter stemming\n",
    "    algorithm](http://www.nltk.org/howto/stem.html) from NLTK.\n",
    "\n"
   ]
  },
  {
   "cell_type": "code",
   "metadata": {
    "id": "NxtCul1IrBi_",
    "ExecuteTime": {
     "end_time": "2024-11-07T13:54:48.633523Z",
     "start_time": "2024-11-07T13:54:48.627407Z"
    }
   },
   "source": [
    "# YOUR CODE HERE\n",
    "from nltk.stem import PorterStemmer\n",
    "import string\n",
    "\n",
    "def preprocess_and_stem(reviews):\n",
    "    stemmer = PorterStemmer()\n",
    "    processed_reviews = []\n",
    "\n",
    "    for review in reviews:\n",
    "        sentiment = review[\"sentiment\"]\n",
    "        # Initialize a new review for processed content\n",
    "        processed_content = []\n",
    "        for sentence in review[\"content\"]:\n",
    "            # Stem each token in the sentence\n",
    "            stemmed_sentence = [(stemmer.stem(token.lower()), None) \n",
    "                                for token, _ in sentence]\n",
    "            processed_content.append(stemmed_sentence)\n",
    "        \n",
    "        processed_reviews.append({\"sentiment\": sentiment, \"content\": processed_content})\n",
    "\n",
    "    return processed_reviews"
   ],
   "outputs": [],
   "execution_count": 62
  },
  {
   "cell_type": "markdown",
   "metadata": {
    "id": "6SrJ1BeLXTnk"
   },
   "source": [
    "#### (Q2.7): How does the performance of your classifier change when you use stemming on your training and test datasets? (1pt)\n",
    "Use cross-validation to evaluate the classifier.\n"
   ]
  },
  {
   "cell_type": "code",
   "metadata": {
    "id": "gYqKBOiIrInT",
    "ExecuteTime": {
     "end_time": "2024-11-07T13:55:04.945644Z",
     "start_time": "2024-11-07T13:54:49.808206Z"
    }
   },
   "source": [
    "# YOUR ANSWER HERE\n",
    "processed_train_reviews = preprocess_and_stem(train_reviews)\n",
    "average_accuracy, fold_accuracies = cross_validate(processed_train_reviews, num_folds=10)"
   ],
   "outputs": [
    {
     "name": "stdout",
     "output_type": "stream",
     "text": [
      "Fold 1 test accuracy: 0.761\n",
      "Fold 2 test accuracy: 0.839\n",
      "Fold 3 test accuracy: 0.850\n",
      "Fold 4 test accuracy: 0.833\n",
      "Fold 5 test accuracy: 0.778\n",
      "Fold 6 test accuracy: 0.839\n",
      "Fold 7 test accuracy: 0.806\n",
      "Fold 8 test accuracy: 0.772\n",
      "Fold 9 test accuracy: 0.828\n",
      "Fold 10 test accuracy: 0.806\n",
      "Average cross-validation accuracy: 0.8111\n"
     ]
    }
   ],
   "execution_count": 63
  },
  {
   "cell_type": "markdown",
   "metadata": {
    "id": "JkDHVq_1XUVP"
   },
   "source": [
    "#### (Q2.8) What happens to the number of features (i.e., the size of the vocabulary) when using stemming as opposed to (Q2.4)? (0.5pt)\n",
    "Give actual numbers. You can use the held-out training set to determine these."
   ]
  },
  {
   "cell_type": "markdown",
   "metadata": {},
   "source": [
    "Answer: As we see from the output of the code bellow the number of features decreases from 67558 without stemming to 47103 with stemming."
   ]
  },
  {
   "cell_type": "code",
   "metadata": {
    "id": "MA3vee5-rJyy",
    "ExecuteTime": {
     "end_time": "2024-11-07T13:45:07.503074Z",
     "start_time": "2024-11-07T10:04:18.624205Z"
    }
   },
   "source": [
    "# YOUR CODE HERE\n",
    "feature_count_no_stemming, total_words_no_stemming = get_features(train_reviews)\n",
    "total_features_no_stemming = len(feature_count_no_stemming['POS']) + len(feature_count_no_stemming['NEG'])\n",
    "print(f\"Total number of features (without stemming): {total_features_no_stemming}\")\n",
    "\n",
    "# Count words in both POS and NEG classes\n",
    "\n",
    "\n",
    "\n",
    "# Calculate vocabulary size with stemming\n",
    "processed_reviews = preprocess_and_stem(reviews)\n",
    "\n",
    "feature_count_no_stemming, total_words_no_stemming = get_features(processed_reviews)\n",
    "total_features_no_stemming = len(feature_count_no_stemming['POS']) + len(feature_count_no_stemming['NEG'])\n",
    "print(f\"Total number of features (with stemming): {total_features_no_stemming}\")"
   ],
   "outputs": [
    {
     "name": "stdout",
     "output_type": "stream",
     "text": [
      "Total number of features (without stemming): 67558\n",
      "Total number of features (with stemming): 48208\n"
     ]
    }
   ],
   "execution_count": 30
  },
  {
   "metadata": {
    "ExecuteTime": {
     "end_time": "2024-11-07T13:45:07.503135Z",
     "start_time": "2024-11-07T10:04:27.867454Z"
    }
   },
   "cell_type": "code",
   "source": "len(set(feature_count_no_stemming['POS'].keys()).intersection(set(feature_count_no_stemming['NEG'].keys())))",
   "outputs": [
    {
     "data": {
      "text/plain": [
       "14008"
      ]
     },
     "execution_count": 31,
     "metadata": {},
     "output_type": "execute_result"
    }
   ],
   "execution_count": 31
  },
  {
   "metadata": {
    "ExecuteTime": {
     "end_time": "2024-11-07T13:45:07.503249Z",
     "start_time": "2024-11-07T10:00:39.666188Z"
    }
   },
   "cell_type": "code",
   "source": "break",
   "outputs": [
    {
     "ename": "SyntaxError",
     "evalue": "'break' outside loop (370545404.py, line 1)",
     "output_type": "error",
     "traceback": [
      "\u001B[0;36m  Cell \u001B[0;32mIn[23], line 1\u001B[0;36m\u001B[0m\n\u001B[0;31m    break\u001B[0m\n\u001B[0m    ^\u001B[0m\n\u001B[0;31mSyntaxError\u001B[0m\u001B[0;31m:\u001B[0m 'break' outside loop\n"
     ]
    }
   ],
   "execution_count": 23
  },
  {
   "cell_type": "markdown",
   "metadata": {
    "id": "SoazfxbNV5Lq"
   },
   "source": [
    "### N-grams (1.5pts)\n",
    "\n",
    "A simple way of retaining some of the word\n",
    "order information when using bag-of-words representations is to use **n-gram** features.\n",
    "\n",
    "\n",
    "\n",
    "\n"
   ]
  },
  {
   "cell_type": "markdown",
   "metadata": {
    "id": "OHjy3I7-qWiu"
   },
   "source": [
    "#### (Q2.9) Retrain your classifier from (Q2.4) using **unigrams+bigrams** and **unigrams+bigrams+trigrams** as features. (1pt)\n",
    "Report accuracy and compare it with that of the approaches you have previously implemented. You are allowed to use NLTK to build n-grams from sentences."
   ]
  },
  {
   "cell_type": "code",
   "metadata": {
    "id": "eYuKMTOpq9jz",
    "ExecuteTime": {
     "end_time": "2024-11-07T13:56:03.603026Z",
     "start_time": "2024-11-07T13:56:03.596295Z"
    }
   },
   "source": [
    "from nltk import ngrams\n",
    "import string\n",
    "\n",
    "def get_features_ngrams(reviews, n=2):\n",
    "    \"\"\"\n",
    "    Processes reviews to extract n-gram features for each class by counting frequencies.\n",
    "    Converts tokens to lowercase and removes punctuation.\n",
    "    Returns a dictionary with n-gram counts for 'POS' and 'NEG' classes.\n",
    "\n",
    "    :param reviews: List of reviews with \"content\" field containing tokenized sentences.\n",
    "    :param n: The upper limit for n-grams (1 for unigrams, 2 for bigrams, etc.).\n",
    "    \"\"\"\n",
    "    ngram_counts = {\"POS\": {}, \"NEG\": {}}\n",
    "    total_ngrams = {\"POS\": 0, \"NEG\": 0}\n",
    "\n",
    "    for review in reviews:\n",
    "        sentiment = review[\"sentiment\"]\n",
    "        for sentence in review[\"content\"]:\n",
    "            # Prepare a list of tokens, stripping punctuation\n",
    "            tokens = [token.lower() for token, _ in sentence if token]\n",
    "\n",
    "            # Generate n-grams up to the specified limit n\n",
    "            for n_ in range(1, n + 1):\n",
    "                for n_gram in ngrams(tokens, n_):\n",
    "                    n_gram_str = ' '.join(n_gram)\n",
    "                    ngram_counts[sentiment][n_gram_str] = ngram_counts[sentiment].get(n_gram_str, 0) + 1\n",
    "                    total_ngrams[sentiment] += 1\n",
    "\n",
    "    return ngram_counts, total_ngrams"
   ],
   "outputs": [],
   "execution_count": 64
  },
  {
   "cell_type": "code",
   "metadata": {
    "ExecuteTime": {
     "end_time": "2024-11-07T13:56:04.220414Z",
     "start_time": "2024-11-07T13:56:04.217090Z"
    }
   },
   "source": [
    "def evaluate_naive_bayes_ngrams(train_reviews, test_reviews, n):\n",
    "    \"\"\"\n",
    "    Train a Naive Bayes classifier using a specified likelihood function.\n",
    "    \n",
    "    :param train_reviews: The training reviews\n",
    "    :param likelihood_func: The likelihood function to use (with or without smoothing)\n",
    "    :return: Prior probabilities and word likelihoods\n",
    "    \"\"\"\n",
    "       # Calculate priors and likelihoods\n",
    "    prior_probabilities = class_prior_probability(train_reviews)\n",
    "    word_counts, total_words = get_features_ngrams(train_reviews, n)\n",
    "    word_likelihoods = calculate_smoothed_likelihood(word_counts, total_words)\n",
    "    \n",
    "    # Training accuracy\n",
    "    train_true_labels = [review[\"sentiment\"] for review in train_reviews]\n",
    "    train_predicted_labels = [naive_bayes_prediction(review, prior_probabilities, word_likelihoods)\n",
    "                              for review in train_reviews]\n",
    "    train_accuracy = accuracy(train_true_labels, train_predicted_labels)\n",
    "    \n",
    "    # Test accuracy\n",
    "    test_true_labels = [review[\"sentiment\"] for review in test_reviews]\n",
    "    test_predicted_labels = [naive_bayes_prediction(review, prior_probabilities, word_likelihoods)\n",
    "                             for review in test_reviews]\n",
    "    test_accuracy = accuracy(test_true_labels, test_predicted_labels)\n",
    "    \n",
    "    return prior_probabilities, word_likelihoods, train_accuracy, test_accuracy\n",
    "\n",
    "# prior_probabilities, word_likelihoods, train_accuracy, test_accuracy = evaluate_naive_bayes_ngrams(train_reviews, test_reviews, 3)\n",
    "\n",
    "# print(test_accuracy)"
   ],
   "outputs": [],
   "execution_count": 65
  },
  {
   "cell_type": "code",
   "execution_count": 56,
   "metadata": {
    "ExecuteTime": {
     "end_time": "2024-11-07T13:45:07.503435Z",
     "start_time": "2024-11-06T18:46:49.756133Z"
    },
    "jupyter": {
     "is_executing": true
    }
   },
   "outputs": [
    {
     "name": "stdout",
     "output_type": "stream",
     "text": [
      "Fold 1 test accuracy: 0.780\n",
      "Fold 2 test accuracy: 0.830\n",
      "Fold 3 test accuracy: 0.805\n",
      "Fold 4 test accuracy: 0.820\n",
      "Fold 5 test accuracy: 0.785\n",
      "Fold 6 test accuracy: 0.835\n",
      "Fold 7 test accuracy: 0.825\n",
      "Fold 8 test accuracy: 0.770\n",
      "Fold 9 test accuracy: 0.780\n",
      "Fold 10 test accuracy: 0.785\n",
      "Fold 1 test accuracy: 0.750\n",
      "Fold 2 test accuracy: 0.770\n",
      "Fold 3 test accuracy: 0.750\n",
      "Fold 4 test accuracy: 0.785\n",
      "Fold 5 test accuracy: 0.755\n",
      "Fold 6 test accuracy: 0.760\n",
      "Fold 7 test accuracy: 0.815\n",
      "Fold 8 test accuracy: 0.745\n",
      "Fold 9 test accuracy: 0.775\n",
      "Fold 10 test accuracy: 0.755\n",
      "Average cross-validation accuracy for unigrams + bigrams : 0.801\n",
      "Average cross-validation accuracy for  unigrams + bigrams + trigrams: 0.766\n"
     ]
    }
   ],
   "source": [
    "def cross_validate(data, n, num_folds=10):\n",
    "    \"\"\"\n",
    "    Performs 10-fold cross-validation using round-robin splitting for Naive Bayes.\n",
    "\n",
    "    :param data: list of samples, each with 'content' and 'sentiment' fields\n",
    "    :param num_folds: number of folds for cross-validation (default: 10)\n",
    "    :param kappa: smoothing parameter for Naive Bayes\n",
    "    :return: average accuracy across folds\n",
    "    \"\"\"\n",
    "    folds = round_robin_split(data, num_folds)\n",
    "    fold_accuracies = []\n",
    "    \n",
    "    for i in range(num_folds):\n",
    "        # Prepare training and testing sets for the current fold\n",
    "        test_data = folds[i]\n",
    "        train_data = [item for j, fold in enumerate(folds) if j != i for item in fold]\n",
    "        \n",
    "        # Evaluate Naive Bayes model using the provided evaluate function\n",
    "        _, _, train_accuracy, test_accuracy = evaluate_naive_bayes_ngrams(\n",
    "            train_data, test_data, n\n",
    "        )\n",
    "        \n",
    "        # Record the test accuracy for the current fold\n",
    "        fold_accuracies.append(test_accuracy)\n",
    "        print(f\"Fold {i+1} test accuracy: {test_accuracy:.3f}\")\n",
    "\n",
    "    # Calculate and report the average accuracy across folds\n",
    "    avg_accuracy = np.mean(fold_accuracies)\n",
    "\n",
    "    return avg_accuracy, fold_accuracies\n",
    "\n",
    "\n",
    "average_accuracy_bigrams, _ = cross_validate(reviews, 2, num_folds=10)\n",
    "\n",
    "\n",
    "average_accuracy_trigrams, _ = cross_validate(reviews, 3, num_folds=10)\n",
    "print(f\"Average cross-validation accuracy for unigrams + bigrams : {average_accuracy_bigrams:.3f}\")\n",
    "print(f\"Average cross-validation accuracy for  unigrams + bigrams + trigrams: {average_accuracy_trigrams:.3f}\")"
   ]
  },
  {
   "cell_type": "markdown",
   "metadata": {
    "id": "dVrGGArkrWoL"
   },
   "source": [
    "\n",
    "#### Q2.10: How many features does the BoW model have to take into account now? (0.5pt)\n",
    "How would you expect the number of features to increase theoretically (e.g., linear, square, cubed, exponential)? How do the number of features increase in the held-out training set (compared to Q2.8)? Do you expect this rate of increase to continue for (much) larger n-grams?\n",
    "\n",
    "Use the held-out training set once again for this.\n"
   ]
  },
  {
   "cell_type": "markdown",
   "metadata": {
    "id": "yEGZ9SV8pPaa"
   },
   "source": [
    "Awnser: We theoretically expect the number to increase exponentially since we get .... ????????????"
   ]
  },
  {
   "cell_type": "code",
   "metadata": {
    "id": "_z8sAJeUrdtM",
    "ExecuteTime": {
     "end_time": "2024-11-07T13:56:17.913136Z",
     "start_time": "2024-11-07T13:56:14.029195Z"
    }
   },
   "source": [
    "# YOUR CODE HERE\n",
    "# Count features for unigrams\n",
    "feature_count_unigram, _ = get_features_ngrams(reviews, 1)\n",
    "total_features_unigrams = len(feature_count_unigram['POS']) + len(feature_count_unigram['NEG'])\n",
    "print(f\"Total number of features (unigrams): {total_features_unigrams}\")\n",
    "\n",
    "# Count features for unigrams + bigrams\n",
    "feature_count_unigram_bigram, _ = get_features_ngrams(reviews, 2)\n",
    "total_features_unigrams_bigrams = len(feature_count_unigram_bigram['POS']) + len(feature_count_unigram_bigram['NEG'])\n",
    "print(f\"Total number of features (unigrams + bigrams): {total_features_unigrams_bigrams}\")\n",
    "\n",
    "# Count features for unigrams + bigrams + trigrams\n",
    "feature_count_unigram_bigram_trigram, _ = get_features_ngrams(reviews, 3)\n",
    "total_features_unigrams_bigrams_trigrams = len(feature_count_unigram_bigram_trigram['POS']) + len(feature_count_unigram_bigram_trigram['NEG'])\n",
    "print(f\"Total number of features (unigrams + bigrams + trigrams): {total_features_unigrams_bigrams_trigrams}\")\n"
   ],
   "outputs": [
    {
     "name": "stdout",
     "output_type": "stream",
     "text": [
      "Total number of features (unigrams): 67558\n",
      "Total number of features (unigrams + bigrams): 603497\n",
      "Total number of features (unigrams + bigrams + trigrams): 1642787\n"
     ]
    }
   ],
   "execution_count": 66
  },
  {
   "cell_type": "markdown",
   "metadata": {
    "id": "CHWKDL3YV6vh"
   },
   "source": [
    "# (3) Support Vector Machines (4pts)"
   ]
  },
  {
   "cell_type": "markdown",
   "metadata": {
    "id": "hJSYhcVaoJGt"
   },
   "source": [
    "Though simple to understand, implement, and debug, one\n",
    "major problem with the Naive Bayes classifier is that its performance\n",
    "deteriorates (becomes skewed) when it is being used with features which\n",
    "are not independent (i.e., are correlated). Another popular classifier\n",
    "that doesn’t scale as well to big data, and is not as simple to debug as\n",
    "Naive Bayes, but that doesn’t assume feature independence is the Support\n",
    "Vector Machine (SVM) classifier.\n",
    "\n",
    "You can find more details about SVMs in Chapter 7 of Bishop: Pattern Recognition and Machine Learning.\n",
    "Other sources for learning SVM:\n",
    "* http://web.mit.edu/zoya/www/SVM.pdf\n",
    "* http://www.cs.columbia.edu/~kathy/cs4701/documents/jason_svm_tutorial.pdf\n",
    "* https://pythonprogramming.net/support-vector-machine-intro-machine-learning-tutorial/\n",
    "\n",
    "\n",
    "\n",
    "\n",
    "\n",
    "\n",
    "\n",
    "Use the scikit-learn implementation of\n",
    "[SVM](http://scikit-learn.org/stable/modules/svm.html) with the default parameters. (You are not expected to perform any hyperparameter tuning, but feel free to do it if you think it gives you good insights for the discussion in question 5.)\n",
    "\n"
   ]
  },
  {
   "cell_type": "markdown",
   "metadata": {
    "id": "0LnzNtQBV8gr"
   },
   "source": [
    "#### (Q3.1): Train SVM and compare to Naive Bayes (2pts)\n",
    "\n",
    "Train an SVM classifier (sklearn.svm.LinearSVC) using the features collected for Naive Bayes. Compare the\n",
    "classification performance of the SVM classifier to that of the Naive\n",
    "Bayes classifier with smoothing.\n",
    "Use cross-validation to evaluate the performance of the classifiers.\n",
    "\n"
   ]
  },
  {
   "cell_type": "code",
   "execution_count": 27,
   "metadata": {
    "ExecuteTime": {
     "end_time": "2024-11-07T13:45:07.503612Z",
     "start_time": "2024-11-06T18:23:46.277806Z"
    },
    "id": "JBscui8Mvoz0"
   },
   "outputs": [
    {
     "name": "stdout",
     "output_type": "stream",
     "text": [
      "SVM Mean CV Accuracy with word features: 0.806\n",
      "NB Mean CV Accuracy (from 2.4): 0.805\n"
     ]
    }
   ],
   "source": [
    "# YOUR CODE HERE\n",
    "from sklearn.feature_extraction.text import CountVectorizer\n",
    "from sklearn.naive_bayes import MultinomialNB\n",
    "from sklearn.svm import LinearSVC\n",
    "from sklearn.model_selection import cross_val_score\n",
    "\n",
    "# Custom cross-validation function\n",
    "def round_robin_split(X, y, num_folds=5):\n",
    "    \"\"\"\n",
    "    Splits the data into `num_folds` using round-robin approach.\n",
    "    Handles sparse matrices by accessing the shape[0] for length.\n",
    "    \"\"\"\n",
    "    fold_size = len(X) // num_folds  # Using len(X) since X is the list of reviews\n",
    "    splits = []\n",
    "    for i in range(num_folds):\n",
    "        test_idx = np.arange(i * fold_size, (i + 1) * fold_size)\n",
    "        train_idx = np.setdiff1d(np.arange(len(X)), test_idx)  # Using len(X)\n",
    "        splits.append((train_idx, test_idx))\n",
    "    return splits\n",
    "\n",
    "def svm_cross_val(reviews, model, num_folds=10):\n",
    "    \"\"\"\n",
    "    Performs custom cross-validation using round-robin splitting.\n",
    "    The data is vectorized inside each fold to ensure separate fitting and testing.\n",
    "    \n",
    "    :param reviews: List of reviews for cross-validation.\n",
    "    :param model: Model to be trained and evaluated (e.g., Naive Bayes or SVM).\n",
    "    :param num_folds: Number of folds for cross-validation.\n",
    "    :return: Average accuracy across all folds.\n",
    "    \"\"\"\n",
    "    # Extract sentiment labels\n",
    "    y = [review[\"sentiment\"] for review in reviews]\n",
    "    \n",
    "    splits = round_robin_split(reviews, y, num_folds)\n",
    "    fold_accuracies = []\n",
    "\n",
    "    for train_idx, test_idx in splits:\n",
    "        # Prepare data for vectorization within each fold\n",
    "        train_texts = [\n",
    "            \" \".join([\n",
    "                token.lower().translate(str.maketrans('', '', string.punctuation.replace('_', '')))  # Remove punctuation except underscores\n",
    "                for sentence in reviews[i][\"content\"]\n",
    "                for token, _ in sentence\n",
    "            ])\n",
    "            for i in train_idx\n",
    "        ]\n",
    "\n",
    "        test_texts = [\n",
    "            \" \".join([\n",
    "                token.lower().translate(str.maketrans('', '', string.punctuation.replace('_', '')))  # Remove punctuation except underscores\n",
    "                for sentence in reviews[i][\"content\"]\n",
    "                for token, _ in sentence\n",
    "            ])\n",
    "            for i in test_idx\n",
    "]\n",
    "\n",
    "        # Vectorize texts\n",
    "        vectorizer = CountVectorizer()\n",
    "        X_train_fold = vectorizer.fit_transform(train_texts)\n",
    "        y_train_fold = [y[i] for i in train_idx]\n",
    "        X_test_fold = vectorizer.transform(test_texts)\n",
    "        y_test_fold = [y[i] for i in test_idx]\n",
    "        \n",
    "        # Train model on the current fold\n",
    "        model.fit(X_train_fold, y_train_fold)\n",
    "        accuracy = model.score(X_test_fold, y_test_fold)\n",
    "        # print(\"accuracy: \" + str(accuracy))\n",
    "        fold_accuracies.append(accuracy)\n",
    "\n",
    "    return np.mean(fold_accuracies)\n",
    "\n",
    "# SVM Model\n",
    "svm_model = LinearSVC()\n",
    "\n",
    "accuracy_svm = svm_cross_val(reviews, svm_model, 10)\n",
    "print(f\"SVM Mean CV Accuracy with word features: {accuracy_svm:.3f}\")\n",
    "\n",
    "#TODO: ASK should we use the skikit library for nb or use the one we already made? \n",
    "print(f\"NB Mean CV Accuracy (from 2.4): {test_nb_smoothed_accuracy:.3f}\")\n"
   ]
  },
  {
   "cell_type": "markdown",
   "metadata": {
    "id": "ifXVWcK0V9qY"
   },
   "source": [
    "### POS disambiguation (2pts)\n",
    "\n",
    "Now add in part-of-speech features. You will find the\n",
    "movie review dataset has already been POS-tagged for you ([here](https://catalog.ldc.upenn.edu/docs/LDC99T42/tagguid1.pdf) you find the tagset). Try to\n",
    "replicate the results obtained by Pang et al. (2002).\n",
    "\n"
   ]
  },
  {
   "cell_type": "markdown",
   "metadata": {
    "id": "xA3I82o4oWGu"
   },
   "source": [
    "#### (Q3.2) Replace your features with word+POS features, and report performance with the SVM. Use cross-validation to evaluate the classifier and compare the results with (Q3.1). Does part-of-speech information help? Explain why this may be the case. (1pt)\n"
   ]
  },
  {
   "cell_type": "code",
   "execution_count": 28,
   "metadata": {
    "ExecuteTime": {
     "end_time": "2024-11-07T13:45:07.503715Z",
     "start_time": "2024-11-06T18:24:08.717662Z"
    },
    "id": "NOvjYe-t2Br6"
   },
   "outputs": [
    {
     "name": "stdout",
     "output_type": "stream",
     "text": [
      "[{'cv': 0, 'sentiment': 'NEG', 'content': [[['Two', 'CD'], ['teen', 'JJ'], ['couples', 'NNS'], ['go', 'VBP'], ['to', 'TO'], ['a', 'DT'], ['church', 'NN'], ['party', 'NN'], [',', ','], ['drink', 'NN'], ['and', 'CC'], ['then', 'RB'], ['drive', 'NN'], ['.', '.']], [['They', 'PRP'], ['get', 'VBP'], ['into', 'IN'], ['an', 'DT'], ['accident', 'NN'], ['.', '.']], [['One', 'CD'], ['of', 'IN'], ['the', 'DT'], ['guys', 'NNS'], ['dies', 'VBZ'], [',', ','], ['but', 'CC'], ['his', 'PRP$'], ['girlfriend', 'NN'], ['continues', 'VBZ'], ['to', 'TO'], ['see', 'VB'], ['him', 'PRP'], ['in', 'IN'], ['her', 'PRP$'], ['life', 'NN'], [',', ','], ['and', 'CC'], ['has', 'VBZ'], ['nightmares', 'NNS'], ['.', '.']], [['What', 'WP'], [\"'s\", 'VBZ'], ['the', 'DT'], ['deal', 'NN'], ['?', '.']], [['Watch', 'VB'], ['the', 'DT'], ['movie', 'NN'], ['and', 'CC'], ['``', '``'], ['sorta', 'NN'], [\"''\", \"''\"], ['find', 'VB'], ['out', 'RP'], ['...', ':'], ['CRITIQUE', 'NNP'], [':', ':'], ['A', 'NNP'], ['mind-fuck', 'JJ'], ['movie', 'NN'], ['for', 'IN'], ['the', 'DT'], ['teen', 'NN'], ['generation', 'NN'], ['that', 'WDT'], ['touches', 'NNS'], ['on', 'IN'], ['a', 'DT'], ['very', 'RB'], ['cool', 'JJ'], ['idea', 'NN'], [',', ','], ['but', 'CC'], ['presents', 'VBZ'], ['it', 'PRP'], ['in', 'IN'], ['a', 'DT'], ['very', 'RB'], ['bad', 'JJ'], ['package', 'NN'], ['.', '.']], [['Which', 'WDT'], ['is', 'VBZ'], ['what', 'WP'], ['makes', 'VBZ'], ['this', 'DT'], ['review', 'NN'], ['an', 'DT'], ['even', 'RB'], ['harder', 'RBR'], ['one', 'CD'], ['to', 'TO'], ['write', 'VB'], [',', ','], ['since', 'IN'], ['I', 'PRP'], ['generally', 'RB'], ['applaud', 'VBP'], ['films', 'NNS'], ['which', 'WDT'], ['attempt', 'VBP'], ['to', 'TO'], ['break', 'VB'], ['the', 'DT'], ['mold', 'NN'], [',', ','], ['mess', 'NN'], ['with', 'IN'], ['your', 'PRP$'], ['head', 'NN'], ['and', 'CC'], ['such', 'JJ'], ['-LRB-', '-LRB-'], ['LOST', 'JJ'], ['HIGHWAY', 'NNP'], ['&', 'CC'], ['MEMENTO', 'NNP'], ['-RRB-', '-RRB-'], [',', ','], ['but', 'CC'], ['there', 'EX'], ['are', 'VBP'], ['good', 'JJ'], ['and', 'CC'], ['bad', 'JJ'], ['ways', 'NNS'], ['of', 'IN'], ['making', 'VBG'], ['all', 'DT'], ['types', 'NNS'], ['of', 'IN'], ['films', 'NNS'], [',', ','], ['and', 'CC'], ['these', 'DT'], ['folks', 'NNS'], ['just', 'RB'], ['did', 'VBD'], [\"n't\", 'RB'], ['snag', 'NN'], ['this', 'DT'], ['one', 'CD'], ['correctly', 'RB'], ['.', '.']], [['They', 'PRP'], ['seem', 'VBP'], ['to', 'TO'], ['have', 'VB'], ['taken', 'VBN'], ['this', 'DT'], ['pretty', 'RB'], ['neat', 'JJ'], ['concept', 'NN'], [',', ','], ['but', 'CC'], ['executed', 'VBD'], ['it', 'PRP'], ['terribly', 'RB'], ['.', '.']], [['So', 'RB'], ['what', 'WP'], ['are', 'VBP'], ['the', 'DT'], ['problems', 'NNS'], ['with', 'IN'], ['the', 'DT'], ['movie', 'NN'], ['?', '.']], [['Well', 'RB'], [',', ','], ['its', 'PRP$'], ['main', 'JJ'], ['problem', 'NN'], ['is', 'VBZ'], ['that', 'IN'], ['it', 'PRP'], [\"'s\", 'VBZ'], ['simply', 'RB'], ['too', 'RB'], ['jumbled', 'JJ'], ['.', '.']], [['It', 'PRP'], ['starts', 'VBZ'], ['off', 'RP'], ['``', '``'], ['normal', 'JJ'], [\"''\", \"''\"], ['but', 'CC'], ['then', 'RB'], ['downshifts', 'VBZ'], ['into', 'IN'], ['this', 'DT'], ['``', '``'], ['fantasy', 'NN'], [\"''\", \"''\"], ['world', 'NN'], ['in', 'IN'], ['which', 'WDT'], ['you', 'PRP'], [',', ','], ['as', 'IN'], ['an', 'DT'], ['audience', 'NN'], ['member', 'NN'], [',', ','], ['have', 'VBP'], ['no', 'DT'], ['idea', 'NN'], ['what', 'WP'], [\"'s\", 'VBZ'], ['going', 'VBG'], ['on', 'RP'], ['.', '.']], [['There', 'EX'], ['are', 'VBP'], ['dreams', 'NNS'], [',', ','], ['there', 'EX'], ['are', 'VBP'], ['characters', 'NNS'], ['coming', 'VBG'], ['back', 'RB'], ['from', 'IN'], ['the', 'DT'], ['dead', 'JJ'], [',', ','], ['there', 'EX'], ['are', 'VBP'], ['others', 'NNS'], ['who', 'WP'], ['look', 'VBP'], ['like', 'IN'], ['the', 'DT'], ['dead', 'JJ'], [',', ','], ['there', 'EX'], ['are', 'VBP'], ['strange', 'JJ'], ['apparitions', 'NNS'], [',', ','], ['there', 'EX'], ['are', 'VBP'], ['disappearances', 'NNS'], [',', ','], ['there', 'EX'], ['are', 'VBP'], ['a', 'DT'], ['looooot', 'NN'], ['of', 'IN'], ['chase', 'NN'], ['scenes', 'NNS'], [',', ','], ['there', 'EX'], ['are', 'VBP'], ['tons', 'NNS'], ['of', 'IN'], ['weird', 'JJ'], ['things', 'NNS'], ['that', 'WDT'], ['happen', 'VBP'], [',', ','], ['and', 'CC'], ['most', 'JJS'], ['of', 'IN'], ['it', 'PRP'], ['is', 'VBZ'], ['simply', 'RB'], ['not', 'RB'], ['explained', 'VBN'], ['.', '.']], [['Now', 'RB'], ['I', 'PRP'], ['personally', 'RB'], ['do', 'VBP'], [\"n't\", 'RB'], ['mind', 'VB'], ['trying', 'VBG'], ['to', 'TO'], ['unravel', 'VB'], ['a', 'DT'], ['film', 'NN'], ['every', 'DT'], ['now', 'RB'], ['and', 'CC'], ['then', 'RB'], [',', ','], ['but', 'CC'], ['when', 'WRB'], ['all', 'DT'], ['it', 'PRP'], ['does', 'VBZ'], ['is', 'VBZ'], ['give', 'VB'], ['me', 'PRP'], ['the', 'DT'], ['same', 'JJ'], ['clue', 'NN'], ['over', 'IN'], ['and', 'CC'], ['over', 'IN'], ['again', 'RB'], [',', ','], ['I', 'PRP'], ['get', 'VBP'], ['kind', 'NN'], ['of', 'IN'], ['fed', 'VBN'], ['up', 'RP'], ['after', 'IN'], ['a', 'DT'], ['while', 'NN'], [',', ','], ['which', 'WDT'], ['is', 'VBZ'], ['this', 'DT'], ['film', 'NN'], [\"'s\", 'POS'], ['biggest', 'JJS'], ['problem', 'NN'], ['.', '.']], [['It', 'PRP'], [\"'s\", 'VBZ'], ['obviously', 'RB'], ['got', 'VBN'], ['this', 'DT'], ['big', 'JJ'], ['secret', 'NN'], ['to', 'TO'], ['hide', 'VB'], [',', ','], ['but', 'CC'], ['it', 'PRP'], ['seems', 'VBZ'], ['to', 'TO'], ['want', 'VB'], ['to', 'TO'], ['hide', 'VB'], ['it', 'PRP'], ['completely', 'RB'], ['until', 'IN'], ['its', 'PRP$'], ['final', 'JJ'], ['five', 'CD'], ['minutes', 'NNS'], ['.', '.']], [['And', 'CC'], ['do', 'VBP'], ['they', 'PRP'], ['make', 'VBP'], ['things', 'NNS'], ['entertaining', 'JJ'], [',', ','], ['thrilling', 'JJ'], ['or', 'CC'], ['even', 'RB'], ['engaging', 'JJ'], [',', ','], ['in', 'IN'], ['the', 'DT'], ['meantime', 'NN'], ['?', '.']], [['Not', 'RB'], ['really', 'RB'], ['.', '.']], [['The', 'DT'], ['sad', 'JJ'], ['part', 'NN'], ['is', 'VBZ'], ['that', 'IN'], ['the', 'DT'], ['Arrow', 'NNP'], ['and', 'CC'], ['I', 'PRP'], ['both', 'DT'], ['dig', 'NN'], ['on', 'IN'], ['flicks', 'NNS'], ['like', 'IN'], ['this', 'DT'], [',', ','], ['so', 'IN'], ['we', 'PRP'], ['actually', 'RB'], ['figured', 'VBD'], ['most', 'JJS'], ['of', 'IN'], ['it', 'PRP'], ['out', 'RP'], ['by', 'IN'], ['the', 'DT'], ['half-way', 'NN'], ['point', 'NN'], [',', ','], ['so', 'RB'], ['all', 'DT'], ['of', 'IN'], ['the', 'DT'], ['strangeness', 'NN'], ['after', 'IN'], ['that', 'DT'], ['did', 'VBD'], ['start', 'VB'], ['to', 'TO'], ['make', 'VB'], ['a', 'DT'], ['little', 'JJ'], ['bit', 'NN'], ['of', 'IN'], ['sense', 'NN'], [',', ','], ['but', 'CC'], ['it', 'PRP'], ['still', 'RB'], ['did', 'VBD'], [\"n't\", 'RB'], ['the', 'DT'], ['make', 'VB'], ['the', 'DT'], ['film', 'NN'], ['all', 'DT'], ['that', 'IN'], ['more', 'JJR'], ['entertaining', 'JJ'], ['.', '.']], [['I', 'PRP'], ['guess', 'VBP'], ['the', 'DT'], ['bottom', 'JJ'], ['line', 'NN'], ['with', 'IN'], ['movies', 'NNS'], ['like', 'IN'], ['this', 'DT'], ['is', 'VBZ'], ['that', 'IN'], ['you', 'PRP'], ['should', 'MD'], ['always', 'RB'], ['make', 'VB'], ['sure', 'JJ'], ['that', 'IN'], ['the', 'DT'], ['audience', 'NN'], ['is', 'VBZ'], ['``', '``'], ['into', 'IN'], ['it', 'PRP'], [\"''\", \"''\"], ['even', 'RB'], ['before', 'IN'], ['they', 'PRP'], ['are', 'VBP'], ['given', 'VBN'], ['the', 'DT'], ['secret', 'JJ'], ['password', 'NN'], ['to', 'TO'], ['enter', 'VB'], ['your', 'PRP$'], ['world', 'NN'], ['of', 'IN'], ['understanding', 'NN'], ['.', '.']], [['I', 'PRP'], ['mean', 'VBP'], [',', ','], ['showing', 'VBG'], ['Melissa', 'NNP'], ['Sagemiller', 'NNP'], ['running', 'VBG'], ['away', 'RB'], ['from', 'IN'], ['visions', 'NNS'], ['for', 'IN'], ['about', 'RB'], ['20', 'CD'], ['minutes', 'NNS'], ['throughout', 'IN'], ['the', 'DT'], ['movie', 'NN'], ['is', 'VBZ'], ['just', 'RB'], ['plain', 'JJ'], ['lazy', 'JJ'], ['!!', 'NN']], [['Okay', 'UH'], [',', ','], ['we', 'PRP'], ['get', 'VBP'], ['it', 'PRP'], ['...', ':'], ['there', 'EX'], ['are', 'VBP'], ['people', 'NNS'], ['chasing', 'VBG'], ['her', 'PRP'], ['and', 'CC'], ['we', 'PRP'], ['do', 'VBP'], [\"n't\", 'RB'], ['know', 'VB'], ['who', 'WP'], ['they', 'PRP'], ['are', 'VBP'], ['.', '.']], [['Do', 'VB'], ['we', 'PRP'], ['really', 'RB'], ['need', 'VBP'], ['to', 'TO'], ['see', 'VB'], ['it', 'PRP'], ['over', 'IN'], ['and', 'CC'], ['over', 'IN'], ['again', 'RB'], ['?', '.']], [['How', 'WRB'], ['about', 'RB'], ['giving', 'VBG'], ['us', 'PRP'], ['different', 'JJ'], ['scenes', 'NNS'], ['offering', 'VBG'], ['further', 'JJ'], ['insight', 'NN'], ['into', 'IN'], ['all', 'DT'], ['of', 'IN'], ['the', 'DT'], ['strangeness', 'NN'], ['going', 'VBG'], ['down', 'RB'], ['in', 'IN'], ['the', 'DT'], ['movie', 'NN'], ['?', '.']], [['Apparently', 'RB'], [',', ','], ['the', 'DT'], ['studio', 'NN'], ['took', 'VBD'], ['this', 'DT'], ['film', 'NN'], ['away', 'RB'], ['from', 'IN'], ['its', 'PRP$'], ['director', 'NN'], ['and', 'CC'], ['chopped', 'VBD'], ['it', 'PRP'], ['up', 'RP'], ['themselves', 'PRP'], [',', ','], ['and', 'CC'], ['it', 'PRP'], ['shows', 'VBZ'], ['.', '.']], [['There', 'EX'], ['might', 'MD'], [\"'ve\", 'VB'], ['been', 'VBN'], ['a', 'DT'], ['pretty', 'RB'], ['decent', 'JJ'], ['teen', 'NN'], ['mind-fuck', 'NN'], ['movie', 'NN'], ['in', 'IN'], ['here', 'RB'], ['somewhere', 'RB'], [',', ','], ['but', 'CC'], ['I', 'PRP'], ['guess', 'VBP'], ['``', '``'], ['the', 'DT'], ['suits', 'NNS'], [\"''\", \"''\"], ['decided', 'VBD'], ['that', 'IN'], ['turning', 'VBG'], ['it', 'PRP'], ['into', 'IN'], ['a', 'DT'], ['music', 'NN'], ['video', 'NN'], ['with', 'IN'], ['little', 'JJ'], ['edge', 'NN'], [',', ','], ['would', 'MD'], ['make', 'VB'], ['more', 'JJR'], ['sense', 'NN'], ['.', '.']], [['The', 'DT'], ['actors', 'NNS'], ['are', 'VBP'], ['pretty', 'RB'], ['good', 'JJ'], ['for', 'IN'], ['the', 'DT'], ['most', 'JJS'], ['part', 'NN'], [',', ','], ['although', 'IN'], ['Wes', 'NNP'], ['Bentley', 'NNP'], ['just', 'RB'], ['seemed', 'VBD'], ['to', 'TO'], ['be', 'VB'], ['playing', 'VBG'], ['the', 'DT'], ['exact', 'JJ'], ['same', 'JJ'], ['character', 'NN'], ['that', 'IN'], ['he', 'PRP'], ['did', 'VBD'], ['in', 'IN'], ['AMERICAN', 'NNP'], ['BEAUTY', 'NNP'], [',', ','], ['only', 'RB'], ['in', 'IN'], ['a', 'DT'], ['new', 'JJ'], ['neighborhood', 'NN'], ['.', '.']], [['But', 'CC'], ['my', 'PRP$'], ['biggest', 'JJS'], ['kudos', 'NNS'], ['go', 'VBP'], ['out', 'RP'], ['to', 'TO'], ['Sagemiller', 'NNP'], [',', ','], ['who', 'WP'], ['holds', 'VBZ'], ['her', 'PRP$'], ['own', 'JJ'], ['throughout', 'IN'], ['the', 'DT'], ['entire', 'JJ'], ['film', 'NN'], [',', ','], ['and', 'CC'], ['actually', 'RB'], ['has', 'VBZ'], ['you', 'PRP'], ['feeling', 'VBG'], ['her', 'PRP$'], ['character', 'NN'], [\"'s\", 'POS'], ['unraveling', 'NN'], ['.', '.']], [['Overall', 'RB'], [',', ','], ['the', 'DT'], ['film', 'NN'], ['does', 'VBZ'], [\"n't\", 'RB'], ['stick', 'VB'], ['because', 'IN'], ['it', 'PRP'], ['does', 'VBZ'], [\"n't\", 'RB'], ['entertain', 'VB'], [',', ','], ['it', 'PRP'], [\"'s\", 'VBZ'], ['confusing', 'JJ'], [',', ','], ['it', 'PRP'], ['rarely', 'RB'], ['excites', 'VBZ'], ['and', 'CC'], ['it', 'PRP'], ['feels', 'VBZ'], ['pretty', 'RB'], ['redundant', 'JJ'], ['for', 'IN'], ['most', 'JJS'], ['of', 'IN'], ['its', 'PRP$'], ['runtime', 'NN'], [',', ','], ['despite', 'IN'], ['a', 'DT'], ['pretty', 'RB'], ['cool', 'JJ'], ['ending', 'VBG'], ['and', 'CC'], ['explanation', 'NN'], ['to', 'TO'], ['all', 'DT'], ['of', 'IN'], ['the', 'DT'], ['craziness', 'NN'], ['that', 'WDT'], ['came', 'VBD'], ['before', 'IN'], ['it', 'PRP'], ['.', '.']], [['Oh', 'UH'], [',', ','], ['and', 'CC'], ['by', 'IN'], ['the', 'DT'], ['way', 'NN'], [',', ','], ['this', 'DT'], ['is', 'VBZ'], ['not', 'RB'], ['a', 'DT'], ['horror', 'NN'], ['or', 'CC'], ['teen', 'JJ'], ['slasher', 'NN'], ['flick', 'NN'], ['...', ':'], ['it', 'PRP'], [\"'s\", 'VBZ'], ['just', 'RB'], ['packaged', 'VBN'], ['to', 'TO'], ['look', 'VB'], ['that', 'DT'], ['way', 'NN'], ['because', 'IN'], ['someone', 'NN'], ['is', 'VBZ'], ['apparently', 'RB'], ['assuming', 'VBG'], ['that', 'IN'], ['the', 'DT'], ['genre', 'NN'], ['is', 'VBZ'], ['still', 'RB'], ['hot', 'JJ'], ['with', 'IN'], ['the', 'DT'], ['kids', 'NNS'], ['.', '.']], [['It', 'PRP'], ['also', 'RB'], ['wrapped', 'VBD'], ['production', 'NN'], ['two', 'CD'], ['years', 'NNS'], ['ago', 'RB'], ['and', 'CC'], ['has', 'VBZ'], ['been', 'VBN'], ['sitting', 'VBG'], ['on', 'IN'], ['the', 'DT'], ['shelves', 'NNS'], ['ever', 'RB'], ['since', 'IN'], ['.', '.']], [['Whatever', 'WDT'], ['...', ':'], ['skip', 'VB'], ['it', 'PRP'], ['!', '.']]]}]\n",
      "[{'cv': 0, 'sentiment': 'NEG', 'content': [[['two_CD', 'CD'], ['teen_JJ', 'JJ'], ['couples_NNS', 'NNS'], ['go_VBP', 'VBP'], ['to_TO', 'TO'], ['a_DT', 'DT'], ['church_NN', 'NN'], ['party_NN', 'NN'], [',_,', ','], ['drink_NN', 'NN'], ['and_CC', 'CC'], ['then_RB', 'RB'], ['drive_NN', 'NN'], ['._.', '.']], [['they_PRP', 'PRP'], ['get_VBP', 'VBP'], ['into_IN', 'IN'], ['an_DT', 'DT'], ['accident_NN', 'NN'], ['._.', '.']], [['one_CD', 'CD'], ['of_IN', 'IN'], ['the_DT', 'DT'], ['guys_NNS', 'NNS'], ['dies_VBZ', 'VBZ'], [',_,', ','], ['but_CC', 'CC'], ['his_PRP$', 'PRP$'], ['girlfriend_NN', 'NN'], ['continues_VBZ', 'VBZ'], ['to_TO', 'TO'], ['see_VB', 'VB'], ['him_PRP', 'PRP'], ['in_IN', 'IN'], ['her_PRP$', 'PRP$'], ['life_NN', 'NN'], [',_,', ','], ['and_CC', 'CC'], ['has_VBZ', 'VBZ'], ['nightmares_NNS', 'NNS'], ['._.', '.']], [['what_WP', 'WP'], [\"'s_VBZ\", 'VBZ'], ['the_DT', 'DT'], ['deal_NN', 'NN'], ['?_.', '.']], [['watch_VB', 'VB'], ['the_DT', 'DT'], ['movie_NN', 'NN'], ['and_CC', 'CC'], ['``_``', '``'], ['sorta_NN', 'NN'], [\"''_''\", \"''\"], ['find_VB', 'VB'], ['out_RP', 'RP'], ['..._:', ':'], ['critique_NNP', 'NNP'], [':_:', ':'], ['a_NNP', 'NNP'], ['mind-fuck_JJ', 'JJ'], ['movie_NN', 'NN'], ['for_IN', 'IN'], ['the_DT', 'DT'], ['teen_NN', 'NN'], ['generation_NN', 'NN'], ['that_WDT', 'WDT'], ['touches_NNS', 'NNS'], ['on_IN', 'IN'], ['a_DT', 'DT'], ['very_RB', 'RB'], ['cool_JJ', 'JJ'], ['idea_NN', 'NN'], [',_,', ','], ['but_CC', 'CC'], ['presents_VBZ', 'VBZ'], ['it_PRP', 'PRP'], ['in_IN', 'IN'], ['a_DT', 'DT'], ['very_RB', 'RB'], ['bad_JJ', 'JJ'], ['package_NN', 'NN'], ['._.', '.']], [['which_WDT', 'WDT'], ['is_VBZ', 'VBZ'], ['what_WP', 'WP'], ['makes_VBZ', 'VBZ'], ['this_DT', 'DT'], ['review_NN', 'NN'], ['an_DT', 'DT'], ['even_RB', 'RB'], ['harder_RBR', 'RBR'], ['one_CD', 'CD'], ['to_TO', 'TO'], ['write_VB', 'VB'], [',_,', ','], ['since_IN', 'IN'], ['i_PRP', 'PRP'], ['generally_RB', 'RB'], ['applaud_VBP', 'VBP'], ['films_NNS', 'NNS'], ['which_WDT', 'WDT'], ['attempt_VBP', 'VBP'], ['to_TO', 'TO'], ['break_VB', 'VB'], ['the_DT', 'DT'], ['mold_NN', 'NN'], [',_,', ','], ['mess_NN', 'NN'], ['with_IN', 'IN'], ['your_PRP$', 'PRP$'], ['head_NN', 'NN'], ['and_CC', 'CC'], ['such_JJ', 'JJ'], ['-lrb-_-LRB-', '-LRB-'], ['lost_JJ', 'JJ'], ['highway_NNP', 'NNP'], ['&_CC', 'CC'], ['memento_NNP', 'NNP'], ['-rrb-_-RRB-', '-RRB-'], [',_,', ','], ['but_CC', 'CC'], ['there_EX', 'EX'], ['are_VBP', 'VBP'], ['good_JJ', 'JJ'], ['and_CC', 'CC'], ['bad_JJ', 'JJ'], ['ways_NNS', 'NNS'], ['of_IN', 'IN'], ['making_VBG', 'VBG'], ['all_DT', 'DT'], ['types_NNS', 'NNS'], ['of_IN', 'IN'], ['films_NNS', 'NNS'], [',_,', ','], ['and_CC', 'CC'], ['these_DT', 'DT'], ['folks_NNS', 'NNS'], ['just_RB', 'RB'], ['did_VBD', 'VBD'], [\"n't_RB\", 'RB'], ['snag_NN', 'NN'], ['this_DT', 'DT'], ['one_CD', 'CD'], ['correctly_RB', 'RB'], ['._.', '.']], [['they_PRP', 'PRP'], ['seem_VBP', 'VBP'], ['to_TO', 'TO'], ['have_VB', 'VB'], ['taken_VBN', 'VBN'], ['this_DT', 'DT'], ['pretty_RB', 'RB'], ['neat_JJ', 'JJ'], ['concept_NN', 'NN'], [',_,', ','], ['but_CC', 'CC'], ['executed_VBD', 'VBD'], ['it_PRP', 'PRP'], ['terribly_RB', 'RB'], ['._.', '.']], [['so_RB', 'RB'], ['what_WP', 'WP'], ['are_VBP', 'VBP'], ['the_DT', 'DT'], ['problems_NNS', 'NNS'], ['with_IN', 'IN'], ['the_DT', 'DT'], ['movie_NN', 'NN'], ['?_.', '.']], [['well_RB', 'RB'], [',_,', ','], ['its_PRP$', 'PRP$'], ['main_JJ', 'JJ'], ['problem_NN', 'NN'], ['is_VBZ', 'VBZ'], ['that_IN', 'IN'], ['it_PRP', 'PRP'], [\"'s_VBZ\", 'VBZ'], ['simply_RB', 'RB'], ['too_RB', 'RB'], ['jumbled_JJ', 'JJ'], ['._.', '.']], [['it_PRP', 'PRP'], ['starts_VBZ', 'VBZ'], ['off_RP', 'RP'], ['``_``', '``'], ['normal_JJ', 'JJ'], [\"''_''\", \"''\"], ['but_CC', 'CC'], ['then_RB', 'RB'], ['downshifts_VBZ', 'VBZ'], ['into_IN', 'IN'], ['this_DT', 'DT'], ['``_``', '``'], ['fantasy_NN', 'NN'], [\"''_''\", \"''\"], ['world_NN', 'NN'], ['in_IN', 'IN'], ['which_WDT', 'WDT'], ['you_PRP', 'PRP'], [',_,', ','], ['as_IN', 'IN'], ['an_DT', 'DT'], ['audience_NN', 'NN'], ['member_NN', 'NN'], [',_,', ','], ['have_VBP', 'VBP'], ['no_DT', 'DT'], ['idea_NN', 'NN'], ['what_WP', 'WP'], [\"'s_VBZ\", 'VBZ'], ['going_VBG', 'VBG'], ['on_RP', 'RP'], ['._.', '.']], [['there_EX', 'EX'], ['are_VBP', 'VBP'], ['dreams_NNS', 'NNS'], [',_,', ','], ['there_EX', 'EX'], ['are_VBP', 'VBP'], ['characters_NNS', 'NNS'], ['coming_VBG', 'VBG'], ['back_RB', 'RB'], ['from_IN', 'IN'], ['the_DT', 'DT'], ['dead_JJ', 'JJ'], [',_,', ','], ['there_EX', 'EX'], ['are_VBP', 'VBP'], ['others_NNS', 'NNS'], ['who_WP', 'WP'], ['look_VBP', 'VBP'], ['like_IN', 'IN'], ['the_DT', 'DT'], ['dead_JJ', 'JJ'], [',_,', ','], ['there_EX', 'EX'], ['are_VBP', 'VBP'], ['strange_JJ', 'JJ'], ['apparitions_NNS', 'NNS'], [',_,', ','], ['there_EX', 'EX'], ['are_VBP', 'VBP'], ['disappearances_NNS', 'NNS'], [',_,', ','], ['there_EX', 'EX'], ['are_VBP', 'VBP'], ['a_DT', 'DT'], ['looooot_NN', 'NN'], ['of_IN', 'IN'], ['chase_NN', 'NN'], ['scenes_NNS', 'NNS'], [',_,', ','], ['there_EX', 'EX'], ['are_VBP', 'VBP'], ['tons_NNS', 'NNS'], ['of_IN', 'IN'], ['weird_JJ', 'JJ'], ['things_NNS', 'NNS'], ['that_WDT', 'WDT'], ['happen_VBP', 'VBP'], [',_,', ','], ['and_CC', 'CC'], ['most_JJS', 'JJS'], ['of_IN', 'IN'], ['it_PRP', 'PRP'], ['is_VBZ', 'VBZ'], ['simply_RB', 'RB'], ['not_RB', 'RB'], ['explained_VBN', 'VBN'], ['._.', '.']], [['now_RB', 'RB'], ['i_PRP', 'PRP'], ['personally_RB', 'RB'], ['do_VBP', 'VBP'], [\"n't_RB\", 'RB'], ['mind_VB', 'VB'], ['trying_VBG', 'VBG'], ['to_TO', 'TO'], ['unravel_VB', 'VB'], ['a_DT', 'DT'], ['film_NN', 'NN'], ['every_DT', 'DT'], ['now_RB', 'RB'], ['and_CC', 'CC'], ['then_RB', 'RB'], [',_,', ','], ['but_CC', 'CC'], ['when_WRB', 'WRB'], ['all_DT', 'DT'], ['it_PRP', 'PRP'], ['does_VBZ', 'VBZ'], ['is_VBZ', 'VBZ'], ['give_VB', 'VB'], ['me_PRP', 'PRP'], ['the_DT', 'DT'], ['same_JJ', 'JJ'], ['clue_NN', 'NN'], ['over_IN', 'IN'], ['and_CC', 'CC'], ['over_IN', 'IN'], ['again_RB', 'RB'], [',_,', ','], ['i_PRP', 'PRP'], ['get_VBP', 'VBP'], ['kind_NN', 'NN'], ['of_IN', 'IN'], ['fed_VBN', 'VBN'], ['up_RP', 'RP'], ['after_IN', 'IN'], ['a_DT', 'DT'], ['while_NN', 'NN'], [',_,', ','], ['which_WDT', 'WDT'], ['is_VBZ', 'VBZ'], ['this_DT', 'DT'], ['film_NN', 'NN'], [\"'s_POS\", 'POS'], ['biggest_JJS', 'JJS'], ['problem_NN', 'NN'], ['._.', '.']], [['it_PRP', 'PRP'], [\"'s_VBZ\", 'VBZ'], ['obviously_RB', 'RB'], ['got_VBN', 'VBN'], ['this_DT', 'DT'], ['big_JJ', 'JJ'], ['secret_NN', 'NN'], ['to_TO', 'TO'], ['hide_VB', 'VB'], [',_,', ','], ['but_CC', 'CC'], ['it_PRP', 'PRP'], ['seems_VBZ', 'VBZ'], ['to_TO', 'TO'], ['want_VB', 'VB'], ['to_TO', 'TO'], ['hide_VB', 'VB'], ['it_PRP', 'PRP'], ['completely_RB', 'RB'], ['until_IN', 'IN'], ['its_PRP$', 'PRP$'], ['final_JJ', 'JJ'], ['five_CD', 'CD'], ['minutes_NNS', 'NNS'], ['._.', '.']], [['and_CC', 'CC'], ['do_VBP', 'VBP'], ['they_PRP', 'PRP'], ['make_VBP', 'VBP'], ['things_NNS', 'NNS'], ['entertaining_JJ', 'JJ'], [',_,', ','], ['thrilling_JJ', 'JJ'], ['or_CC', 'CC'], ['even_RB', 'RB'], ['engaging_JJ', 'JJ'], [',_,', ','], ['in_IN', 'IN'], ['the_DT', 'DT'], ['meantime_NN', 'NN'], ['?_.', '.']], [['not_RB', 'RB'], ['really_RB', 'RB'], ['._.', '.']], [['the_DT', 'DT'], ['sad_JJ', 'JJ'], ['part_NN', 'NN'], ['is_VBZ', 'VBZ'], ['that_IN', 'IN'], ['the_DT', 'DT'], ['arrow_NNP', 'NNP'], ['and_CC', 'CC'], ['i_PRP', 'PRP'], ['both_DT', 'DT'], ['dig_NN', 'NN'], ['on_IN', 'IN'], ['flicks_NNS', 'NNS'], ['like_IN', 'IN'], ['this_DT', 'DT'], [',_,', ','], ['so_IN', 'IN'], ['we_PRP', 'PRP'], ['actually_RB', 'RB'], ['figured_VBD', 'VBD'], ['most_JJS', 'JJS'], ['of_IN', 'IN'], ['it_PRP', 'PRP'], ['out_RP', 'RP'], ['by_IN', 'IN'], ['the_DT', 'DT'], ['half-way_NN', 'NN'], ['point_NN', 'NN'], [',_,', ','], ['so_RB', 'RB'], ['all_DT', 'DT'], ['of_IN', 'IN'], ['the_DT', 'DT'], ['strangeness_NN', 'NN'], ['after_IN', 'IN'], ['that_DT', 'DT'], ['did_VBD', 'VBD'], ['start_VB', 'VB'], ['to_TO', 'TO'], ['make_VB', 'VB'], ['a_DT', 'DT'], ['little_JJ', 'JJ'], ['bit_NN', 'NN'], ['of_IN', 'IN'], ['sense_NN', 'NN'], [',_,', ','], ['but_CC', 'CC'], ['it_PRP', 'PRP'], ['still_RB', 'RB'], ['did_VBD', 'VBD'], [\"n't_RB\", 'RB'], ['the_DT', 'DT'], ['make_VB', 'VB'], ['the_DT', 'DT'], ['film_NN', 'NN'], ['all_DT', 'DT'], ['that_IN', 'IN'], ['more_JJR', 'JJR'], ['entertaining_JJ', 'JJ'], ['._.', '.']], [['i_PRP', 'PRP'], ['guess_VBP', 'VBP'], ['the_DT', 'DT'], ['bottom_JJ', 'JJ'], ['line_NN', 'NN'], ['with_IN', 'IN'], ['movies_NNS', 'NNS'], ['like_IN', 'IN'], ['this_DT', 'DT'], ['is_VBZ', 'VBZ'], ['that_IN', 'IN'], ['you_PRP', 'PRP'], ['should_MD', 'MD'], ['always_RB', 'RB'], ['make_VB', 'VB'], ['sure_JJ', 'JJ'], ['that_IN', 'IN'], ['the_DT', 'DT'], ['audience_NN', 'NN'], ['is_VBZ', 'VBZ'], ['``_``', '``'], ['into_IN', 'IN'], ['it_PRP', 'PRP'], [\"''_''\", \"''\"], ['even_RB', 'RB'], ['before_IN', 'IN'], ['they_PRP', 'PRP'], ['are_VBP', 'VBP'], ['given_VBN', 'VBN'], ['the_DT', 'DT'], ['secret_JJ', 'JJ'], ['password_NN', 'NN'], ['to_TO', 'TO'], ['enter_VB', 'VB'], ['your_PRP$', 'PRP$'], ['world_NN', 'NN'], ['of_IN', 'IN'], ['understanding_NN', 'NN'], ['._.', '.']], [['i_PRP', 'PRP'], ['mean_VBP', 'VBP'], [',_,', ','], ['showing_VBG', 'VBG'], ['melissa_NNP', 'NNP'], ['sagemiller_NNP', 'NNP'], ['running_VBG', 'VBG'], ['away_RB', 'RB'], ['from_IN', 'IN'], ['visions_NNS', 'NNS'], ['for_IN', 'IN'], ['about_RB', 'RB'], ['20_CD', 'CD'], ['minutes_NNS', 'NNS'], ['throughout_IN', 'IN'], ['the_DT', 'DT'], ['movie_NN', 'NN'], ['is_VBZ', 'VBZ'], ['just_RB', 'RB'], ['plain_JJ', 'JJ'], ['lazy_JJ', 'JJ'], ['!!_NN', 'NN']], [['okay_UH', 'UH'], [',_,', ','], ['we_PRP', 'PRP'], ['get_VBP', 'VBP'], ['it_PRP', 'PRP'], ['..._:', ':'], ['there_EX', 'EX'], ['are_VBP', 'VBP'], ['people_NNS', 'NNS'], ['chasing_VBG', 'VBG'], ['her_PRP', 'PRP'], ['and_CC', 'CC'], ['we_PRP', 'PRP'], ['do_VBP', 'VBP'], [\"n't_RB\", 'RB'], ['know_VB', 'VB'], ['who_WP', 'WP'], ['they_PRP', 'PRP'], ['are_VBP', 'VBP'], ['._.', '.']], [['do_VB', 'VB'], ['we_PRP', 'PRP'], ['really_RB', 'RB'], ['need_VBP', 'VBP'], ['to_TO', 'TO'], ['see_VB', 'VB'], ['it_PRP', 'PRP'], ['over_IN', 'IN'], ['and_CC', 'CC'], ['over_IN', 'IN'], ['again_RB', 'RB'], ['?_.', '.']], [['how_WRB', 'WRB'], ['about_RB', 'RB'], ['giving_VBG', 'VBG'], ['us_PRP', 'PRP'], ['different_JJ', 'JJ'], ['scenes_NNS', 'NNS'], ['offering_VBG', 'VBG'], ['further_JJ', 'JJ'], ['insight_NN', 'NN'], ['into_IN', 'IN'], ['all_DT', 'DT'], ['of_IN', 'IN'], ['the_DT', 'DT'], ['strangeness_NN', 'NN'], ['going_VBG', 'VBG'], ['down_RB', 'RB'], ['in_IN', 'IN'], ['the_DT', 'DT'], ['movie_NN', 'NN'], ['?_.', '.']], [['apparently_RB', 'RB'], [',_,', ','], ['the_DT', 'DT'], ['studio_NN', 'NN'], ['took_VBD', 'VBD'], ['this_DT', 'DT'], ['film_NN', 'NN'], ['away_RB', 'RB'], ['from_IN', 'IN'], ['its_PRP$', 'PRP$'], ['director_NN', 'NN'], ['and_CC', 'CC'], ['chopped_VBD', 'VBD'], ['it_PRP', 'PRP'], ['up_RP', 'RP'], ['themselves_PRP', 'PRP'], [',_,', ','], ['and_CC', 'CC'], ['it_PRP', 'PRP'], ['shows_VBZ', 'VBZ'], ['._.', '.']], [['there_EX', 'EX'], ['might_MD', 'MD'], [\"'ve_VB\", 'VB'], ['been_VBN', 'VBN'], ['a_DT', 'DT'], ['pretty_RB', 'RB'], ['decent_JJ', 'JJ'], ['teen_NN', 'NN'], ['mind-fuck_NN', 'NN'], ['movie_NN', 'NN'], ['in_IN', 'IN'], ['here_RB', 'RB'], ['somewhere_RB', 'RB'], [',_,', ','], ['but_CC', 'CC'], ['i_PRP', 'PRP'], ['guess_VBP', 'VBP'], ['``_``', '``'], ['the_DT', 'DT'], ['suits_NNS', 'NNS'], [\"''_''\", \"''\"], ['decided_VBD', 'VBD'], ['that_IN', 'IN'], ['turning_VBG', 'VBG'], ['it_PRP', 'PRP'], ['into_IN', 'IN'], ['a_DT', 'DT'], ['music_NN', 'NN'], ['video_NN', 'NN'], ['with_IN', 'IN'], ['little_JJ', 'JJ'], ['edge_NN', 'NN'], [',_,', ','], ['would_MD', 'MD'], ['make_VB', 'VB'], ['more_JJR', 'JJR'], ['sense_NN', 'NN'], ['._.', '.']], [['the_DT', 'DT'], ['actors_NNS', 'NNS'], ['are_VBP', 'VBP'], ['pretty_RB', 'RB'], ['good_JJ', 'JJ'], ['for_IN', 'IN'], ['the_DT', 'DT'], ['most_JJS', 'JJS'], ['part_NN', 'NN'], [',_,', ','], ['although_IN', 'IN'], ['wes_NNP', 'NNP'], ['bentley_NNP', 'NNP'], ['just_RB', 'RB'], ['seemed_VBD', 'VBD'], ['to_TO', 'TO'], ['be_VB', 'VB'], ['playing_VBG', 'VBG'], ['the_DT', 'DT'], ['exact_JJ', 'JJ'], ['same_JJ', 'JJ'], ['character_NN', 'NN'], ['that_IN', 'IN'], ['he_PRP', 'PRP'], ['did_VBD', 'VBD'], ['in_IN', 'IN'], ['american_NNP', 'NNP'], ['beauty_NNP', 'NNP'], [',_,', ','], ['only_RB', 'RB'], ['in_IN', 'IN'], ['a_DT', 'DT'], ['new_JJ', 'JJ'], ['neighborhood_NN', 'NN'], ['._.', '.']], [['but_CC', 'CC'], ['my_PRP$', 'PRP$'], ['biggest_JJS', 'JJS'], ['kudos_NNS', 'NNS'], ['go_VBP', 'VBP'], ['out_RP', 'RP'], ['to_TO', 'TO'], ['sagemiller_NNP', 'NNP'], [',_,', ','], ['who_WP', 'WP'], ['holds_VBZ', 'VBZ'], ['her_PRP$', 'PRP$'], ['own_JJ', 'JJ'], ['throughout_IN', 'IN'], ['the_DT', 'DT'], ['entire_JJ', 'JJ'], ['film_NN', 'NN'], [',_,', ','], ['and_CC', 'CC'], ['actually_RB', 'RB'], ['has_VBZ', 'VBZ'], ['you_PRP', 'PRP'], ['feeling_VBG', 'VBG'], ['her_PRP$', 'PRP$'], ['character_NN', 'NN'], [\"'s_POS\", 'POS'], ['unraveling_NN', 'NN'], ['._.', '.']], [['overall_RB', 'RB'], [',_,', ','], ['the_DT', 'DT'], ['film_NN', 'NN'], ['does_VBZ', 'VBZ'], [\"n't_RB\", 'RB'], ['stick_VB', 'VB'], ['because_IN', 'IN'], ['it_PRP', 'PRP'], ['does_VBZ', 'VBZ'], [\"n't_RB\", 'RB'], ['entertain_VB', 'VB'], [',_,', ','], ['it_PRP', 'PRP'], [\"'s_VBZ\", 'VBZ'], ['confusing_JJ', 'JJ'], [',_,', ','], ['it_PRP', 'PRP'], ['rarely_RB', 'RB'], ['excites_VBZ', 'VBZ'], ['and_CC', 'CC'], ['it_PRP', 'PRP'], ['feels_VBZ', 'VBZ'], ['pretty_RB', 'RB'], ['redundant_JJ', 'JJ'], ['for_IN', 'IN'], ['most_JJS', 'JJS'], ['of_IN', 'IN'], ['its_PRP$', 'PRP$'], ['runtime_NN', 'NN'], [',_,', ','], ['despite_IN', 'IN'], ['a_DT', 'DT'], ['pretty_RB', 'RB'], ['cool_JJ', 'JJ'], ['ending_VBG', 'VBG'], ['and_CC', 'CC'], ['explanation_NN', 'NN'], ['to_TO', 'TO'], ['all_DT', 'DT'], ['of_IN', 'IN'], ['the_DT', 'DT'], ['craziness_NN', 'NN'], ['that_WDT', 'WDT'], ['came_VBD', 'VBD'], ['before_IN', 'IN'], ['it_PRP', 'PRP'], ['._.', '.']], [['oh_UH', 'UH'], [',_,', ','], ['and_CC', 'CC'], ['by_IN', 'IN'], ['the_DT', 'DT'], ['way_NN', 'NN'], [',_,', ','], ['this_DT', 'DT'], ['is_VBZ', 'VBZ'], ['not_RB', 'RB'], ['a_DT', 'DT'], ['horror_NN', 'NN'], ['or_CC', 'CC'], ['teen_JJ', 'JJ'], ['slasher_NN', 'NN'], ['flick_NN', 'NN'], ['..._:', ':'], ['it_PRP', 'PRP'], [\"'s_VBZ\", 'VBZ'], ['just_RB', 'RB'], ['packaged_VBN', 'VBN'], ['to_TO', 'TO'], ['look_VB', 'VB'], ['that_DT', 'DT'], ['way_NN', 'NN'], ['because_IN', 'IN'], ['someone_NN', 'NN'], ['is_VBZ', 'VBZ'], ['apparently_RB', 'RB'], ['assuming_VBG', 'VBG'], ['that_IN', 'IN'], ['the_DT', 'DT'], ['genre_NN', 'NN'], ['is_VBZ', 'VBZ'], ['still_RB', 'RB'], ['hot_JJ', 'JJ'], ['with_IN', 'IN'], ['the_DT', 'DT'], ['kids_NNS', 'NNS'], ['._.', '.']], [['it_PRP', 'PRP'], ['also_RB', 'RB'], ['wrapped_VBD', 'VBD'], ['production_NN', 'NN'], ['two_CD', 'CD'], ['years_NNS', 'NNS'], ['ago_RB', 'RB'], ['and_CC', 'CC'], ['has_VBZ', 'VBZ'], ['been_VBN', 'VBN'], ['sitting_VBG', 'VBG'], ['on_IN', 'IN'], ['the_DT', 'DT'], ['shelves_NNS', 'NNS'], ['ever_RB', 'RB'], ['since_IN', 'IN'], ['._.', '.']], [['whatever_WDT', 'WDT'], ['..._:', ':'], ['skip_VB', 'VB'], ['it_PRP', 'PRP'], ['!_.', '.']]]}]\n",
      "SVM Mean CV Accuracy with word+POS features: 0.815\n"
     ]
    }
   ],
   "source": [
    "# YOUR CODE HERE\n",
    "\n",
    "def concatenate_pos_to_words(reviews):\n",
    "    \"\"\"\n",
    "    Extracts the POS from content in each review and creates a word+POS feature.\n",
    "    This modifies the reviews by adding the word+POS feature in a new key in a copied version.\n",
    "\n",
    "    :param reviews: List of reviews, where each review has a 'cv', 'sentiment', and 'content'.\n",
    "                    'content' is a list of sentences, each being a list of (word, POS) tuples.\n",
    "    :return: A new list of reviews with an added 'content' field containing the word+POS features.\n",
    "    \"\"\"\n",
    "\n",
    "    # Create a deep copy of the reviews to avoid modifying the original\n",
    "    changed_reviews = copy.deepcopy(reviews)\n",
    "    \n",
    "    for review in changed_reviews:\n",
    "        new_content = []\n",
    "        for sentence in review[\"content\"]:\n",
    "            # Create a list of word_POS pairs for the sentence\n",
    "            word_pos_list = [[f\"{token.lower()}_{pos}\", pos] for token, pos in sentence if token]\n",
    "            new_content.append(word_pos_list)\n",
    "\n",
    "        # Overwrite the 'content' feature with the new structure\n",
    "        review[\"content\"] = new_content\n",
    "    \n",
    "    return changed_reviews\n",
    "\n",
    "# Example usage\n",
    "print(reviews[:1])  # Original reviews before modification\n",
    "pos_reviews = concatenate_pos_to_words(reviews)\n",
    "print(pos_reviews[:1])  # Modified reviews with 'word_pos' feature\n",
    "# SVM Model\n",
    "svm_model_pos = LinearSVC()\n",
    "\n",
    "accuracy_svm = svm_cross_val(pos_reviews, svm_model_pos, 10)\n",
    "print(f\"SVM Mean CV Accuracy with word+POS features: {accuracy_svm:.3f}\")\n",
    "\n",
    "\n"
   ]
  },
  {
   "cell_type": "markdown",
   "metadata": {
    "id": "L0dt_oQupUNe"
   },
   "source": [
    "*Write your answer here.*"
   ]
  },
  {
   "cell_type": "markdown",
   "metadata": {
    "id": "Su-3w87eMW0w"
   },
   "source": [
    "#### (Q3.3) Discard all closed-class words from your data (keep only nouns, verbs, adjectives, and adverbs), and report performance. Does this help? Use cross-validation to evaluate the classifier and compare the results with (Q3.2). Are closed-class words detrimental to the classifier? Explain why this may be the case. (1pt)"
   ]
  },
  {
   "cell_type": "code",
   "execution_count": 29,
   "metadata": {
    "ExecuteTime": {
     "end_time": "2024-11-07T13:45:07.503792Z",
     "start_time": "2024-11-06T18:24:35.949220Z"
    },
    "id": "CCUPlPozCYUX"
   },
   "outputs": [
    {
     "name": "stdout",
     "output_type": "stream",
     "text": [
      "SVM Mean CV Accuracy with non-closed-class words: 0.838\n"
     ]
    }
   ],
   "source": [
    "def extract_non_closed_words(reviews):\n",
    "    \"\"\"\n",
    "    Discards all closed-class words\n",
    "    \n",
    "    :param reviews: List of reviews\n",
    "    :return: List of processed texts with only open-class words\n",
    "    \"\"\"\n",
    "    texts = []\n",
    "    # J = adjective, R = adverb, N = noun, V = verb\n",
    "    filter_condition = (\"J\", \"R\", \"N\", \"V\")\n",
    "    for review in reviews:\n",
    "        text = []\n",
    "        for sentence in review[\"content\"]:\n",
    "            for token, pos in sentence:\n",
    "                # Ensure that pos is not RP (particle)\n",
    "                if pos.startswith(filter_condition) and pos != \"RP\":\n",
    "                    if token:\n",
    "                        word_pos = f\"{token.lower()}_{pos}\"\n",
    "                        text.append(word_pos)\n",
    "        texts.append(\" \".join(text))\n",
    "    return texts\n",
    "\n",
    "# Prepare data for vectorization\n",
    "train_texts = extract_non_closed_words(train_reviews)\n",
    "test_texts = extract_non_closed_words(test_reviews)\n",
    "\n",
    "# Vectorize texts\n",
    "vectorizer = CountVectorizer()\n",
    "X_train = vectorizer.fit_transform(train_texts)\n",
    "y_train = [review[\"sentiment\"] for review in train_reviews]\n",
    "X_test = vectorizer.transform(test_texts)\n",
    "y_test = [review[\"sentiment\"] for review in test_reviews]\n",
    "\n",
    "# SVM with cross-validation\n",
    "svm_clf = LinearSVC()\n",
    "svm_scores = cross_val_score(svm_clf, X_train, y_train, cv=5)\n",
    "\n",
    "print(f\"SVM Mean CV Accuracy with non-closed-class words: {np.mean(svm_scores):.3f}\")"
   ]
  },
  {
   "cell_type": "markdown",
   "metadata": {
    "id": "YaxCVrs8pWSp"
   },
   "source": [
    "*Write your answer here.*"
   ]
  },
  {
   "cell_type": "markdown",
   "metadata": {
    "id": "nfwqOciAl2No"
   },
   "source": [
    "# (4) Discussion (max. 500 words). (5pts)\n",
    "\n",
    "> Based on your experiments, what are the effective features and techniques in sentiment analysis? What information do different features encode?\n",
    "Why is this important? What are the limitations of these features and techniques?\n",
    "\n"
   ]
  },
  {
   "cell_type": "markdown",
   "metadata": {
    "id": "ZYuse5WLmekZ"
   },
   "source": [
    "*Write your answer here in up to 500 words (-0.25pt for >50 extra words, -0.5 points for >100 extra words, ...)*.\n"
   ]
  },
  {
   "cell_type": "markdown",
   "metadata": {
    "id": "iwaKwfWQhRk_"
   },
   "source": [
    "# Submission\n"
   ]
  },
  {
   "cell_type": "code",
   "execution_count": 30,
   "metadata": {
    "ExecuteTime": {
     "end_time": "2024-11-07T13:45:07.504164Z",
     "start_time": "2024-11-06T18:24:38.826291Z"
    },
    "id": "aOUeaET5ijk-"
   },
   "outputs": [],
   "source": [
    "# Write your names and student numbers here:\n",
    "# Student 1 #12345\n",
    "# Student 2 #12345"
   ]
  },
  {
   "cell_type": "markdown",
   "metadata": {
    "id": "3A9K-H6Tii3X"
   },
   "source": [
    "**That's it!**\n",
    "\n",
    "- Check if you answered all questions fully and correctly.\n",
    "- Download your completed notebook using `File -> Download .ipynb`\n",
    "- Check if your answers are all included in the file you submit.\n",
    "- Submit your .ipynb file via *Canvas*. One submission per group."
   ]
  }
 ],
 "metadata": {
  "colab": {
   "provenance": []
  },
  "kernelspec": {
   "display_name": "base",
   "language": "python",
   "name": "python3"
  },
  "language_info": {
   "codemirror_mode": {
    "name": "ipython",
    "version": 3
   },
   "file_extension": ".py",
   "mimetype": "text/x-python",
   "name": "python",
   "nbconvert_exporter": "python",
   "pygments_lexer": "ipython3",
   "version": "3.10.15"
  }
 },
 "nbformat": 4,
 "nbformat_minor": 0
}
