{
 "cells": [
  {
   "cell_type": "markdown",
   "metadata": {
    "id": "1-aRiOgl4nHg"
   },
   "source": [
    "------\n",
    "**You cannot save any changes you make to this file, so please make sure to save it on your Google Colab drive or download it as a .ipynb file.**\n",
    "\n",
    "------\n",
    "\n"
   ]
  },
  {
   "cell_type": "markdown",
   "metadata": {
    "id": "lIZrAUx57vsM"
   },
   "source": [
    "Practical 1: Sentiment Detection in Movie Reviews\n",
    "========================================\n",
    "\n"
   ]
  },
  {
   "cell_type": "markdown",
   "metadata": {
    "id": "J4kXPMhyngZW"
   },
   "source": [
    "This practical concerns detecting sentiment in movie reviews. This is a typical NLP classification task.\n",
    "In [this file](https://gist.githubusercontent.com/bastings/d47423301cca214e3930061a5a75e177/raw/5113687382919e22b1f09ce71a8fecd1687a5760/reviews.json) (80MB) you will find 1000 positive and 1000 negative **movie reviews**.\n",
    "Each review is a **document** and consists of one or more sentences.\n",
    "\n",
    "To prepare yourself for this practical, you should\n",
    "have a look at a few of these texts to understand the difficulties of\n",
    "the task: how might one go about classifying the texts? You will write\n",
    "code that decides whether a movie review conveys positive or\n",
    "negative sentiment.\n",
    "\n",
    "Please make sure you have read the following paper:\n",
    "\n",
    ">   Bo Pang, Lillian Lee, and Shivakumar Vaithyanathan\n",
    "(2002).\n",
    "[Thumbs up? Sentiment Classification using Machine Learning\n",
    "Techniques](https://dl.acm.org/citation.cfm?id=1118704). EMNLP.\n",
    "\n",
    "Bo Pang et al. introduced the movie review sentiment\n",
    "classification task, and the above paper was one of the first papers on\n",
    "the topic. The first version of your sentiment classifier will do\n",
    "something similar to Pang et al.'s system. If you have questions about it,\n",
    "you should resolve you doubts as soon as possible with your TA.\n"
   ]
  },
  {
   "cell_type": "markdown",
   "metadata": {
    "id": "cb7errgRASzZ"
   },
   "source": [
    "**Advice**\n",
    "\n",
    "Please read through the entire practical and familiarise\n",
    "yourself with all requirements before you start coding or otherwise\n",
    "solving the tasks. Writing clean and concise code can make the difference\n",
    "between solving the assignment in a matter of hours, and taking days to\n",
    "run all experiments.\n",
    "\n",
    "\n",
    "**Implementation**\n",
    "\n",
    "While we inserted code cells to indicate where you should implement your own code, please feel free to add/remove code blocks where you see fit (but make sure that the general structure of the assignment is preserved). Also, please keep in mind that it is always good practice to structure your code properly, e.g., by implementing separate classes and functions that can be reused. **Make sure you run all your code before submitting the notebook, and do not leave unnecessary print statements / cells in your notebook that are not intended for the grader.**\n",
    "\n",
    "## Environment\n",
    "\n",
    "All code should be written in **Python 3**.\n",
    "This is the default in Google Colab."
   ]
  },
  {
   "cell_type": "code",
   "metadata": {
    "colab": {
     "base_uri": "https://localhost:8080/"
    },
    "executionInfo": {
     "elapsed": 21,
     "status": "ok",
     "timestamp": 1698047665308,
     "user": {
      "displayName": "XUE LI",
      "userId": "02386889076941396043"
     },
     "user_tz": -120
    },
    "id": "SaZnxptMJiD7",
    "outputId": "18c3a760-90b6-4d90-e507-aba57841ae23",
    "ExecuteTime": {
     "end_time": "2024-11-04T09:01:28.603958Z",
     "start_time": "2024-11-04T09:01:28.472846Z"
    }
   },
   "source": [
    "!python --version"
   ],
   "outputs": [
    {
     "name": "stdout",
     "output_type": "stream",
     "text": [
      "Python 3.10.15\r\n"
     ]
    }
   ],
   "execution_count": 1
  },
  {
   "cell_type": "markdown",
   "metadata": {
    "id": "BYZyIF7lJnGn"
   },
   "source": [
    "If you want to run code on your own computer, then download this notebook through `File -> Download .ipynb`.\n",
    "The easiest way to\n",
    "install Python is through downloading\n",
    "[Anaconda](https://www.anaconda.com/download).\n",
    "After installation, you can start the notebook by typing `jupyter notebook filename.ipynb`.\n",
    "You can also use an IDE\n",
    "such as [PyCharm](https://www.jetbrains.com/pycharm/download/) to make\n",
    "coding and debugging easier. It is good practice to create a [virtual\n",
    "environment](https://docs.python.org/3/tutorial/venv.html) for this\n",
    "project, so that any Python packages don’t interfere with other\n",
    "projects.\n",
    "\n",
    "\n",
    "**Learning Python 3**\n",
    "\n",
    "If you are new to Python 3, you may want to check out a few of these resources:\n",
    "- https://learnxinyminutes.com/docs/python3/\n",
    "- https://www.learnpython.org/\n",
    "- https://docs.python.org/3/tutorial/"
   ]
  },
  {
   "cell_type": "code",
   "metadata": {
    "id": "hok-BFu9lGoK",
    "ExecuteTime": {
     "end_time": "2024-11-04T09:01:30.212106Z",
     "start_time": "2024-11-04T09:01:28.642678Z"
    }
   },
   "source": [
    "import math\n",
    "import os\n",
    "import sys\n",
    "from subprocess import call\n",
    "from nltk import FreqDist\n",
    "from nltk.util import ngrams\n",
    "from nltk.stem.porter import PorterStemmer\n",
    "import sklearn as sk\n",
    "#from google.colab import drive\n",
    "import pickle\n",
    "import json\n",
    "from collections import Counter\n",
    "import requests\n",
    "import matplotlib.pyplot as plt\n",
    "import numpy as np"
   ],
   "outputs": [],
   "execution_count": 2
  },
  {
   "cell_type": "markdown",
   "metadata": {
    "id": "bXWyGHwE-ieQ"
   },
   "source": [
    "## Loading the data\n",
    "\n",
    "**Download the sentiment lexicon and the movie reviews dataset.**"
   ]
  },
  {
   "cell_type": "code",
   "metadata": {
    "colab": {
     "base_uri": "https://localhost:8080/"
    },
    "executionInfo": {
     "elapsed": 1808,
     "status": "ok",
     "timestamp": 1698047686292,
     "user": {
      "displayName": "XUE LI",
      "userId": "02386889076941396043"
     },
     "user_tz": -120
    },
    "id": "lm-rakqtlMOT",
    "outputId": "1b6b1152-50b7-4161-aab2-03da318d6981",
    "ExecuteTime": {
     "end_time": "2024-11-04T09:01:38.577869Z",
     "start_time": "2024-11-04T09:01:30.233216Z"
    }
   },
   "source": [
    "# download sentiment lexicon\n",
    "!wget https://gist.githubusercontent.com/bastings/d6f99dcb6c82231b94b013031356ba05/raw/f80a0281eba8621b122012c89c8b5e2200b39fd6/sent_lexicon\n",
    "# download review data\n",
    "!wget https://gist.githubusercontent.com/bastings/d47423301cca214e3930061a5a75e177/raw/5113687382919e22b1f09ce71a8fecd1687a5760/reviews.json"
   ],
   "outputs": [
    {
     "name": "stdout",
     "output_type": "stream",
     "text": [
      "--2024-11-04 10:01:30--  https://gist.githubusercontent.com/bastings/d6f99dcb6c82231b94b013031356ba05/raw/f80a0281eba8621b122012c89c8b5e2200b39fd6/sent_lexicon\r\n",
      "Resolving gist.githubusercontent.com (gist.githubusercontent.com)... 185.199.108.133, 185.199.110.133, 185.199.111.133, ...\r\n",
      "Connecting to gist.githubusercontent.com (gist.githubusercontent.com)|185.199.108.133|:443... connected.\r\n",
      "HTTP request sent, awaiting response... 200 OK\r\n",
      "Length: 662577 (647K) [text/plain]\r\n",
      "Saving to: ‘sent_lexicon.4’\r\n",
      "\r\n",
      "sent_lexicon.4      100%[===================>] 647.05K  --.-KB/s    in 0.06s   \r\n",
      "\r\n",
      "2024-11-04 10:01:30 (11.1 MB/s) - ‘sent_lexicon.4’ saved [662577/662577]\r\n",
      "\r\n",
      "--2024-11-04 10:01:30--  https://gist.githubusercontent.com/bastings/d47423301cca214e3930061a5a75e177/raw/5113687382919e22b1f09ce71a8fecd1687a5760/reviews.json\r\n",
      "Resolving gist.githubusercontent.com (gist.githubusercontent.com)... 185.199.108.133, 185.199.110.133, 185.199.111.133, ...\r\n",
      "Connecting to gist.githubusercontent.com (gist.githubusercontent.com)|185.199.108.133|:443... connected.\r\n",
      "HTTP request sent, awaiting response... 200 OK\r\n",
      "Length: 83503869 (80M) [text/plain]\r\n",
      "Saving to: ‘reviews.json.4’\r\n",
      "\r\n",
      "reviews.json.4      100%[===================>]  79.63M  11.1MB/s    in 7.6s    \r\n",
      "\r\n",
      "2024-11-04 10:01:38 (10.5 MB/s) - ‘reviews.json.4’ saved [83503869/83503869]\r\n",
      "\r\n"
     ]
    }
   ],
   "execution_count": 3
  },
  {
   "cell_type": "markdown",
   "metadata": {
    "id": "AkPwuHp5LSuQ"
   },
   "source": [
    "**Load the movie reviews.**\n",
    "\n",
    "Each word in a review comes with its part-of-speech tag. For documentation on POS-tags, see https://catalog.ldc.upenn.edu/docs/LDC99T42/tagguid1.pdf.\n"
   ]
  },
  {
   "cell_type": "code",
   "metadata": {
    "colab": {
     "base_uri": "https://localhost:8080/"
    },
    "executionInfo": {
     "elapsed": 3917,
     "status": "ok",
     "timestamp": 1698047715771,
     "user": {
      "displayName": "XUE LI",
      "userId": "02386889076941396043"
     },
     "user_tz": -120
    },
    "id": "careEKj-mRpl",
    "outputId": "a6f3c385-5106-49ec-be89-4aff971eb05b",
    "ExecuteTime": {
     "end_time": "2024-11-04T09:01:39.861389Z",
     "start_time": "2024-11-04T09:01:38.596550Z"
    }
   },
   "source": [
    "# file structure:\n",
    "# [\n",
    "#  {\"cv\": integer, \"sentiment\": str, \"content\": list}\n",
    "#  {\"cv\": integer, \"sentiment\": str, \"content\": list}\n",
    "#   ..\n",
    "# ]\n",
    "# where `content` is a list of sentences,\n",
    "# with a sentence being a list of (token, pos_tag) pairs.\n",
    "\n",
    "\n",
    "with open(\"reviews.json\", mode=\"r\", encoding=\"utf-8\") as f:\n",
    "  reviews = json.load(f)\n",
    "\n",
    "print(\"Total number of reviews:\", len(reviews), '\\n')\n",
    "\n",
    "def print_sentence_with_pos(s):\n",
    "  print(\" \".join(\"%s/%s\" % (token, pos_tag) for token, pos_tag in s))\n",
    "\n",
    "for i, r in enumerate(reviews):\n",
    "  print(r[\"cv\"], r[\"sentiment\"], len(r[\"content\"]))  # cv, sentiment, num sents\n",
    "  print_sentence_with_pos(r[\"content\"][0])\n",
    "  if i == 4:\n",
    "    break\n",
    "\n",
    "c = Counter()\n",
    "for review in reviews:\n",
    "  for sentence in review[\"content\"]:\n",
    "    for token, pos_tag in sentence:\n",
    "      c[token.lower()] += 1\n",
    "\n",
    "print(\"\\nNumber of word types:\", len(c))\n",
    "print(\"Number of word tokens:\", sum(c.values()))\n",
    "\n",
    "print(\"\\nMost common tokens:\")\n",
    "for token, count in c.most_common(20):\n",
    "  print(\"%10s : %8d\" % (token, count))\n"
   ],
   "outputs": [
    {
     "name": "stdout",
     "output_type": "stream",
     "text": [
      "Total number of reviews: 2000 \n",
      "\n",
      "0 NEG 29\n",
      "Two/CD teen/JJ couples/NNS go/VBP to/TO a/DT church/NN party/NN ,/, drink/NN and/CC then/RB drive/NN ./.\n",
      "1 NEG 11\n",
      "Damn/JJ that/IN Y2K/CD bug/NN ./.\n",
      "2 NEG 24\n",
      "It/PRP is/VBZ movies/NNS like/IN these/DT that/WDT make/VBP a/DT jaded/JJ movie/NN viewer/NN thankful/JJ for/IN the/DT invention/NN of/IN the/DT Timex/NNP IndiGlo/NNP watch/NN ./.\n",
      "3 NEG 19\n",
      "QUEST/NN FOR/IN CAMELOT/NNP ``/`` Quest/NNP for/IN Camelot/NNP ''/'' is/VBZ Warner/NNP Bros./NNP '/POS first/JJ feature-length/JJ ,/, fully-animated/JJ attempt/NN to/TO steal/VB clout/NN from/IN Disney/NNP 's/POS cartoon/NN empire/NN ,/, but/CC the/DT mouse/NN has/VBZ no/DT reason/NN to/TO be/VB worried/VBN ./.\n",
      "4 NEG 38\n",
      "Synopsis/NNPS :/: A/DT mentally/RB unstable/JJ man/NN undergoing/VBG psychotherapy/NN saves/VBZ a/DT boy/NN from/IN a/DT potentially/RB fatal/JJ accident/NN and/CC then/RB falls/VBZ in/IN love/NN with/IN the/DT boy/NN 's/POS mother/NN ,/, a/DT fledgling/NN restauranteur/NN ./.\n",
      "\n",
      "Number of word types: 47743\n",
      "Number of word tokens: 1512359\n",
      "\n",
      "Most common tokens:\n",
      "         , :    77842\n",
      "       the :    75948\n",
      "         . :    59027\n",
      "         a :    37583\n",
      "       and :    35235\n",
      "        of :    33864\n",
      "        to :    31601\n",
      "        is :    25972\n",
      "        in :    21563\n",
      "        's :    18043\n",
      "        it :    15904\n",
      "      that :    15820\n",
      "     -rrb- :    11768\n",
      "     -lrb- :    11670\n",
      "        as :    11312\n",
      "      with :    10739\n",
      "       for :     9816\n",
      "       his :     9542\n",
      "      this :     9497\n",
      "      film :     9404\n"
     ]
    }
   ],
   "execution_count": 4
  },
  {
   "cell_type": "markdown",
   "metadata": {
    "id": "E6PWaEoh8B34"
   },
   "source": [
    "#(1) Lexicon-based approach (3.5pts)\n",
    "\n"
   ]
  },
  {
   "cell_type": "markdown",
   "metadata": {
    "id": "JsTSMb6ma4E8"
   },
   "source": [
    "A traditional approach to classify documents according to their sentiment is the lexicon-based approach. To implement this approach, you need a **sentiment lexicon**, i.e., a list of words annotated with a sentiment label (e.g., positive and negative, or a score from 0 to 5).\n",
    "\n",
    "In this practical, you will use the sentiment\n",
    "lexicon released by Wilson et al. (2005).\n",
    "\n",
    "> Theresa Wilson, Janyce Wiebe, and Paul Hoffmann\n",
    "(2005). [Recognizing Contextual Polarity in Phrase-Level Sentiment\n",
    "Analysis](http://www.aclweb.org/anthology/H/H05/H05-1044.pdf). HLT-EMNLP.\n",
    "\n",
    "Pay attention to all the information available in the sentiment lexicon. The field *word1* contains the lemma, *priorpolarity* contains the sentiment label (positive, negative, both, or neutral), *type* gives you the magnitude of the word's sentiment (strong or weak), and *pos1* gives you the part-of-speech tag of the lemma. Some lemmas can have multiple part-of-speech tags and thus multiple entries in the lexicon. The path of the lexicon file is `\"sent_lexicon\"`.\n"
   ]
  },
  {
   "cell_type": "code",
   "metadata": {
    "colab": {
     "base_uri": "https://localhost:8080/"
    },
    "executionInfo": {
     "elapsed": 220,
     "status": "ok",
     "timestamp": 1698047764860,
     "user": {
      "displayName": "XUE LI",
      "userId": "02386889076941396043"
     },
     "user_tz": -120
    },
    "id": "Ogq0Eq2hQglh",
    "outputId": "1c26526d-399e-4558-a1b2-2fa771648f09",
    "ExecuteTime": {
     "end_time": "2024-11-04T09:01:39.927535Z",
     "start_time": "2024-11-04T09:01:39.924848Z"
    }
   },
   "source": [
    "with open(\"sent_lexicon\", mode=\"r\", encoding=\"utf-8\") as f:\n",
    "  line_cnt = 0\n",
    "  for line in f:\n",
    "    print(line.strip())\n",
    "    line_cnt += 1\n",
    "    if line_cnt > 4:\n",
    "      break"
   ],
   "outputs": [
    {
     "name": "stdout",
     "output_type": "stream",
     "text": [
      "type=weaksubj len=1 word1=abandoned pos1=adj stemmed1=n priorpolarity=negative\n",
      "type=weaksubj len=1 word1=abandonment pos1=noun stemmed1=n priorpolarity=negative\n",
      "type=weaksubj len=1 word1=abandon pos1=verb stemmed1=y priorpolarity=negative\n",
      "type=strongsubj len=1 word1=abase pos1=verb stemmed1=y priorpolarity=negative\n",
      "type=strongsubj len=1 word1=abasement pos1=anypos stemmed1=y priorpolarity=negative\n"
     ]
    }
   ],
   "execution_count": 5
  },
  {
   "cell_type": "markdown",
   "metadata": {
    "id": "Mml4nOtIUBhn"
   },
   "source": [
    "Lexica such as this can be used to solve\n",
    "the classification task without using Machine Learning. For example, one might look up every word $w_1 ... w_n$ in a document, and compute a **binary score**\n",
    "$S_{binary}$ by counting how many words have a positive or a\n",
    "negative label in the sentiment lexicon $SLex$.\n",
    "\n",
    "$$S_{binary}(w_1 w_2 ... w_n) = \\sum_{i = 1}^{n}\\text{sign}(SLex\\big[w_i\\big])$$\n",
    "\n",
    "where $\\text{sign}(SLex\\big[w_i\\big])$ refers to the polarity of $w_i$.\n",
    "\n",
    "**Threshold.** On average, there are more positive than negative words per review (~7.13 more positive than negative per review) to take this bias into account you should use a threshold of **8** (roughly the bias itself) to make it harder to classify as positive.\n",
    "\n",
    "$$\n",
    "\\text{classify}(S_{binary}(w_1 w_2 ... w_n)) = \\bigg\\{\\begin{array}{ll}\n",
    "        \\text{positive} & \\text{if } S_{binary}(w_1w_2...w_n) > threshold\\\\\n",
    "        \\text{negative} & \\text{otherwise}\n",
    "        \\end{array}\n",
    "$$\n"
   ]
  },
  {
   "cell_type": "code",
   "metadata": {
    "ExecuteTime": {
     "end_time": "2024-11-04T09:01:39.984963Z",
     "start_time": "2024-11-04T09:01:39.981872Z"
    }
   },
   "source": [
    "# Check the attributes of the first review\n",
    "reviews[0].keys()"
   ],
   "outputs": [
    {
     "data": {
      "text/plain": [
       "dict_keys(['cv', 'sentiment', 'content'])"
      ]
     },
     "execution_count": 6,
     "metadata": {},
     "output_type": "execute_result"
    }
   ],
   "execution_count": 6
  },
  {
   "cell_type": "code",
   "metadata": {
    "ExecuteTime": {
     "end_time": "2024-11-04T09:01:40.119018Z",
     "start_time": "2024-11-04T09:01:40.116595Z"
    }
   },
   "source": [
    "def accuracy(true_labels, predicted_labels):\n",
    "  \"\"\"\n",
    "  Compute the accuracy of a classification task.\n",
    "\n",
    "  :param true_labels: list of true labels\n",
    "  :param predicted_labels: list of predicted labels\n",
    "  :return: accuracy\n",
    "  \"\"\"\n",
    "  return sum(1 for tl, pl in zip(true_labels, predicted_labels) if tl == pl) / len(true_labels)"
   ],
   "outputs": [],
   "execution_count": 7
  },
  {
   "cell_type": "markdown",
   "metadata": {
    "id": "tOFnMvbeeZrc"
   },
   "source": [
    "#### (Q1.1) Implement this approach and report its classification accuracy. (1 pt)"
   ]
  },
  {
   "cell_type": "code",
   "metadata": {
    "id": "ED2aTEYutW1-",
    "ExecuteTime": {
     "end_time": "2024-11-04T09:01:40.161378Z",
     "start_time": "2024-11-04T09:01:40.152527Z"
    }
   },
   "source": [
    "# YOUR CODE HERE\n",
    "# Load sentiment lexicon\n",
    "sentiment_dict = {}\n",
    "with open(\"sent_lexicon\", \"r\", encoding=\"utf-8\") as f:\n",
    "    for line in f:\n",
    "        # Split line into fields\n",
    "        fields = line.strip().split()\n",
    "        # Get word and polarity\n",
    "        word = fields[2].lower().split(\"=\")[1]\n",
    "        polarity = fields[5].split(\"=\")[1]\n",
    "        # Add word to sentiment dictionary\n",
    "        if polarity == \"positive\":\n",
    "            sentiment_dict[word] = 1\n",
    "        elif polarity == \"negative\":\n",
    "            sentiment_dict[word] = -1\n",
    "        # Skip neutral and both\n",
    "\n",
    "def classify_review_binary(review, sentiment_dict, threshold=8):\n",
    "    \"\"\"\n",
    "    Classify a review as positive or negative based on the sentiment of its tokens.\n",
    "\n",
    "    :param review: a dictionary with a \"content\" field that contains a list of sentences,\n",
    "                     each sentence being a list of (token, pos_tag) pairs.\n",
    "    :param threshold: the sum of sentiment scores that is required to classify a review as positive.\n",
    "    \"\"\"\n",
    "    score = 0\n",
    "    for sentence in review[\"content\"]:\n",
    "        for token, _ in sentence:\n",
    "            token = token.lower()\n",
    "            if token in sentiment_dict:\n",
    "                score += sentiment_dict[token]\n",
    "    return \"POS\" if score > threshold else \"NEG\""
   ],
   "outputs": [],
   "execution_count": 8
  },
  {
   "cell_type": "code",
   "metadata": {
    "id": "iy528EUTphz5",
    "ExecuteTime": {
     "end_time": "2024-11-04T09:01:40.455724Z",
     "start_time": "2024-11-04T09:01:40.336999Z"
    }
   },
   "source": [
    "# token_results should be a list of binary indicators; for example [1, 0, 1, ...]\n",
    "# where 1 indicates a correct classification and 0 an incorrect classification.\n",
    "# Evaluate on all reviews\n",
    "token_results = []\n",
    "for review in reviews:\n",
    "    prediction = classify_review_binary(review, sentiment_dict)\n",
    "    token_results.append(1 if prediction == review[\"sentiment\"] else 0)\n",
    "\n",
    "token_accuracy = sum(token_results) / len(token_results)\n",
    "print(f\"Accuracy: {token_accuracy:.3f}\")"
   ],
   "outputs": [
    {
     "name": "stdout",
     "output_type": "stream",
     "text": [
      "Accuracy: 0.678\n"
     ]
    }
   ],
   "execution_count": 9
  },
  {
   "cell_type": "markdown",
   "metadata": {
    "id": "Twox0s_3eS0V"
   },
   "source": [
    "As the sentiment lexicon also has information about the **magnitude** of\n",
    "sentiment (e.g., *“excellent\"* has the same sentiment _polarity_ as *“good\"* but it has a higher magnitude), we can take a more fine-grained approach by adding up all\n",
    "sentiment scores, and deciding the polarity of the movie review using\n",
    "the sign of the weighted score $S_{weighted}$.\n",
    "\n",
    "$$S_{weighted}(w_1w_2...w_n) = \\sum_{i = 1}^{n}SLex\\big[w_i\\big]$$\n",
    "\n",
    "\n",
    "Make sure you define an appropriate threshold for this approach.\n",
    "\n",
    "#### (Q1.2) Now incorporate magnitude information and report the classification accuracy. Don't forget to use the threshold. (1pt)"
   ]
  },
  {
   "cell_type": "code",
   "metadata": {
    "id": "qG3hUDnPtkhS",
    "ExecuteTime": {
     "end_time": "2024-11-04T09:01:40.501984Z",
     "start_time": "2024-11-04T09:01:40.492502Z"
    }
   },
   "source": [
    "# YOUR CODE HERE\n",
    "weighted_sentiment_dict = {}\n",
    "with open(\"sent_lexicon\", \"r\", encoding=\"utf-8\") as f:\n",
    "    for line in f:\n",
    "        fields = line.strip().split()\n",
    "        word = fields[2].lower().split(\"=\")[1]\n",
    "        polarity = fields[5].split(\"=\")[1]\n",
    "        type = fields[0].split(\"=\")[1]\n",
    "        strength = 3 if type == \"strongsubj\" else 1\n",
    "        if polarity == \"positive\":\n",
    "            weighted_sentiment_dict[word] = strength\n",
    "        elif polarity == \"negative\":\n",
    "            weighted_sentiment_dict[word] = -strength\n",
    "\n",
    "            "
   ],
   "outputs": [],
   "execution_count": 10
  },
  {
   "cell_type": "code",
   "metadata": {
    "colab": {
     "base_uri": "https://localhost:8080/",
     "height": 141
    },
    "executionInfo": {
     "elapsed": 221,
     "status": "error",
     "timestamp": 1698047779696,
     "user": {
      "displayName": "XUE LI",
      "userId": "02386889076941396043"
     },
     "user_tz": -120
    },
    "id": "9vVk7CvDpyka",
    "outputId": "fb9a09d2-b878-416f-d72c-1c651099c9ed",
    "ExecuteTime": {
     "end_time": "2024-11-04T09:01:40.646068Z",
     "start_time": "2024-11-04T09:01:40.529445Z"
    }
   },
   "source": [
    "magnitude_results = []\n",
    "\n",
    "for review in reviews:\n",
    "    prediction = classify_review_binary(review, weighted_sentiment_dict, threshold=8)\n",
    "    magnitude_results.append(1 if prediction == review[\"sentiment\"] else 0)\n",
    "    \n",
    "magnitude_accuracy = sum(magnitude_results) / len(magnitude_results)\n",
    "print(f\"Accuracy: {magnitude_accuracy:.3f}\")  # Using f-string formatting"
   ],
   "outputs": [
    {
     "name": "stdout",
     "output_type": "stream",
     "text": [
      "Accuracy: 0.691\n"
     ]
    }
   ],
   "execution_count": 11
  },
  {
   "cell_type": "markdown",
   "metadata": {
    "id": "h9SHoGPfsAHV"
   },
   "source": [
    "#### (Q.1.3) Make a barplot of the two results (0.5pt)"
   ]
  },
  {
   "cell_type": "code",
   "metadata": {
    "id": "8LgBcYcXsEk3",
    "ExecuteTime": {
     "end_time": "2024-11-04T09:01:40.770112Z",
     "start_time": "2024-11-04T09:01:40.688016Z"
    }
   },
   "source": [
    "# YOUR CODE HERE\n",
    "plt.figure(figsize=(10, 5))\n",
    "plt.title(\"Accuracy comparison\")\n",
    "plt.bar([\"Token\", \"Magnitude\"], [token_accuracy, magnitude_accuracy], color=[\"blue\", \"orange\"])\n",
    "plt.text(0, token_accuracy, f\"{token_accuracy:.3f}\", ha=\"center\", va=\"bottom\")\n",
    "plt.text(1, magnitude_accuracy, f\"{magnitude_accuracy:.3f}\", ha=\"center\", va=\"bottom\")"
   ],
   "outputs": [
    {
     "data": {
      "text/plain": [
       "Text(1, 0.691, '0.691')"
      ]
     },
     "execution_count": 12,
     "metadata": {},
     "output_type": "execute_result"
    },
    {
     "data": {
      "text/plain": [
       "<Figure size 1000x500 with 1 Axes>"
      ],
      "image/png": "[encoded data removed]"
     },
     "metadata": {},
     "output_type": "display_data"
    }
   ],
   "execution_count": 12
  },
  {
   "cell_type": "markdown",
   "metadata": {
    "id": "sNhS8OCVxMHd"
   },
   "source": [
    "#### (Q1.4) A better threshold (1pt)\n",
    "Above we have defined a threshold to account for an inherent bias in the dataset: there are more positive than negative words per review.\n",
    "However, that threshold does not take into account *document length*. Explain why this is a problem and implement an alternative way to compute the threshold."
   ]
  },
  {
   "cell_type": "markdown",
   "metadata": {
    "id": "Dwt0B8h8aKjr"
   },
   "source": [
    "Awnser: The current fixed threshold approach is problematic because longer documents will  accumulate more sentiment words. This means longer positive reviews are more likely to be classified as positive simply because they have more words, not because they are more positive. Similarly, shorter positive reviews might be misclassified as negative just because they don't have enough words to exceed the threshold.\n",
    "\n",
    "A better approach is to normalize the sentiment score by the document length\n",
    "or by the number of sentiment words in the document. "
   ]
  },
  {
   "cell_type": "code",
   "metadata": {
    "ExecuteTime": {
     "end_time": "2024-11-04T09:01:40.918877Z",
     "start_time": "2024-11-04T09:01:40.803088Z"
    }
   },
   "source": [
    "# YOUR CODE HERE\n",
    "def classify_review_normalized(review, threshold=0.1):\n",
    "    \"\"\"\n",
    "    Classify a review using a normalized sentiment score that accounts for document length.\n",
    "    \n",
    "    :param review: The review to classify\n",
    "    :param threshold: Threshold for normalized score (default: 0.3)\n",
    "    :return: \"POS\" or \"NEG\"\n",
    "    \"\"\"\n",
    "    score = 0\n",
    "    sentiment_words = 0\n",
    "    \n",
    "    # Count sentiment words and calculate score\n",
    "    for sentence in review[\"content\"]:\n",
    "        for token, _ in sentence:\n",
    "            token = token.lower()\n",
    "            if token in sentiment_dict:\n",
    "                score += sentiment_dict[token]\n",
    "                sentiment_words += 1\n",
    "    \n",
    "    # Normalize score by number of sentiment words (if any found)\n",
    "    if sentiment_words > 0:\n",
    "        normalized_score = score / sentiment_words\n",
    "    else:\n",
    "        normalized_score = 0\n",
    "        \n",
    "    return \"POS\" if normalized_score > threshold else \"NEG\"\n",
    "\n",
    "# Evaluate with normalized threshold\n",
    "normalized_results = []\n",
    "for review in reviews:\n",
    "    prediction = classify_review_normalized(review)\n",
    "    normalized_results.append(1 if prediction == review[\"sentiment\"] else 0)\n",
    "\n",
    "normalized_accuracy = sum(normalized_results) / len(normalized_results)\n",
    "print(f\"Accuracy with normalized threshold: {normalized_accuracy:.3f}\")\n",
    "\n",
    "# Compare with previous approach\n",
    "print(f\"Previous accuracy: {magnitude_accuracy:.3f}\")"
   ],
   "outputs": [
    {
     "name": "stdout",
     "output_type": "stream",
     "text": [
      "Accuracy with normalized threshold: 0.669\n",
      "Previous accuracy: 0.691\n"
     ]
    }
   ],
   "execution_count": 13
  },
  {
   "cell_type": "markdown",
   "metadata": {
    "id": "LibV4nR89BXb"
   },
   "source": [
    "# (2) Naive Bayes (9.5pts)"
   ]
  },
  {
   "cell_type": "markdown",
   "metadata": {
    "id": "fnF9adQnuwia"
   },
   "source": [
    "\n",
    "Your second task is to program a simple Machine Learning approach that operates\n",
    "on a simple Bag-of-Words (BoW) representation of the text data, as\n",
    "described by Pang et al. (2002). In this approach, the only features we\n",
    "will consider are the words in the text themselves, without bringing in\n",
    "external sources of information. The BoW model is a popular way of\n",
    "representing texts as vectors, making it\n",
    "easy to apply classical Machine Learning algorithms on NLP tasks.\n",
    "However, the BoW representation is also very crude, since it discards\n",
    "all information related to word order and grammatical structure in the\n",
    "original text—as the name suggests.\n",
    "\n",
    "## Writing your own classifier (4pts)\n",
    "\n",
    "Write your own code to implement the Naive Bayes (NB) classifier. As\n",
    "a reminder, the Naive Bayes classifier works according to the following\n",
    "equation:\n",
    "$$\\hat{c} = \\operatorname*{arg\\,max}_{c \\in C} P(c|\\bar{f}) = \\operatorname*{arg\\,max}_{c \\in C} P(c)\\prod^n_{i=1} P(f_i|c)$$\n",
    "where $C = \\{ \\text{POS}, \\text{NEG} \\}$ is the set of possible classes,\n",
    "$\\hat{c} \\in C$ is the most probable class, and $\\bar{f}$ is the feature\n",
    "vector. Remember that we use the log of these probabilities when making\n",
    "a prediction:\n",
    "$$\\hat{c} = \\operatorname*{arg\\,max}_{c \\in C} \\Big\\{\\log P(c) + \\sum^n_{i=1} \\log P(f_i|c)\\Big\\}$$\n",
    "\n",
    "You can find more details about Naive Bayes in [Jurafsky &\n",
    "Martin](https://web.stanford.edu/~jurafsky/slp3/). You can also look at\n",
    "this helpful\n",
    "[pseudo-code](https://nlp.stanford.edu/IR-book/html/htmledition/naive-bayes-text-classification-1.html).\n",
    "\n",
    "*Note: this section and the next aim to put you in a position to replicate\n",
    "    Pang et al.'s Naive Bayes results. However, your numerical results\n",
    "    will differ from theirs, as they used different data.*\n",
    "\n",
    "**You must write the Naive Bayes training and prediction code from\n",
    "scratch.** You will not be given credit for using off-the-shelf Machine\n",
    "Learning libraries.\n",
    "\n",
    "The data contains the text of the reviews, where each document consists\n",
    "of the sentences in the review, the sentiment of the review and an index\n",
    "(cv) that you will later use for cross-validation. The\n",
    "text has already been tokenised and POS-tagged for you. Your algorithm\n",
    "should read in the text, **lowercase it**, store the words and their\n",
    "frequencies in an appropriate data structure that allows for easy\n",
    "computation of the probabilities used in the Naive Bayes algorithm, and\n",
    "then make predictions for new instances.\n"
   ]
  },
  {
   "cell_type": "markdown",
   "metadata": {
    "id": "vEpyQSBSkb33"
   },
   "source": [
    "#### (Q2.1) Unseen words (1pt)\n",
    "The presence of words in the test dataset that\n",
    "have not been seen during training can cause probabilities in the Naive Bayes classifier to equal $0$.\n",
    "These can be words which are unseen in both positive and negative training reviews (case 1), but also words which are seen in reviews _of only one sentiment class_ in the training dataset (case 2). In both cases, **you should skip these words for both classes at test time**.  What would be the problem instead with skipping words only for one class in case 2?"
   ]
  },
  {
   "cell_type": "markdown",
   "metadata": {
    "id": "BanFiYYnoxDW"
   },
   "source": [
    "Awnser: If words that were only seen in one sentiment class during training are skipped only for that class at test time, the probabilities for the other class become disproportionately high. This imbalance occurs because skipping words selectively biases the probability estimates, leading to an unfair advantage for the class where the word isn’t skipped. The Naive Bayes classifier may misclassify the test instance, especially when words indicative of a particular sentiment are excluded from one class but not the other."
   ]
  },
  {
   "cell_type": "markdown",
   "metadata": {
    "id": "gsZRhaI3WvzC"
   },
   "source": [
    "#### (Q2.2) Train your classifier on (positive and negative) reviews with cv-value 000-899, and test it on the remaining (positive and negative) reviews cv900–cv999.  Report results using classification accuracy as your evaluation metric. Your  features are the word vocabulary. The value of a feature is the count of that feature (word) in the document. (2pts)\n"
   ]
  },
  {
   "cell_type": "code",
   "metadata": {
    "id": "G7zaJYGFvIJ3",
    "ExecuteTime": {
     "end_time": "2024-11-04T09:01:43.968336Z",
     "start_time": "2024-11-04T09:01:40.958901Z"
    }
   },
   "source": [
    "import math  # Ensure math module is imported\n",
    "import string  # For punctuation handling\n",
    "\n",
    "train_reviews = [review for review in reviews if review[\"cv\"] <= 899]\n",
    "test_reviews = [review for review in reviews if review[\"cv\"] > 899]\n",
    "\n",
    "def class_prior_probability(train_reviews):\n",
    "    pos_reviews = sum(1 for review in train_reviews if review[\"sentiment\"] == \"POS\")\n",
    "    neg_reviews = sum(1 for review in train_reviews if review[\"sentiment\"] == \"NEG\")\n",
    "    \n",
    "    total_reviews = len(train_reviews)\n",
    "    pos_prior = pos_reviews / total_reviews\n",
    "    neg_prior = neg_reviews / total_reviews\n",
    "    \n",
    "    return {\"POS\": pos_prior, \"NEG\": neg_prior}\n",
    "\n",
    "def get_features(reviews):\n",
    "    \"\"\"\n",
    "    Processes reviews to extract features for each class by counting word frequencies.\n",
    "    Converts tokens to lowercase and removes punctuation.\n",
    "    Returns a dictionary with word counts for 'POS' and 'NEG' classes.\n",
    "    \"\"\"\n",
    "    word_counts = {\"POS\": {}, \"NEG\": {}}\n",
    "    total_words = {\"POS\": 0, \"NEG\": 0}\n",
    "\n",
    "    for review in reviews:\n",
    "        sentiment = review[\"sentiment\"]\n",
    "        for sentence in review[\"content\"]:\n",
    "            for token, _ in sentence:\n",
    "                # Convert token to lowercase and strip punctuation\n",
    "                token = token.lower().translate(str.maketrans('', '', string.punctuation))\n",
    "                if token:\n",
    "                    word_counts[sentiment][token] = word_counts[sentiment].get(token, 0) + 1\n",
    "                    total_words[sentiment] += 1\n",
    "\n",
    "    return word_counts, total_words\n",
    "\n",
    "def calculate_likelihood(word_counts, total_words):\n",
    "    \"\"\"\n",
    "    Calculates the likelihoods of words given sentiment labels using word counts.\n",
    "    \"\"\"\n",
    "    likelihoods = {\"POS\": {}, \"NEG\": {}}\n",
    "    \n",
    "    for sentiment in [\"POS\", \"NEG\"]:\n",
    "        for word, count in word_counts[sentiment].items():\n",
    "            # Only include words that appear in both classes to reduce zero probabilities\n",
    "            if word in word_counts[\"POS\"] and word in word_counts[\"NEG\"]:\n",
    "                likelihoods[sentiment][word] = count / total_words[sentiment]\n",
    "\n",
    "    return likelihoods\n",
    "\n",
    "\n",
    "def naive_bayes_prediction(review, prior_probabilities, word_likelihoods):\n",
    "    scores = {\n",
    "        \"POS\": math.log(prior_probabilities[\"POS\"]),\n",
    "        \"NEG\": math.log(prior_probabilities[\"NEG\"])\n",
    "    }\n",
    "    \n",
    "    for sentence in review[\"content\"]:\n",
    "        for token, _ in sentence:\n",
    "            token = token.lower().translate(str.maketrans('', '', string.punctuation))\n",
    "            if token in word_likelihoods[\"POS\"]:\n",
    "                scores[\"POS\"] += math.log(word_likelihoods[\"POS\"][token])\n",
    "            if token in word_likelihoods[\"NEG\"]:\n",
    "                scores[\"NEG\"] += math.log(word_likelihoods[\"NEG\"][token])\n",
    "    \n",
    "    return max(scores, key=scores.get)\n",
    "\n",
    "\n",
    "def evaluate_naive_bayes(train_reviews, test_reviews):\n",
    "    \"\"\"\n",
    "    Train a Naive Bayes classifier using a specified likelihood function.\n",
    "    \n",
    "    :param train_reviews: The training reviews\n",
    "    :param likelihood_func: The likelihood function to use (with or without smoothing)\n",
    "    :return: Prior probabilities and word likelihoods\n",
    "    \"\"\"\n",
    "       # Calculate priors and likelihoods\n",
    "    prior_probabilities = class_prior_probability(train_reviews)\n",
    "    word_counts, total_words = get_features(train_reviews)\n",
    "    word_likelihoods = calculate_likelihood(word_counts, total_words)\n",
    "    \n",
    "    # Training accuracy\n",
    "    train_true_labels = [review[\"sentiment\"] for review in train_reviews]\n",
    "    train_predicted_labels = [naive_bayes_prediction(review, prior_probabilities, word_likelihoods)\n",
    "                              for review in train_reviews]\n",
    "    train_accuracy = accuracy(train_true_labels, train_predicted_labels)\n",
    "    \n",
    "    # Test accuracy\n",
    "    test_true_labels = [review[\"sentiment\"] for review in test_reviews]\n",
    "    test_predicted_labels = [naive_bayes_prediction(review, prior_probabilities, word_likelihoods)\n",
    "                             for review in test_reviews]\n",
    "    test_accuracy = accuracy(test_true_labels, test_predicted_labels)\n",
    "    \n",
    "    return prior_probabilities, word_likelihoods, train_accuracy, test_accuracy\n",
    "\n",
    "# Run training with the modified code\n",
    "train_prior_probabilities, train_word_likelihoods, train_nb_accuracy, test_nb_accuracy = evaluate_naive_bayes(train_reviews, test_reviews)\n",
    "print(f\"Training accuracy: {train_nb_accuracy:.3f}\")\n",
    "print(f\"Test accuracy: {test_nb_accuracy:.3f}\")"
   ],
   "outputs": [
    {
     "name": "stdout",
     "output_type": "stream",
     "text": [
      "Training accuracy: 0.947\n",
      "Test accuracy: 0.830\n"
     ]
    }
   ],
   "execution_count": 14
  },
  {
   "cell_type": "markdown",
   "metadata": {
    "id": "0INK-PBoM6CB"
   },
   "source": [
    "#### (Q2.3) Would you consider accuracy to also be a good way to evaluate your classifier in a situation where 90% of your data instances are of positive movie reviews? (1pt)\n",
    "\n",
    "Simulate this scenario by keeping the positive reviews\n",
    "data unchanged, but only using negative reviews cv000–cv089 for\n",
    "training, and cv900–cv909 for testing. Calculate the classification\n",
    "accuracy, and explain what changed."
   ]
  },
  {
   "cell_type": "markdown",
   "metadata": {
    "id": "oFbcsYlipBAw"
   },
   "source": [
    "TODO: Edit this??? In the case of imbalanced classes, accuracy would not be a reliable metric to evaluate the classifier. This is because accuracy is a biased metric. A classifier that simply predicts every review as positive would achieve 90% accuracy without actually learning meaningful distinctions between positive and negative reviews."
   ]
  },
  {
   "cell_type": "code",
   "metadata": {
    "id": "GWDkt5ZrrFGp",
    "ExecuteTime": {
     "end_time": "2024-11-04T09:04:46.938845Z",
     "start_time": "2024-11-04T09:04:46.634744Z"
    }
   },
   "source": [
    "negative_reviews_train = [review for review in reviews if review[\"cv\"] <= 89]\n",
    "test_reviews = [review for review in reviews if 900 <= review[\"cv\"] <= 909]\n",
    "\n",
    "# Train two separate classifiers\n",
    "negative_prior_probabilities, negative_word_likelihoods, train_accuracy, test_accuracy = evaluate_naive_bayes(negative_reviews_train, test_reviews)\n",
    "print(f\"Accuracy after training on only negative reviews: {test_accuracy:.3f}\")"
   ],
   "outputs": [
    {
     "name": "stdout",
     "output_type": "stream",
     "text": [
      "Accuracy after training on only negative reviews: 0.550\n"
     ]
    }
   ],
   "execution_count": 31
  },
  {
   "cell_type": "markdown",
   "metadata": {
    "id": "6wJzcHX3WUDm"
   },
   "source": [
    "## Smoothing (1pt)\n",
    "\n",
    "As mentioned above, the presence of words in the test dataset that\n",
    "have not been seen during training can cause probabilities in the Naive\n",
    "Bayes classifier to be $0$, thus making that particular test instance\n",
    "undecidable. The standard way to mitigate this effect (as well as to\n",
    "give more clout to rare words) is to use smoothing, in which the\n",
    "probability fraction\n",
    "$$\\frac{\\text{count}(w_i, c)}{\\sum\\limits_{w\\in V} \\text{count}(w, c)} \\text{for a word $w_i$ becomes} \\frac{\\text{count}(w_i, c) + \\text{smoothing}(w_i)}{\\sum\\limits_{w\\in V} \\text{count}(w, c) + \\sum\\limits_{w \\in V} \\text{smoothing}(w)}$$\n",
    "\n",
    "\n",
    "\n"
   ]
  },
  {
   "cell_type": "markdown",
   "metadata": {
    "id": "PBNIcbwUWphC"
   },
   "source": [
    "#### (Q2.4) Implement Laplace feature smoothing (1pt)\n",
    "Implement Laplace smoothing, i.e., smoothing with a constant value ($smoothing(w) = \\kappa, \\forall w \\in V$), in your Naive\n",
    "Bayes classifier’s code, and report the accuracy.\n",
    "Use $\\kappa = 1$."
   ]
  },
  {
   "cell_type": "code",
   "metadata": {
    "id": "g03yflCc9kpW",
    "ExecuteTime": {
     "end_time": "2024-11-04T09:01:47.225703Z",
     "start_time": "2024-11-04T09:01:44.340961Z"
    }
   },
   "source": [
    "# YOUR CODE HERE\n",
    "def calculate_smoothed_likelihood(word_counts, total_words, kappa=1):\n",
    "    \"\"\"\n",
    "    Calculates smoothed likelihoods for each word in the vocabulary given the training data.\n",
    "    \n",
    "    :param word_counts: Dictionary with word counts for each class ('POS' and 'NEG')\n",
    "    :param total_words: Total word count for each class\n",
    "    :param kappa: Smoothing parameter (default: 1)\n",
    "    :return: Smoothed likelihoods for each word in the vocabulary for both classes\n",
    "    \"\"\"\n",
    "    vocabulary = set(word for sentiment in word_counts for word in word_counts[sentiment])  # Create vocabulary from word counts\n",
    "    vocabulary_size = len(vocabulary)\n",
    "\n",
    "    likelihoods = {\"POS\": {}, \"NEG\": {}}\n",
    "    for sentiment in [\"POS\", \"NEG\"]:\n",
    "        for word in vocabulary:\n",
    "            count = word_counts[sentiment].get(word, 0)\n",
    "            # Apply smoothing to the likelihood calculation\n",
    "            likelihoods[sentiment][word] = (count + kappa) / ((total_words[sentiment] + kappa) * vocabulary_size)\n",
    "\n",
    "    return likelihoods\n",
    "\n",
    "def evaluate_naive_bayes_smoothed(train_reviews, test_reviews):\n",
    "    \"\"\"\n",
    "    Train a Naive Bayes classifier using a specified likelihood function.\n",
    "    \n",
    "    :param train_reviews: The training reviews\n",
    "    :param likelihood_func: The likelihood function to use (with or without smoothing)\n",
    "    :return: Prior probabilities and word likelihoods\n",
    "    \"\"\"\n",
    "       # Calculate priors and likelihoods\n",
    "    prior_probabilities = class_prior_probability(train_reviews)\n",
    "    word_counts, total_words = get_features(train_reviews)\n",
    "    word_likelihoods = calculate_smoothed_likelihood(word_counts, total_words)\n",
    "    \n",
    "    # Training accuracy\n",
    "    train_true_labels = [review[\"sentiment\"] for review in train_reviews]\n",
    "    train_predicted_labels = [naive_bayes_prediction(review, prior_probabilities, word_likelihoods)\n",
    "                              for review in train_reviews]\n",
    "    train_accuracy = accuracy(train_true_labels, train_predicted_labels)\n",
    "    \n",
    "    # Test accuracy\n",
    "    test_true_labels = [review[\"sentiment\"] for review in test_reviews]\n",
    "    test_predicted_labels = [naive_bayes_prediction(review, prior_probabilities, word_likelihoods)\n",
    "                             for review in test_reviews]\n",
    "    test_accuracy = accuracy(test_true_labels, test_predicted_labels)\n",
    "    \n",
    "    return prior_probabilities, word_likelihoods, train_accuracy, test_accuracy\n",
    "\n",
    "\n",
    "# Evaluate the Naive Bayes classifier with smoothing\n",
    "train_prior_probabilities, train_word_likelihoods, train_nb_accuracy, test_nb_accuracy = evaluate_naive_bayes_smoothed(train_reviews,test_reviews)\n",
    "print(f\"Training accuracy with smoothing: {train_nb_accuracy:.3f}\")\n",
    "print(f\"Test accuracy with smoothing: {test_nb_accuracy:.3f}\")"
   ],
   "outputs": [
    {
     "name": "stdout",
     "output_type": "stream",
     "text": [
      "Training accuracy with smoothing: 0.972\n",
      "Test accuracy with smoothing: 0.750\n"
     ]
    }
   ],
   "execution_count": 16
  },
  {
   "cell_type": "markdown",
   "metadata": {
    "id": "ZiGcgwba87D5"
   },
   "source": [
    "## Cross-Validation (1.5pts)\n",
    "\n",
    "A serious danger in using Machine Learning on small datasets, with many\n",
    "iterations of slightly different versions of the algorithms, is ending up with Type III errors, also called the “testing hypotheses\n",
    "suggested by the data” errors. This type of error occurs when we make\n",
    "repeated improvements to our classifiers by playing with features and\n",
    "their processing, but we don’t get a fresh, never-before seen test\n",
    "dataset every time. Thus, we risk developing a classifier that gets better\n",
    "and better on our data, but only gets worse at generalizing to new, unseen data. In other words, we risk developping a classifier that overfits.\n",
    "\n",
    "A simple method to guard against Type III errors is to use\n",
    "Cross-Validation. In **N-fold Cross-Validation**, we divide the data into N\n",
    "distinct chunks, or folds. Then, we repeat the experiment N times: each\n",
    "time holding out one of the folds for testing, training our classifier\n",
    "on the remaining N - 1 data folds, and reporting performance on the\n",
    "held-out fold. We can use different strategies for dividing the data:\n",
    "\n",
    "-   Consecutive splitting:\n",
    "  - cv000–cv099 = Split 1\n",
    "  - cv100–cv199 = Split 2\n",
    "  - etc.\n",
    "  \n",
    "-   Round-robin splitting (mod 10):\n",
    "  - cv000, cv010, cv020, … = Split 1\n",
    "  - cv001, cv011, cv021, … = Split 2\n",
    "  - etc.\n",
    "\n",
    "-   Random sampling/splitting\n",
    "  - Not used here (but you may choose to split this way in a non-educational situation)\n",
    "\n"
   ]
  },
  {
   "cell_type": "markdown",
   "metadata": {
    "id": "8OeLcbSauGtR"
   },
   "source": [
    "#### (Q2.5) Write the code to implement 10-fold cross-validation using round-robin splitting for your Naive Bayes classifier from Q2.4 and compute the 10 accuracies. Report the final performance, which is the average of the performances per fold. If all splits perform equally well, this is a good sign. (1pt)"
   ]
  },
  {
   "cell_type": "code",
   "metadata": {
    "id": "3KeCGPa7Nuzx",
    "ExecuteTime": {
     "end_time": "2024-11-04T09:01:47.279733Z",
     "start_time": "2024-11-04T09:01:47.277704Z"
    }
   },
   "source": [
    "# YOUR CODE HERE\n",
    "\n",
    "def round_robin_split(data, num_folds=10):\n",
    "    \"\"\"\n",
    "    Splits data into folds based on a round-robin (mod) approach.\n",
    "\n",
    "    :param data: list of samples\n",
    "    :param num_folds: number of folds (default: 10)\n",
    "    :return: list of folds, where each fold is a list of samples\n",
    "    \"\"\"\n",
    "    folds = [[] for _ in range(num_folds)]\n",
    "    for i, sample in enumerate(data):\n",
    "        folds[i % num_folds].append(sample)\n",
    "    return folds\n"
   ],
   "outputs": [],
   "execution_count": 17
  },
  {
   "cell_type": "code",
   "metadata": {
    "ExecuteTime": {
     "end_time": "2024-11-04T09:02:18.427781Z",
     "start_time": "2024-11-04T09:01:47.315938Z"
    }
   },
   "source": [
    "def cross_validate(data, num_folds=10):\n",
    "    \"\"\"\n",
    "    Performs 10-fold cross-validation using round-robin splitting for Naive Bayes.\n",
    "\n",
    "    :param data: list of samples, each with 'content' and 'sentiment' fields\n",
    "    :param num_folds: number of folds for cross-validation (default: 10)\n",
    "    :param kappa: smoothing parameter for Naive Bayes\n",
    "    :return: average accuracy across folds\n",
    "    \"\"\"\n",
    "    folds = round_robin_split(data, num_folds)\n",
    "    fold_accuracies = []\n",
    "    \n",
    "    for i in range(num_folds):\n",
    "        # Prepare training and testing sets for the current fold\n",
    "        test_data = folds[i]\n",
    "        train_data = [item for j, fold in enumerate(folds) if j != i for item in fold]\n",
    "        \n",
    "        # Evaluate Naive Bayes model using the provided evaluate function\n",
    "        _, _, train_accuracy, test_accuracy = evaluate_naive_bayes_smoothed(\n",
    "            train_data, test_data\n",
    "        )\n",
    "        \n",
    "        # Record the test accuracy for the current fold\n",
    "        fold_accuracies.append(test_accuracy)\n",
    "        print(f\"Fold {i+1} test accuracy: {test_accuracy:.3f}\")\n",
    "\n",
    "    # Calculate and report the average accuracy across folds\n",
    "    avg_accuracy = np.mean(fold_accuracies)\n",
    "    print(f\"Average cross-validation accuracy: {avg_accuracy:.3f}\")\n",
    "    return avg_accuracy, fold_accuracies\n",
    "\n",
    "\n",
    "average_accuracy, fold_accuracies = cross_validate(reviews, num_folds=10)"
   ],
   "outputs": [
    {
     "name": "stdout",
     "output_type": "stream",
     "text": [
      "Fold 1 test accuracy: 0.770\n",
      "Fold 2 test accuracy: 0.845\n",
      "Fold 3 test accuracy: 0.795\n",
      "Fold 4 test accuracy: 0.845\n",
      "Fold 5 test accuracy: 0.785\n",
      "Fold 6 test accuracy: 0.840\n",
      "Fold 7 test accuracy: 0.825\n",
      "Fold 8 test accuracy: 0.760\n",
      "Fold 9 test accuracy: 0.815\n",
      "Fold 10 test accuracy: 0.810\n",
      "Average cross-validation accuracy: 0.809\n"
     ]
    }
   ],
   "execution_count": 18
  },
  {
   "cell_type": "markdown",
   "metadata": {
    "id": "otdlsDXBNyOa"
   },
   "source": [
    "#### (Q2.6) Report the variance of the 10 accuracy scores. (0.5pt)\n",
    "\n",
    "**Please report all future results using 10-fold cross-validation now\n",
    "(unless told to use the held-out test set).** Note: you're not allowed to use a library for computing the variance."
   ]
  },
  {
   "cell_type": "code",
   "metadata": {
    "id": "ZoBQm1KuNzNR",
    "ExecuteTime": {
     "end_time": "2024-11-04T09:02:18.474911Z",
     "start_time": "2024-11-04T09:02:18.472613Z"
    }
   },
   "source": [
    "# YOUR CODE HERE\n",
    "def calculate_variance(scores):\n",
    "    \"\"\"\n",
    "    Calculate the variance of a list of scores.\n",
    "\n",
    "    :param scores: List of accuracy scores \n",
    "    :return: Variance of the scores\n",
    "    \"\"\"\n",
    "    mean_score = sum(scores) / len(scores)\n",
    "    variance = sum((score - mean_score) ** 2 for score in scores) / (len(scores) -1)\n",
    "    return variance\n",
    "\n",
    "print(calculate_variance(fold_accuracies))"
   ],
   "outputs": [
    {
     "name": "stdout",
     "output_type": "stream",
     "text": [
      "0.0009488888888888875\n"
     ]
    }
   ],
   "execution_count": 19
  },
  {
   "cell_type": "markdown",
   "metadata": {
    "id": "s6A2zX9_BRKm"
   },
   "source": [
    "## Features, overfitting, and the curse of dimensionality\n",
    "\n",
    "In the Bag-of-Words model, ideally we would like each distinct word in\n",
    "the text to be mapped to its own dimension in the output vector\n",
    "representation. However, real world text is messy, and we need to decide\n",
    "on what we consider to be a word. For example, is “`word`\" different\n",
    "from “`Word`\", from “`word`”, or from “`words`\"? Too strict a\n",
    "definition, and the number of features explodes, while our algorithm\n",
    "fails to learn anything generalisable. Too lax, and we risk destroying\n",
    "our learning signal. In the following section, you will learn about\n",
    "confronting the feature sparsity and the overfitting problems as they\n",
    "occur in NLP classification tasks."
   ]
  },
  {
   "cell_type": "markdown",
   "metadata": {
    "id": "EKK8FNt8VtcZ"
   },
   "source": [
    "### Stemming (1.5pts)\n",
    "\n",
    "To make your algorithm more robust, use stemming and hash different inflections of a word to the same feature in the BoW vector space. Please use the [Porter stemming\n",
    "    algorithm](http://www.nltk.org/howto/stem.html) from NLTK.\n",
    "\n"
   ]
  },
  {
   "cell_type": "code",
   "metadata": {
    "id": "NxtCul1IrBi_",
    "ExecuteTime": {
     "end_time": "2024-11-04T09:02:18.536882Z",
     "start_time": "2024-11-04T09:02:18.534087Z"
    }
   },
   "source": [
    "# YOUR CODE HERE\n",
    "from nltk.stem import PorterStemmer\n",
    "import string\n",
    "\n",
    "def preprocess_and_stem(reviews):\n",
    "    stemmer = PorterStemmer()\n",
    "    processed_reviews = []\n",
    "\n",
    "    for review in reviews:\n",
    "        sentiment = review[\"sentiment\"]\n",
    "        # Initialize a new review for processed content\n",
    "        processed_content = []\n",
    "        for sentence in review[\"content\"]:\n",
    "            # Stem each token in the sentence\n",
    "            stemmed_sentence = [(stemmer.stem(token.lower().translate(str.maketrans('', '', string.punctuation))), None) \n",
    "                                for token, _ in sentence]\n",
    "            processed_content.append(stemmed_sentence)\n",
    "        \n",
    "        processed_reviews.append({\"sentiment\": sentiment, \"content\": processed_content})\n",
    "\n",
    "    return processed_reviews"
   ],
   "outputs": [],
   "execution_count": 20
  },
  {
   "cell_type": "markdown",
   "metadata": {
    "id": "6SrJ1BeLXTnk"
   },
   "source": [
    "#### (Q2.7): How does the performance of your classifier change when you use stemming on your training and test datasets? (1pt)\n",
    "Use cross-validation to evaluate the classifier.\n"
   ]
  },
  {
   "cell_type": "code",
   "metadata": {
    "id": "gYqKBOiIrInT",
    "ExecuteTime": {
     "end_time": "2024-11-04T09:02:58.608434Z",
     "start_time": "2024-11-04T09:02:18.573042Z"
    }
   },
   "source": [
    "# YOUR ANSWER HERE\n",
    "processed_reviews = preprocess_and_stem(reviews)\n",
    "average_accuracy, fold_accuracies = cross_validate(processed_reviews, num_folds=10)"
   ],
   "outputs": [
    {
     "name": "stdout",
     "output_type": "stream",
     "text": [
      "Fold 1 test accuracy: 0.775\n",
      "Fold 2 test accuracy: 0.835\n",
      "Fold 3 test accuracy: 0.805\n",
      "Fold 4 test accuracy: 0.865\n",
      "Fold 5 test accuracy: 0.800\n",
      "Fold 6 test accuracy: 0.840\n",
      "Fold 7 test accuracy: 0.815\n",
      "Fold 8 test accuracy: 0.750\n",
      "Fold 9 test accuracy: 0.830\n",
      "Fold 10 test accuracy: 0.805\n",
      "Average cross-validation accuracy: 0.812\n"
     ]
    }
   ],
   "execution_count": 21
  },
  {
   "cell_type": "markdown",
   "metadata": {
    "id": "JkDHVq_1XUVP"
   },
   "source": [
    "#### (Q2.8) What happens to the number of features (i.e., the size of the vocabulary) when using stemming as opposed to (Q2.4)? (0.5pt)\n",
    "Give actual numbers. You can use the held-out training set to determine these."
   ]
  },
  {
   "cell_type": "markdown",
   "metadata": {},
   "source": [
    "Awnser: As we see from the output of the code bellow the number of features decreases from 46817 without stemming to 33230 with stemming."
   ]
  },
  {
   "cell_type": "code",
   "metadata": {
    "id": "MA3vee5-rJyy",
    "ExecuteTime": {
     "end_time": "2024-11-04T09:03:11.831052Z",
     "start_time": "2024-11-04T09:02:58.650479Z"
    }
   },
   "source": [
    "# YOUR CODE HERE\n",
    "feature_count_no_stemming, total_words_no_stemming = get_features(reviews)\n",
    "total_features_no_stemming = len(feature_count_no_stemming['POS']) + len(feature_count_no_stemming['NEG'])\n",
    "print(f\"Total number of features (without stemming): {total_features_no_stemming}\")\n",
    "\n",
    "\n",
    "# Calculate vocabulary size with stemming\n",
    "processed_reviews = preprocess_and_stem(reviews)\n",
    "\n",
    "feature_count_no_stemming, total_words_no_stemming = get_features(processed_reviews)\n",
    "total_features_no_stemming = len(feature_count_no_stemming['POS']) + len(feature_count_no_stemming['NEG'])\n",
    "print(f\"Total number of features (with stemming): {total_features_no_stemming}\")\n"
   ],
   "outputs": [
    {
     "name": "stdout",
     "output_type": "stream",
     "text": [
      "Total number of features (without stemming): 66511\n",
      "Total number of features (with stemming): 47103\n"
     ]
    }
   ],
   "execution_count": 22
  },
  {
   "cell_type": "markdown",
   "metadata": {
    "id": "SoazfxbNV5Lq"
   },
   "source": [
    "### N-grams (1.5pts)\n",
    "\n",
    "A simple way of retaining some of the word\n",
    "order information when using bag-of-words representations is to use **n-gram** features.\n",
    "\n",
    "\n",
    "\n",
    "\n"
   ]
  },
  {
   "cell_type": "markdown",
   "metadata": {
    "id": "OHjy3I7-qWiu"
   },
   "source": [
    "#### (Q2.9) Retrain your classifier from (Q2.4) using **unigrams+bigrams** and **unigrams+bigrams+trigrams** as features. (1pt)\n",
    "Report accuracy and compare it with that of the approaches you have previously implemented. You are allowed to use NLTK to build n-grams from sentences."
   ]
  },
  {
   "cell_type": "code",
   "metadata": {
    "id": "eYuKMTOpq9jz",
    "ExecuteTime": {
     "end_time": "2024-11-04T09:03:11.892412Z",
     "start_time": "2024-11-04T09:03:11.889319Z"
    }
   },
   "source": [
    "# YOUR CODE HERE\n",
    "from nltk import ngrams\n",
    "\n",
    "def get_features_ngrams(reviews, n=1):\n",
    "    \"\"\"\n",
    "    Processes reviews to extract n-gram features for each class by counting frequencies.\n",
    "    Converts tokens to lowercase and removes punctuation.\n",
    "    Returns a dictionary with n-gram counts for 'POS' and 'NEG' classes.\n",
    "    \n",
    "    :param reviews: List of reviews with \"content\" field containing tokenized sentences.\n",
    "    :param n: The upper limit for n-grams (1 for unigrams, 2 for bigrams, etc.).\n",
    "    \"\"\"\n",
    "    ngram_counts = {\"POS\": {}, \"NEG\": {}}\n",
    "    total_ngrams = {\"POS\": 0, \"NEG\": 0}\n",
    "\n",
    "    for review in reviews:\n",
    "        sentiment = review[\"sentiment\"]\n",
    "        for sentence in review[\"content\"]:\n",
    "            # Prepare a list of tokens, stripping punctuation\n",
    "            tokens = [token.lower().translate(str.maketrans('', '', string.punctuation)) for token, _ in sentence if token]\n",
    "            \n",
    "            # Generate n-grams up to the specified limit n\n",
    "            for n_ in range(1, n + 1):  # Loop through 1 to n (inclusive)\n",
    "                for n_gram in ngrams(tokens, n_):\n",
    "                    n_gram_str = ' '.join(n_gram)  # Concatenate n-gram tuple into a string\n",
    "                    ngram_counts[sentiment][n_gram_str] = ngram_counts[sentiment].get(n_gram_str, 0) + 1\n",
    "                    total_ngrams[sentiment] += 1\n",
    "\n",
    "    return ngram_counts, total_ngrams\n",
    "\n"
   ],
   "outputs": [],
   "execution_count": 23
  },
  {
   "cell_type": "code",
   "metadata": {
    "ExecuteTime": {
     "end_time": "2024-11-04T09:03:11.934392Z",
     "start_time": "2024-11-04T09:03:11.931417Z"
    }
   },
   "source": [
    "def evaluate_naive_bayes_ngrams(train_reviews, test_reviews, n):\n",
    "    \"\"\"\n",
    "    Train a Naive Bayes classifier using a specified likelihood function.\n",
    "    \n",
    "    :param train_reviews: The training reviews\n",
    "    :param likelihood_func: The likelihood function to use (with or without smoothing)\n",
    "    :return: Prior probabilities and word likelihoods\n",
    "    \"\"\"\n",
    "       # Calculate priors and likelihoods\n",
    "    prior_probabilities = class_prior_probability(train_reviews)\n",
    "    word_counts, total_words = get_features_ngrams(train_reviews, n)\n",
    "    word_likelihoods = calculate_likelihood(word_counts, total_words)\n",
    "    \n",
    "    # Training accuracy\n",
    "    train_true_labels = [review[\"sentiment\"] for review in train_reviews]\n",
    "    train_predicted_labels = [naive_bayes_prediction(review, prior_probabilities, word_likelihoods)\n",
    "                              for review in train_reviews]\n",
    "    train_accuracy = accuracy(train_true_labels, train_predicted_labels)\n",
    "    \n",
    "    # Test accuracy\n",
    "    test_true_labels = [review[\"sentiment\"] for review in test_reviews]\n",
    "    test_predicted_labels = [naive_bayes_prediction(review, prior_probabilities, word_likelihoods)\n",
    "                             for review in test_reviews]\n",
    "    test_accuracy = accuracy(test_true_labels, test_predicted_labels)\n",
    "    \n",
    "    return prior_probabilities, word_likelihoods, train_accuracy, test_accuracy\n",
    "\n",
    "# prior_probabilities, word_likelihoods, train_accuracy, test_accuracy = evaluate_naive_bayes_ngrams(train_reviews, test_reviews, 2)\n",
    "\n",
    "# print(test_accuracy)"
   ],
   "outputs": [],
   "execution_count": 24
  },
  {
   "cell_type": "code",
   "metadata": {
    "ExecuteTime": {
     "end_time": "2024-11-04T09:04:34.365511Z",
     "start_time": "2024-11-04T09:03:11.973474Z"
    }
   },
   "source": [
    "def cross_validate(data, n, num_folds=10):\n",
    "    \"\"\"\n",
    "    Performs 10-fold cross-validation using round-robin splitting for Naive Bayes.\n",
    "\n",
    "    :param data: list of samples, each with 'content' and 'sentiment' fields\n",
    "    :param num_folds: number of folds for cross-validation (default: 10)\n",
    "    :param kappa: smoothing parameter for Naive Bayes\n",
    "    :return: average accuracy across folds\n",
    "    \"\"\"\n",
    "    folds = round_robin_split(data, num_folds)\n",
    "    fold_accuracies = []\n",
    "    \n",
    "    for i in range(num_folds):\n",
    "        # Prepare training and testing sets for the current fold\n",
    "        test_data = folds[i]\n",
    "        train_data = [item for j, fold in enumerate(folds) if j != i for item in fold]\n",
    "        \n",
    "        # Evaluate Naive Bayes model using the provided evaluate function\n",
    "        _, _, train_accuracy, test_accuracy = evaluate_naive_bayes_ngrams(\n",
    "            train_data, test_data, n\n",
    "        )\n",
    "        \n",
    "        # Record the test accuracy for the current fold\n",
    "        fold_accuracies.append(test_accuracy)\n",
    "        print(f\"Fold {i+1} test accuracy: {test_accuracy:.3f}\")\n",
    "\n",
    "    # Calculate and report the average accuracy across folds\n",
    "    avg_accuracy = np.mean(fold_accuracies)\n",
    "\n",
    "    return avg_accuracy, fold_accuracies\n",
    "\n",
    "\n",
    "average_accuracy_bigrams, _ = cross_validate(reviews, 2, num_folds=10)\n",
    "\n",
    "\n",
    "average_accuracy_trigrams, _ = cross_validate(reviews, 3, num_folds=10)\n",
    "print(f\"Average cross-validation accuracy for unigrams + bigrams : {average_accuracy_bigrams:.3f}\")\n",
    "print(f\"Average cross-validation accuracy for  unigrams + bigrams + trigrams: {average_accuracy_trigrams:.3f}\")"
   ],
   "outputs": [
    {
     "name": "stdout",
     "output_type": "stream",
     "text": [
      "Fold 1 test accuracy: 0.765\n",
      "Fold 2 test accuracy: 0.820\n",
      "Fold 3 test accuracy: 0.790\n",
      "Fold 4 test accuracy: 0.865\n",
      "Fold 5 test accuracy: 0.810\n",
      "Fold 6 test accuracy: 0.845\n",
      "Fold 7 test accuracy: 0.815\n",
      "Fold 8 test accuracy: 0.790\n",
      "Fold 9 test accuracy: 0.835\n",
      "Fold 10 test accuracy: 0.785\n",
      "Fold 1 test accuracy: 0.765\n",
      "Fold 2 test accuracy: 0.815\n",
      "Fold 3 test accuracy: 0.775\n",
      "Fold 4 test accuracy: 0.850\n",
      "Fold 5 test accuracy: 0.800\n",
      "Fold 6 test accuracy: 0.845\n",
      "Fold 7 test accuracy: 0.805\n",
      "Fold 8 test accuracy: 0.790\n",
      "Fold 9 test accuracy: 0.820\n",
      "Fold 10 test accuracy: 0.780\n",
      "Average cross-validation accuracy for unigrams + bigrams : 0.812\n",
      "Average cross-validation accuracy for  unigrams + bigrams + trigrams: 0.804\n"
     ]
    }
   ],
   "execution_count": 25
  },
  {
   "cell_type": "markdown",
   "metadata": {
    "id": "dVrGGArkrWoL"
   },
   "source": [
    "\n",
    "#### Q2.10: How many features does the BoW model have to take into account now? (0.5pt)\n",
    "How would you expect the number of features to increase theoretically (e.g., linear, square, cubed, exponential)? How do the number of features increase in the held-out training set (compared to Q2.8)? Do you expect this rate of increase to continue for (much) larger n-grams?\n",
    "\n",
    "Use the held-out training set once again for this.\n"
   ]
  },
  {
   "cell_type": "markdown",
   "metadata": {
    "id": "yEGZ9SV8pPaa"
   },
   "source": [
    "Awnser: We theoretically expect the number to increase exponentially since we get .... ????????????"
   ]
  },
  {
   "cell_type": "code",
   "metadata": {
    "id": "_z8sAJeUrdtM",
    "ExecuteTime": {
     "end_time": "2024-11-04T09:04:41.181795Z",
     "start_time": "2024-11-04T09:04:34.421819Z"
    }
   },
   "source": [
    "# YOUR CODE HERE\n",
    "# Count features for unigrams\n",
    "feature_count_unigram, _ = get_features_ngrams(reviews, 1)\n",
    "total_features_unigrams = len(feature_count_unigram['POS']) + len(feature_count_unigram['NEG'])\n",
    "print(f\"Total number of features (unigrams): {total_features_unigrams}\")\n",
    "\n",
    "# Count features for unigrams + bigrams\n",
    "feature_count_unigram_bigram, _ = get_features_ngrams(reviews, 2)\n",
    "total_features_unigrams_bigrams = len(feature_count_unigram_bigram['POS']) + len(feature_count_unigram_bigram['NEG'])\n",
    "print(f\"Total number of features (unigrams + bigrams): {total_features_unigrams_bigrams}\")\n",
    "\n",
    "# Count features for unigrams + bigrams + trigrams\n",
    "feature_count_unigram_bigram_trigram, _ = get_features_ngrams(reviews, 3)\n",
    "total_features_unigrams_bigrams_trigrams = len(feature_count_unigram_bigram_trigram['POS']) + len(feature_count_unigram_bigram_trigram['NEG'])\n",
    "print(f\"Total number of features (unigrams + bigrams + trigrams): {total_features_unigrams_bigrams_trigrams}\")\n"
   ],
   "outputs": [
    {
     "name": "stdout",
     "output_type": "stream",
     "text": [
      "Total number of features (unigrams): 66513\n",
      "Total number of features (unigrams + bigrams): 574300\n",
      "Total number of features (unigrams + bigrams + trigrams): 1586543\n"
     ]
    }
   ],
   "execution_count": 26
  },
  {
   "cell_type": "markdown",
   "metadata": {
    "id": "CHWKDL3YV6vh"
   },
   "source": [
    "# (3) Support Vector Machines (4pts)"
   ]
  },
  {
   "cell_type": "markdown",
   "metadata": {
    "id": "hJSYhcVaoJGt"
   },
   "source": [
    "Though simple to understand, implement, and debug, one\n",
    "major problem with the Naive Bayes classifier is that its performance\n",
    "deteriorates (becomes skewed) when it is being used with features which\n",
    "are not independent (i.e., are correlated). Another popular classifier\n",
    "that doesn’t scale as well to big data, and is not as simple to debug as\n",
    "Naive Bayes, but that doesn’t assume feature independence is the Support\n",
    "Vector Machine (SVM) classifier.\n",
    "\n",
    "You can find more details about SVMs in Chapter 7 of Bishop: Pattern Recognition and Machine Learning.\n",
    "Other sources for learning SVM:\n",
    "* http://web.mit.edu/zoya/www/SVM.pdf\n",
    "* http://www.cs.columbia.edu/~kathy/cs4701/documents/jason_svm_tutorial.pdf\n",
    "* https://pythonprogramming.net/support-vector-machine-intro-machine-learning-tutorial/\n",
    "\n",
    "\n",
    "\n",
    "\n",
    "\n",
    "\n",
    "\n",
    "Use the scikit-learn implementation of\n",
    "[SVM](http://scikit-learn.org/stable/modules/svm.html) with the default parameters. (You are not expected to perform any hyperparameter tuning, but feel free to do it if you think it gives you good insights for the discussion in question 5.)\n",
    "\n"
   ]
  },
  {
   "cell_type": "markdown",
   "metadata": {
    "id": "0LnzNtQBV8gr"
   },
   "source": [
    "#### (Q3.1): Train SVM and compare to Naive Bayes (2pts)\n",
    "\n",
    "Train an SVM classifier (sklearn.svm.LinearSVC) using the features collected for Naive Bayes. Compare the\n",
    "classification performance of the SVM classifier to that of the Naive\n",
    "Bayes classifier with smoothing.\n",
    "Use cross-validation to evaluate the performance of the classifiers.\n",
    "\n"
   ]
  },
  {
   "cell_type": "code",
   "metadata": {
    "id": "JBscui8Mvoz0",
    "ExecuteTime": {
     "end_time": "2024-11-04T09:04:50.670814Z",
     "start_time": "2024-11-04T09:04:47.300874Z"
    }
   },
   "source": [
    "# YOUR CODE HERE\n",
    "from sklearn.feature_extraction.text import CountVectorizer\n",
    "from sklearn.naive_bayes import MultinomialNB\n",
    "from sklearn.svm import LinearSVC\n",
    "from sklearn.model_selection import cross_val_score\n",
    "\n",
    "# Prepare data for vectorization\n",
    "train_texts = [\" \".join([token.lower().translate(str.maketrans('', '', string.punctuation)) \n",
    "                         for sentence in review[\"content\"] for token, _ in sentence])\n",
    "               for review in train_reviews]\n",
    "test_texts = [\" \".join([token.lower().translate(str.maketrans('', '', string.punctuation)) \n",
    "                        for sentence in review[\"content\"] for token, _ in sentence])\n",
    "              for review in test_reviews]\n",
    "\n",
    "# Vectorize texts\n",
    "vectorizer = CountVectorizer()\n",
    "X_train = vectorizer.fit_transform(train_texts)\n",
    "y_train = [review[\"sentiment\"] for review in train_reviews]\n",
    "X_test = vectorizer.transform(test_texts)\n",
    "y_test = [review[\"sentiment\"] for review in test_reviews]\n",
    "\n",
    "# SVM with cross-validation\n",
    "svm_clf = LinearSVC()\n",
    "svm_scores = cross_val_score(svm_clf, X_train, y_train, cv=5)\n",
    "\n",
    "print(f\"SVM Mean CV Accuracy: {np.mean(svm_scores):.3f}\")\n"
   ],
   "outputs": [
    {
     "name": "stderr",
     "output_type": "stream",
     "text": [
      "/Users/pradyut.nair/miniconda3/envs/nlp/lib/python3.10/site-packages/sklearn/svm/_base.py:1235: ConvergenceWarning: Liblinear failed to converge, increase the number of iterations.\n",
      "  warnings.warn(\n",
      "/Users/pradyut.nair/miniconda3/envs/nlp/lib/python3.10/site-packages/sklearn/svm/_base.py:1235: ConvergenceWarning: Liblinear failed to converge, increase the number of iterations.\n",
      "  warnings.warn(\n"
     ]
    },
    {
     "name": "stdout",
     "output_type": "stream",
     "text": [
      "SVM Mean CV Accuracy: 0.823\n"
     ]
    },
    {
     "name": "stderr",
     "output_type": "stream",
     "text": [
      "/Users/pradyut.nair/miniconda3/envs/nlp/lib/python3.10/site-packages/sklearn/svm/_base.py:1235: ConvergenceWarning: Liblinear failed to converge, increase the number of iterations.\n",
      "  warnings.warn(\n"
     ]
    }
   ],
   "execution_count": 32
  },
  {
   "cell_type": "markdown",
   "metadata": {
    "id": "ifXVWcK0V9qY"
   },
   "source": [
    "### POS disambiguation (2pts)\n",
    "\n",
    "Now add in part-of-speech features. You will find the\n",
    "movie review dataset has already been POS-tagged for you ([here](https://catalog.ldc.upenn.edu/docs/LDC99T42/tagguid1.pdf) you find the tagset). Try to\n",
    "replicate the results obtained by Pang et al. (2002).\n",
    "\n"
   ]
  },
  {
   "cell_type": "markdown",
   "metadata": {
    "id": "xA3I82o4oWGu"
   },
   "source": [
    "####(Q3.2) Replace your features with word+POS features, and report performance with the SVM. Use cross-validation to evaluate the classifier and compare the results with (Q3.1). Does part-of-speech information help? Explain why this may be the case. (1pt)\n"
   ]
  },
  {
   "cell_type": "code",
   "metadata": {
    "id": "NOvjYe-t2Br6",
    "ExecuteTime": {
     "end_time": "2024-11-04T09:10:15.027334Z",
     "start_time": "2024-11-04T09:10:10.761040Z"
    }
   },
   "source": [
    "# YOUR CODE HERE\n",
    "\n",
    "def extract_word_pos(reviews):\n",
    "    \"\"\"\n",
    "    Extract the POS from content in review\n",
    "    \n",
    "    :param reviews: \n",
    "    :return: \n",
    "    \"\"\"\n",
    "    texts = []\n",
    "    for review in reviews:\n",
    "        text = []\n",
    "        for sentence in review[\"content\"]:\n",
    "            for token, pos in sentence:\n",
    "                if token:\n",
    "                    word_pos = f\"{token.lower().translate(str.maketrans('', '', string.punctuation))}_{pos}\"\n",
    "                    text.append(word_pos)\n",
    "        texts.append(\" \".join(text))\n",
    "    return texts\n",
    "\n",
    "# Prepare data for vectorization\n",
    "train_texts = extract_word_pos(train_reviews)\n",
    "test_texts = extract_word_pos(test_reviews)\n",
    "\n",
    "# Vectorize texts\n",
    "vectorizer = CountVectorizer()\n",
    "X_train = vectorizer.fit_transform(train_texts)\n",
    "y_train = [review[\"sentiment\"] for review in train_reviews]\n",
    "X_test = vectorizer.transform(test_texts)\n",
    "y_test = [review[\"sentiment\"] for review in test_reviews]\n",
    "\n",
    "# SVM with cross-validation\n",
    "svm_clf = LinearSVC()\n",
    "svm_scores = cross_val_score(svm_clf, X_train, y_train, cv=5)\n",
    "\n",
    "print(f\"SVM Mean CV Accuracy with word+POS features: {np.mean(svm_scores):.3f}\")"
   ],
   "outputs": [
    {
     "name": "stderr",
     "output_type": "stream",
     "text": [
      "/Users/pradyut.nair/miniconda3/envs/nlp/lib/python3.10/site-packages/sklearn/svm/_base.py:1235: ConvergenceWarning: Liblinear failed to converge, increase the number of iterations.\n",
      "  warnings.warn(\n",
      "/Users/pradyut.nair/miniconda3/envs/nlp/lib/python3.10/site-packages/sklearn/svm/_base.py:1235: ConvergenceWarning: Liblinear failed to converge, increase the number of iterations.\n",
      "  warnings.warn(\n"
     ]
    },
    {
     "name": "stdout",
     "output_type": "stream",
     "text": [
      "SVM Mean CV Accuracy with word+POS features: 0.834\n"
     ]
    },
    {
     "name": "stderr",
     "output_type": "stream",
     "text": [
      "/Users/pradyut.nair/miniconda3/envs/nlp/lib/python3.10/site-packages/sklearn/svm/_base.py:1235: ConvergenceWarning: Liblinear failed to converge, increase the number of iterations.\n",
      "  warnings.warn(\n"
     ]
    }
   ],
   "execution_count": 36
  },
  {
   "cell_type": "markdown",
   "metadata": {
    "id": "L0dt_oQupUNe"
   },
   "source": [
    "*Write your answer here.*"
   ]
  },
  {
   "cell_type": "markdown",
   "metadata": {
    "id": "Su-3w87eMW0w"
   },
   "source": [
    "#### (Q3.3) Discard all closed-class words from your data (keep only nouns, verbs, adjectives, and adverbs), and report performance. Does this help? Use cross-validation to evaluate the classifier and compare the results with (Q3.2). Are closed-class words detrimental to the classifier? Explain why this may be the case. (1pt)"
   ]
  },
  {
   "cell_type": "code",
   "metadata": {
    "id": "CCUPlPozCYUX",
    "ExecuteTime": {
     "end_time": "2024-11-04T09:20:48.251848Z",
     "start_time": "2024-11-04T09:20:45.216322Z"
    }
   },
   "source": [
    "def extract_non_closed_words(reviews):\n",
    "    \"\"\"\n",
    "    Discards all closed-class words\n",
    "    \n",
    "    :param reviews: List of reviews\n",
    "    :return: List of processed texts with only open-class words\n",
    "    \"\"\"\n",
    "    texts = []\n",
    "    # J = adjective, R = adverb, N = noun, V = verb\n",
    "    filter_condition = (\"J\", \"R\", \"N\", \"V\")\n",
    "    for review in reviews:\n",
    "        text = []\n",
    "        for sentence in review[\"content\"]:\n",
    "            for token, pos in sentence:\n",
    "                # Ensure that pos is not RP (particle)\n",
    "                if pos.startswith(filter_condition) and pos != \"RP\":\n",
    "                    if token:\n",
    "                        word_pos = f\"{token.lower().translate(str.maketrans('', '', string.punctuation))}_{pos}\"\n",
    "                        text.append(word_pos)\n",
    "        texts.append(\" \".join(text))\n",
    "    return texts\n",
    "\n",
    "# Prepare data for vectorization\n",
    "train_texts = extract_non_closed_words(train_reviews)\n",
    "test_texts = extract_non_closed_words(test_reviews)\n",
    "\n",
    "# Vectorize texts\n",
    "vectorizer = CountVectorizer()\n",
    "X_train = vectorizer.fit_transform(train_texts)\n",
    "y_train = [review[\"sentiment\"] for review in train_reviews]\n",
    "X_test = vectorizer.transform(test_texts)\n",
    "y_test = [review[\"sentiment\"] for review in test_reviews]\n",
    "\n",
    "# SVM with cross-validation\n",
    "svm_clf = LinearSVC()\n",
    "svm_scores = cross_val_score(svm_clf, X_train, y_train, cv=5)\n",
    "\n",
    "print(f\"SVM Mean CV Accuracy with non-closed-class words: {np.mean(svm_scores):.3f}\")"
   ],
   "outputs": [
    {
     "name": "stderr",
     "output_type": "stream",
     "text": [
      "/Users/pradyut.nair/miniconda3/envs/nlp/lib/python3.10/site-packages/sklearn/svm/_base.py:1235: ConvergenceWarning: Liblinear failed to converge, increase the number of iterations.\n",
      "  warnings.warn(\n",
      "/Users/pradyut.nair/miniconda3/envs/nlp/lib/python3.10/site-packages/sklearn/svm/_base.py:1235: ConvergenceWarning: Liblinear failed to converge, increase the number of iterations.\n",
      "  warnings.warn(\n"
     ]
    },
    {
     "name": "stdout",
     "output_type": "stream",
     "text": [
      "SVM Mean CV Accuracy with non-closed-class words: 0.838\n"
     ]
    },
    {
     "name": "stderr",
     "output_type": "stream",
     "text": [
      "/Users/pradyut.nair/miniconda3/envs/nlp/lib/python3.10/site-packages/sklearn/svm/_base.py:1235: ConvergenceWarning: Liblinear failed to converge, increase the number of iterations.\n",
      "  warnings.warn(\n"
     ]
    }
   ],
   "execution_count": 51
  },
  {
   "cell_type": "markdown",
   "metadata": {
    "id": "YaxCVrs8pWSp"
   },
   "source": [
    "*Write your answer here.*"
   ]
  },
  {
   "cell_type": "markdown",
   "metadata": {
    "id": "nfwqOciAl2No"
   },
   "source": [
    "# (4) Discussion (max. 500 words). (5pts)\n",
    "\n",
    "> Based on your experiments, what are the effective features and techniques in sentiment analysis? What information do different features encode?\n",
    "Why is this important? What are the limitations of these features and techniques?\n",
    "\n"
   ]
  },
  {
   "cell_type": "markdown",
   "metadata": {
    "id": "ZYuse5WLmekZ"
   },
   "source": [
    "*Write your answer here in up to 500 words (-0.25pt for >50 extra words, -0.5 points for >100 extra words, ...)*.\n"
   ]
  },
  {
   "cell_type": "markdown",
   "metadata": {
    "id": "iwaKwfWQhRk_"
   },
   "source": [
    "# Submission\n"
   ]
  },
  {
   "cell_type": "code",
   "metadata": {
    "id": "aOUeaET5ijk-",
    "ExecuteTime": {
     "end_time": "2024-11-04T09:04:45.957339Z",
     "start_time": "2024-11-04T09:04:45.955677Z"
    }
   },
   "source": [
    "# Write your names and student numbers here:\n",
    "# Student 1 #12345\n",
    "# Student 2 #12345"
   ],
   "outputs": [],
   "execution_count": 30
  },
  {
   "cell_type": "markdown",
   "metadata": {
    "id": "3A9K-H6Tii3X"
   },
   "source": [
    "**That's it!**\n",
    "\n",
    "- Check if you answered all questions fully and correctly.\n",
    "- Download your completed notebook using `File -> Download .ipynb`\n",
    "- Check if your answers are all included in the file you submit.\n",
    "- Submit your .ipynb file via *Canvas*. One submission per group."
   ]
  },
  {
   "cell_type": "code",
   "metadata": {
    "id": "YHslatYAKBrF",
    "ExecuteTime": {
     "end_time": "2024-11-04T09:04:46.286398Z",
     "start_time": "2024-11-04T09:04:46.285011Z"
    }
   },
   "source": [],
   "outputs": [],
   "execution_count": null
  }
 ],
 "metadata": {
  "colab": {
   "provenance": []
  },
  "kernelspec": {
   "display_name": "base",
   "language": "python",
   "name": "python3"
  },
  "language_info": {
   "codemirror_mode": {
    "name": "ipython",
    "version": 3
   },
   "file_extension": ".py",
   "mimetype": "text/x-python",
   "name": "python",
   "nbconvert_exporter": "python",
   "pygments_lexer": "ipython3",
   "version": "3.12.7"
  }
 },
 "nbformat": 4,
 "nbformat_minor": 0
}
